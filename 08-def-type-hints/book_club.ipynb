{
 "cells": [
  {
   "cell_type": "markdown",
   "id": "60df1a49",
   "metadata": {},
   "source": [
    "# Type Hints in Functions\n",
    "\n",
    "Example 8-1. `show_count` from messages.py without type hints"
   ]
  },
  {
   "cell_type": "code",
   "execution_count": 1,
   "id": "03e9e36f",
   "metadata": {},
   "outputs": [],
   "source": [
    "from __future__ import annotations\n",
    "\n",
    "\"\"\"\n",
    "Goal: type the function with the following behavior\n",
    ">>> show_count(99, \"bird\")\n",
    "'99 birds'\n",
    ">>> show_count(1, \"bird\")\n",
    "'1 bird'\n",
    ">>> show_count(0, \"bird\")\n",
    "'no birds'\n",
    "\"\"\"\n",
    "\n",
    "def show_count(count: int, word: str) -> str:\n",
    "    if count == 1:\n",
    "        return f'1 {word}'\n",
    "    count_str = str(count) if count else 'no'\n",
    "    return f'{count_str} {word}s'"
   ]
  },
  {
   "cell_type": "code",
   "execution_count": 2,
   "id": "f96b91f5",
   "metadata": {},
   "outputs": [
    {
     "name": "stdout",
     "output_type": "stream",
     "text": [
      "Looking in indexes: https://pypi.org/simple, https://pypi.ngc.nvidia.com\r\n",
      "Requirement already satisfied: mypy in /Users/jamiebrandon/Code/book-club/example-code-2e/venv310/lib/python3.10/site-packages (1.1.1)\r\n",
      "Requirement already satisfied: mypy-extensions>=1.0.0 in /Users/jamiebrandon/Code/book-club/example-code-2e/venv310/lib/python3.10/site-packages (from mypy) (1.0.0)\r\n",
      "Requirement already satisfied: typing-extensions>=3.10 in /Users/jamiebrandon/Code/book-club/example-code-2e/venv310/lib/python3.10/site-packages (from mypy) (4.5.0)\r\n",
      "Requirement already satisfied: tomli>=1.1.0 in /Users/jamiebrandon/Code/book-club/example-code-2e/venv310/lib/python3.10/site-packages (from mypy) (2.0.1)\r\n",
      "\r\n",
      "\u001B[1m[\u001B[0m\u001B[34;49mnotice\u001B[0m\u001B[1;39;49m]\u001B[0m\u001B[39;49m A new release of pip is available: \u001B[0m\u001B[31;49m23.0.1\u001B[0m\u001B[39;49m -> \u001B[0m\u001B[32;49m23.1\u001B[0m\r\n",
      "\u001B[1m[\u001B[0m\u001B[34;49mnotice\u001B[0m\u001B[1;39;49m]\u001B[0m\u001B[39;49m To update, run: \u001B[0m\u001B[32;49mpip install --upgrade pip\u001B[0m\r\n"
     ]
    }
   ],
   "source": [
    "! pip install mypy"
   ]
  },
  {
   "cell_type": "code",
   "execution_count": 3,
   "id": "8b1a4abd",
   "metadata": {},
   "outputs": [
    {
     "name": "stdout",
     "output_type": "stream",
     "text": [
      "messages/no_hints/messages.py:14: \u001B[1m\u001B[31merror:\u001B[m Function is missing a return type annotation  \u001B[m\u001B[33m[no-untyped-def]\u001B[m\r\n",
      "messages/no_hints/messages.py:14: \u001B[1m\u001B[31merror:\u001B[m Function is missing a type annotation for one or more arguments  \u001B[m\u001B[33m[no-untyped-def]\u001B[m\r\n",
      "\u001B[1m\u001B[31mFound 2 errors in 1 file (checked 1 source file)\u001B[m\r\n"
     ]
    }
   ],
   "source": [
    "! mypy ./messages/no_hints/messages.py"
   ]
  },
  {
   "cell_type": "markdown",
   "id": "a03c680a",
   "metadata": {},
   "source": [
    "Why do we see success here if mypy is a type checker and this function is not typed?"
   ]
  },
  {
   "cell_type": "markdown",
   "id": "973aea2d",
   "metadata": {},
   "source": [
    "   Example 8-2. `messages_test.py` without type hints\n",
    "   "
   ]
  },
  {
   "cell_type": "code",
   "execution_count": 4,
   "id": "4046d7d1",
   "metadata": {},
   "outputs": [],
   "source": [
    "from pytest import mark\n",
    "\n",
    "@mark.parametrize('qty, expected', [\n",
    "    (1, '1 part'),\n",
    "    (2, '2 parts'),\n",
    "])\n",
    "def test_show_count(qty, expected):\n",
    "    got = show_count(qty, 'part')\n",
    "    assert got == expected\n",
    "\n",
    "def test_show_count_zero():\n",
    "    got = show_count(0, 'part')\n",
    "    assert got == 'no parts'\n"
   ]
  },
  {
   "cell_type": "code",
   "execution_count": 5,
   "id": "3bfa127f",
   "metadata": {},
   "outputs": [
    {
     "name": "stdout",
     "output_type": "stream",
     "text": [
      "messages/no_hints/messages_test.py:9: \u001B[1m\u001B[31merror:\u001B[m Function is missing a type annotation  \u001B[m\u001B[33m[no-untyped-def]\u001B[m\r\n",
      "messages/no_hints/messages_test.py:13: \u001B[1m\u001B[31merror:\u001B[m Function is missing a return type annotation  \u001B[m\u001B[33m[no-untyped-def]\u001B[m\r\n",
      "messages/no_hints/messages_test.py:13: \u001B[34mnote:\u001B[m Use \u001B[m\u001B[1m\"-> None\"\u001B[m if function does not return a value\u001B[m\r\n",
      "\u001B[1m\u001B[31mFound 2 errors in 1 file (checked 1 source file)\u001B[m\r\n"
     ]
    }
   ],
   "source": [
    "! mypy --disallow-untyped-defs messages/no_hints/messages_test.py"
   ]
  },
  {
   "cell_type": "markdown",
   "id": "ed8baa5f",
   "metadata": {},
   "source": [
    "Now that we know where our untyped functions are, we can annotate them.\n",
    "\n",
    "Outside the context of book club, you'll probably never use the command line arguments for mypy. You'll use a configuration file.\n",
    "\n",
    "```\n",
    "[mypy]\n",
    "python_version = 3.9\n",
    "warn_unused_configs = True\n",
    "disallow_incomplete_defs = True\n",
    "```"
   ]
  },
  {
   "cell_type": "markdown",
   "id": "1f73c5c4",
   "metadata": {},
   "source": [
    "The `show_count` function only works with regular nouns. Let's add an optional parameter for the plural form to be given. \n",
    "```python\n",
    ">>> show_count(3, 'mouse', 'mice')\n",
    "'3 mice'\n",
    "```"
   ]
  },
  {
   "cell_type": "markdown",
   "id": "822a2fd7",
   "metadata": {},
   "source": [
    "### A Default Parameter Value\n",
    "\n",
    "Example 8-3. `show_count` from hints_2/messages.py with an optional parameter"
   ]
  },
  {
   "cell_type": "code",
   "execution_count": 6,
   "id": "2abb3989",
   "metadata": {},
   "outputs": [
    {
     "data": {
      "text/plain": "'2 mice'"
     },
     "execution_count": 6,
     "metadata": {},
     "output_type": "execute_result"
    }
   ],
   "source": [
    "def show_count(count: int, singular: str, plural: str = '') -> str:\n",
    "    if count == 1:\n",
    "        return f'1 {singular}'\n",
    "    count_str = str(count) if count else 'no'\n",
    "    if not plural:\n",
    "        plural = singular + 's'\n",
    "    return f'{count_str} {plural}'\n",
    "\n",
    "show_count(2, \"mouse\", plural=\"mice\")"
   ]
  },
  {
   "cell_type": "code",
   "execution_count": 7,
   "id": "b6886b4d",
   "metadata": {},
   "outputs": [
    {
     "name": "stdout",
     "output_type": "stream",
     "text": [
      "\u001B[1m\u001B[32mSuccess: no issues found in 1 source file\u001B[m\r\n"
     ]
    }
   ],
   "source": [
    "! mypy messages/hints_2/messages.py"
   ]
  },
  {
   "cell_type": "markdown",
   "id": "5b631930",
   "metadata": {},
   "source": [
    "The next cell has an error. Where is it?"
   ]
  },
  {
   "cell_type": "code",
   "execution_count": 8,
   "id": "331a4777",
   "metadata": {},
   "outputs": [],
   "source": [
    "\n",
    "def hex2rgb(color=str) -> tuple[int, int, int]:\n",
    "    ...\n",
    "    pass"
   ]
  },
  {
   "cell_type": "markdown",
   "id": "c76a2fa0",
   "metadata": {},
   "source": [
    "## Using None as Default"
   ]
  },
  {
   "cell_type": "code",
   "execution_count": 9,
   "outputs": [],
   "source": [
    "# how can we add typing for `plural`?\n",
    "from __future__ import annotations\n",
    "\n",
    "\n",
    "def show_count(count: int, singular: str, plural: str | None = None):\n",
    "    pass"
   ],
   "metadata": {
    "collapsed": false
   }
  },
  {
   "cell_type": "markdown",
   "id": "0b7df12e",
   "metadata": {},
   "source": [
    "## Types are Defined by Supported Operations"
   ]
  },
  {
   "cell_type": "code",
   "execution_count": 10,
   "id": "bf7bfe80",
   "metadata": {},
   "outputs": [
    {
     "data": {
      "text/plain": "['1', '2', '3', '1', '2', '3']"
     },
     "execution_count": 10,
     "metadata": {},
     "output_type": "execute_result"
    }
   ],
   "source": [
    "def double(x):\n",
    "    return x * 2\n",
    "\n",
    "double(['1', '2', '3'])"
   ]
  },
  {
   "cell_type": "code",
   "execution_count": 11,
   "id": "7fca27fa",
   "metadata": {},
   "outputs": [],
   "source": [
    "from collections import abc\n",
    "\n",
    "def double(x: abc.Sequence):\n",
    "    return x * 2"
   ]
  },
  {
   "cell_type": "markdown",
   "source": [
    "A type checker will reject that code because `abc.Sequence` does not implement or inherit the `__mul__` method.\n",
    "\n",
    "But at run time, the code works without errors."
   ],
   "metadata": {
    "collapsed": false
   }
  },
  {
   "cell_type": "code",
   "execution_count": 12,
   "outputs": [
    {
     "data": {
      "text/plain": "[1, 1]"
     },
     "execution_count": 12,
     "metadata": {},
     "output_type": "execute_result"
    }
   ],
   "source": [
    "double([1])"
   ],
   "metadata": {
    "collapsed": false
   }
  },
  {
   "cell_type": "markdown",
   "source": [
    "Two different views of types are interfering with each other.\n",
    "\n",
    "- Duck typing\n",
    "- Nominal typing"
   ],
   "metadata": {
    "collapsed": false
   }
  },
  {
   "cell_type": "markdown",
   "id": "d5f9d893",
   "metadata": {},
   "source": [
    "Example 8-4. `birds.py`"
   ]
  },
  {
   "cell_type": "code",
   "execution_count": 13,
   "id": "3939d598",
   "metadata": {},
   "outputs": [],
   "source": [
    "class Bird:\n",
    "    pass\n",
    "\n",
    "class Duck(Bird):  # <1>\n",
    "    def quack(self):\n",
    "        print('Quack!')\n",
    "\n",
    "def alert(birdie):  # <2>\n",
    "    birdie.quack()\n",
    "\n",
    "def alert_duck(birdie: Duck) -> None:  # <3>\n",
    "    birdie.quack()\n",
    "\n",
    "def alert_bird(birdie: Bird) -> None:  # <4>\n",
    "    birdie.quack()\n"
   ]
  },
  {
   "cell_type": "code",
   "execution_count": 14,
   "outputs": [
    {
     "name": "stdout",
     "output_type": "stream",
     "text": [
      "birds/birds.py:15: \u001B[1m\u001B[31merror:\u001B[m \u001B[m\u001B[1m\"Bird\"\u001B[m has no attribute \u001B[m\u001B[1m\"quack\"\u001B[m  \u001B[m\u001B[33m[attr-defined]\u001B[m\r\n",
      "\u001B[1m\u001B[31mFound 1 error in 1 file (checked 1 source file)\u001B[m\r\n"
     ]
    }
   ],
   "source": [
    "! mypy birds/birds.py"
   ],
   "metadata": {
    "collapsed": false
   }
  },
  {
   "cell_type": "markdown",
   "id": "5f573585",
   "metadata": {},
   "source": [
    "Example 8-5. `daffy.py`"
   ]
  },
  {
   "cell_type": "code",
   "execution_count": 15,
   "id": "53a070d1",
   "metadata": {},
   "outputs": [
    {
     "name": "stdout",
     "output_type": "stream",
     "text": [
      "Quack!\n",
      "Quack!\n",
      "Quack!\n"
     ]
    }
   ],
   "source": [
    "daffy = Duck()\n",
    "alert(daffy)       # <1>\n",
    "alert_duck(daffy)  # <2>\n",
    "alert_bird(daffy)"
   ]
  },
  {
   "cell_type": "code",
   "execution_count": 16,
   "id": "573f38bc",
   "metadata": {},
   "outputs": [
    {
     "name": "stdout",
     "output_type": "stream",
     "text": [
      "\u001B[1m\u001B[32mSuccess: no issues found in 1 source file\u001B[m\r\n"
     ]
    }
   ],
   "source": [
    "! mypy birds/daffy.py"
   ]
  },
  {
   "cell_type": "markdown",
   "id": "0a754999",
   "metadata": {},
   "source": [
    "No problem with `daffy.py`. Only with `birds.py`."
   ]
  },
  {
   "cell_type": "markdown",
   "id": "4355424f",
   "metadata": {},
   "source": [
    "Example 8-6. `woody.py`"
   ]
  },
  {
   "cell_type": "code",
   "execution_count": 17,
   "id": "c3d2a877",
   "metadata": {},
   "outputs": [
    {
     "ename": "AttributeError",
     "evalue": "'Bird' object has no attribute 'quack'",
     "output_type": "error",
     "traceback": [
      "\u001B[0;31m---------------------------------------------------------------------------\u001B[0m",
      "\u001B[0;31mAttributeError\u001B[0m                            Traceback (most recent call last)",
      "Cell \u001B[0;32mIn[17], line 2\u001B[0m\n\u001B[1;32m      1\u001B[0m woody \u001B[38;5;241m=\u001B[39m Bird()\n\u001B[0;32m----> 2\u001B[0m \u001B[43malert\u001B[49m\u001B[43m(\u001B[49m\u001B[43mwoody\u001B[49m\u001B[43m)\u001B[49m\n\u001B[1;32m      3\u001B[0m alert_duck(woody)\n\u001B[1;32m      4\u001B[0m alert_bird(woody)\n",
      "Cell \u001B[0;32mIn[13], line 9\u001B[0m, in \u001B[0;36malert\u001B[0;34m(birdie)\u001B[0m\n\u001B[1;32m      8\u001B[0m \u001B[38;5;28;01mdef\u001B[39;00m \u001B[38;5;21malert\u001B[39m(birdie):  \u001B[38;5;66;03m# <2>\u001B[39;00m\n\u001B[0;32m----> 9\u001B[0m     \u001B[43mbirdie\u001B[49m\u001B[38;5;241;43m.\u001B[39;49m\u001B[43mquack\u001B[49m()\n",
      "\u001B[0;31mAttributeError\u001B[0m: 'Bird' object has no attribute 'quack'"
     ]
    }
   ],
   "source": [
    "woody = Bird()\n",
    "alert(woody)\n",
    "alert_duck(woody)\n",
    "alert_bird(woody)"
   ]
  },
  {
   "cell_type": "code",
   "execution_count": 18,
   "id": "d37e2242",
   "metadata": {},
   "outputs": [
    {
     "name": "stdout",
     "output_type": "stream",
     "text": [
      "birds/woody.py:5: \u001B[1m\u001B[31merror:\u001B[m Argument 1 to \u001B[m\u001B[1m\"alert_duck\"\u001B[m has incompatible type \u001B[m\u001B[1m\"Bird\"\u001B[m; expected \u001B[m\u001B[1m\"Duck\"\u001B[m  \u001B[m\u001B[33m[arg-type]\u001B[m\r\n",
      "\u001B[1m\u001B[31mFound 1 error in 1 file (checked 1 source file)\u001B[m\r\n"
     ]
    }
   ],
   "source": [
    "! mypy birds/woody.py"
   ]
  },
  {
   "cell_type": "markdown",
   "id": "d46d4704",
   "metadata": {},
   "source": [
    "Example 8-7. Runtime errors and how Mypy could have helped"
   ]
  },
  {
   "cell_type": "code",
   "execution_count": 19,
   "id": "dc393e45",
   "metadata": {},
   "outputs": [
    {
     "ename": "AttributeError",
     "evalue": "'Bird' object has no attribute 'quack'",
     "output_type": "error",
     "traceback": [
      "\u001B[0;31m---------------------------------------------------------------------------\u001B[0m",
      "\u001B[0;31mAttributeError\u001B[0m                            Traceback (most recent call last)",
      "Cell \u001B[0;32mIn[19], line 3\u001B[0m\n\u001B[1;32m      1\u001B[0m \u001B[38;5;66;03m# Mypy could not detect this error because there are no type hints in `alert`\u001B[39;00m\n\u001B[1;32m      2\u001B[0m woody \u001B[38;5;241m=\u001B[39m Bird()\n\u001B[0;32m----> 3\u001B[0m \u001B[43malert\u001B[49m\u001B[43m(\u001B[49m\u001B[43mwoody\u001B[49m\u001B[43m)\u001B[49m\n",
      "Cell \u001B[0;32mIn[13], line 9\u001B[0m, in \u001B[0;36malert\u001B[0;34m(birdie)\u001B[0m\n\u001B[1;32m      8\u001B[0m \u001B[38;5;28;01mdef\u001B[39;00m \u001B[38;5;21malert\u001B[39m(birdie):  \u001B[38;5;66;03m# <2>\u001B[39;00m\n\u001B[0;32m----> 9\u001B[0m     \u001B[43mbirdie\u001B[49m\u001B[38;5;241;43m.\u001B[39;49m\u001B[43mquack\u001B[49m()\n",
      "\u001B[0;31mAttributeError\u001B[0m: 'Bird' object has no attribute 'quack'"
     ]
    }
   ],
   "source": [
    "# Mypy could not detect this error because there are no type hints in `alert`\n",
    "woody = Bird()\n",
    "alert(woody)"
   ]
  },
  {
   "cell_type": "code",
   "execution_count": 20,
   "id": "231589f7",
   "metadata": {},
   "outputs": [
    {
     "ename": "AttributeError",
     "evalue": "'Bird' object has no attribute 'quack'",
     "output_type": "error",
     "traceback": [
      "\u001B[0;31m---------------------------------------------------------------------------\u001B[0m",
      "\u001B[0;31mAttributeError\u001B[0m                            Traceback (most recent call last)",
      "Cell \u001B[0;32mIn[20], line 2\u001B[0m\n\u001B[1;32m      1\u001B[0m \u001B[38;5;66;03m# Mypy reported the problem before runtime!\u001B[39;00m\n\u001B[0;32m----> 2\u001B[0m \u001B[43malert_duck\u001B[49m\u001B[43m(\u001B[49m\u001B[43mwoody\u001B[49m\u001B[43m)\u001B[49m\n",
      "Cell \u001B[0;32mIn[13], line 12\u001B[0m, in \u001B[0;36malert_duck\u001B[0;34m(birdie)\u001B[0m\n\u001B[1;32m     11\u001B[0m \u001B[38;5;28;01mdef\u001B[39;00m \u001B[38;5;21malert_duck\u001B[39m(birdie: Duck) \u001B[38;5;241m-\u001B[39m\u001B[38;5;241m>\u001B[39m \u001B[38;5;28;01mNone\u001B[39;00m:  \u001B[38;5;66;03m# <3>\u001B[39;00m\n\u001B[0;32m---> 12\u001B[0m     \u001B[43mbirdie\u001B[49m\u001B[38;5;241;43m.\u001B[39;49m\u001B[43mquack\u001B[49m()\n",
      "\u001B[0;31mAttributeError\u001B[0m: 'Bird' object has no attribute 'quack'"
     ]
    }
   ],
   "source": [
    "# Mypy reported the problem before runtime!\n",
    "alert_duck(woody)"
   ]
  },
  {
   "cell_type": "code",
   "execution_count": 21,
   "id": "76412d13",
   "metadata": {},
   "outputs": [
    {
     "ename": "AttributeError",
     "evalue": "'Bird' object has no attribute 'quack'",
     "output_type": "error",
     "traceback": [
      "\u001B[0;31m---------------------------------------------------------------------------\u001B[0m",
      "\u001B[0;31mAttributeError\u001B[0m                            Traceback (most recent call last)",
      "Cell \u001B[0;32mIn[21], line 3\u001B[0m\n\u001B[1;32m      1\u001B[0m \u001B[38;5;66;03m# Mypy has been telling us since example 8-4 that the body of the `alert_bird` function is wrong: \"Bird\" has no attribute \"quack\"\u001B[39;00m\n\u001B[0;32m----> 3\u001B[0m \u001B[43malert_bird\u001B[49m\u001B[43m(\u001B[49m\u001B[43mwoody\u001B[49m\u001B[43m)\u001B[49m\n",
      "Cell \u001B[0;32mIn[13], line 15\u001B[0m, in \u001B[0;36malert_bird\u001B[0;34m(birdie)\u001B[0m\n\u001B[1;32m     14\u001B[0m \u001B[38;5;28;01mdef\u001B[39;00m \u001B[38;5;21malert_bird\u001B[39m(birdie: Bird) \u001B[38;5;241m-\u001B[39m\u001B[38;5;241m>\u001B[39m \u001B[38;5;28;01mNone\u001B[39;00m:  \u001B[38;5;66;03m# <4>\u001B[39;00m\n\u001B[0;32m---> 15\u001B[0m     \u001B[43mbirdie\u001B[49m\u001B[38;5;241;43m.\u001B[39;49m\u001B[43mquack\u001B[49m()\n",
      "\u001B[0;31mAttributeError\u001B[0m: 'Bird' object has no attribute 'quack'"
     ]
    }
   ],
   "source": [
    "# Mypy has been telling us since example 8-4 that the body of the `alert_bird` function is wrong: \"Bird\" has no attribute \"quack\"\n",
    "\n",
    "alert_bird(woody)"
   ]
  },
  {
   "cell_type": "markdown",
   "id": "e23a5321",
   "metadata": {},
   "source": [
    "## Types Usable in Annotations\n",
    "\n",
    "Be conservative in what you send, be liberal with what you accept.\n",
    "-- Postel's law, aka the Robustness Principle"
   ]
  },
  {
   "cell_type": "markdown",
   "id": "a0a55171",
   "metadata": {},
   "source": [
    "Example 8-15. `replacer.py`"
   ]
  },
  {
   "cell_type": "code",
   "execution_count": 22,
   "id": "d7db2a42",
   "metadata": {},
   "outputs": [],
   "source": [
    "from collections.abc import Iterable\n",
    "\n",
    "FromTo = tuple[str, str]  # type alias to make signature more readable\n",
    "\n",
    "def zip_replace(text: str, changes: Iterable[FromTo]) -> str:\n",
    "    for from_, to in changes:\n",
    "        text = text.replace(from_, to)\n",
    "    return text"
   ]
  },
  {
   "cell_type": "code",
   "execution_count": 23,
   "id": "0eb450dd",
   "metadata": {},
   "outputs": [
    {
     "data": {
      "text/plain": "'Hi Jamie'"
     },
     "execution_count": 23,
     "metadata": {},
     "output_type": "execute_result"
    }
   ],
   "source": [
    "zip_replace(\"Hi there\", [(\"there\", \"Jamie\")])"
   ]
  },
  {
   "cell_type": "code",
   "execution_count": 24,
   "id": "695cd4dd",
   "metadata": {},
   "outputs": [
    {
     "data": {
      "text/plain": "'Hi Jamie'"
     },
     "execution_count": 24,
     "metadata": {},
     "output_type": "execute_result"
    }
   ],
   "source": [
    "zip_replace(\"Hi there\", {(\"there\", \"Jamie\")})"
   ]
  },
  {
   "cell_type": "code",
   "execution_count": 25,
   "outputs": [
    {
     "ename": "TypeError",
     "evalue": "'tuple' object does not support item assignment",
     "output_type": "error",
     "traceback": [
      "\u001B[0;31m---------------------------------------------------------------------------\u001B[0m",
      "\u001B[0;31mTypeError\u001B[0m                                 Traceback (most recent call last)",
      "Cell \u001B[0;32mIn[25], line 2\u001B[0m\n\u001B[1;32m      1\u001B[0m tup \u001B[38;5;241m=\u001B[39m (\u001B[38;5;241m1\u001B[39m, \u001B[38;5;241m2\u001B[39m)\n\u001B[0;32m----> 2\u001B[0m \u001B[43mtup\u001B[49m\u001B[43m[\u001B[49m\u001B[38;5;241;43m0\u001B[39;49m\u001B[43m]\u001B[49m \u001B[38;5;241m=\u001B[39m \u001B[38;5;241m2\u001B[39m\n",
      "\u001B[0;31mTypeError\u001B[0m: 'tuple' object does not support item assignment"
     ]
    }
   ],
   "source": [
    "tup = (1, 2)\n",
    "tup[0] = 2"
   ],
   "metadata": {
    "collapsed": false
   }
  },
  {
   "cell_type": "markdown",
   "id": "de10df8c",
   "metadata": {},
   "source": [
    "## Parameterized Generics and TypeVar"
   ]
  },
  {
   "cell_type": "markdown",
   "id": "7db1ee83",
   "metadata": {},
   "source": [
    "Example 8-16. `sample.py`"
   ]
  },
  {
   "cell_type": "code",
   "execution_count": 26,
   "id": "d2421704",
   "metadata": {},
   "outputs": [],
   "source": [
    "\n",
    "from collections.abc import Sequence\n",
    "from random import shuffle\n",
    "from typing import TypeVar\n",
    "\n",
    "T = TypeVar('T')\n",
    "\n",
    "def sample(population: Sequence[T], size: int) -> list[T]:\n",
    "    if size < 1:\n",
    "        raise ValueError('size must be >= 1')\n",
    "    result = list(population)\n",
    "    shuffle(result)\n",
    "    return result[:size]"
   ]
  },
  {
   "cell_type": "code",
   "execution_count": 28,
   "id": "50a818b3",
   "metadata": {},
   "outputs": [
    {
     "data": {
      "text/plain": "['cow', 2]"
     },
     "execution_count": 28,
     "metadata": {},
     "output_type": "execute_result"
    }
   ],
   "source": [
    "sample([\"horse\", \"fish\", \"dolphin\", \"cow\", \"cat\"], 2)"
   ]
  },
  {
   "cell_type": "code",
   "execution_count": 29,
   "id": "403f9d85",
   "metadata": {},
   "outputs": [
    {
     "data": {
      "text/plain": "['i', 't']"
     },
     "execution_count": 29,
     "metadata": {},
     "output_type": "execute_result"
    }
   ],
   "source": [
    "sample(\"all the letters in the string\", 2)"
   ]
  },
  {
   "cell_type": "markdown",
   "id": "278e1d74",
   "metadata": {},
   "source": [
    "Example 8-17. mode that operates on float and subtypes"
   ]
  },
  {
   "cell_type": "code",
   "execution_count": 34,
   "id": "add8dde3",
   "metadata": {},
   "outputs": [],
   "source": [
    "from collections import Counter\n",
    "from collections.abc import Iterable\n",
    "\n",
    "def mode(data: Iterable[float]) -> float:\n",
    "    pairs = Counter(data).most_common(1)\n",
    "    if len(pairs) == 0:\n",
    "        raise ValueError(\"no mode for empty data\")\n",
    "    return pairs[0][0]"
   ]
  },
  {
   "cell_type": "code",
   "execution_count": 35,
   "id": "bf2fd5a8",
   "metadata": {},
   "outputs": [
    {
     "data": {
      "text/plain": "1"
     },
     "execution_count": 35,
     "metadata": {},
     "output_type": "execute_result"
    }
   ],
   "source": [
    "mode([1, 1, 1, 2, 2, 3])"
   ]
  },
  {
   "cell_type": "markdown",
   "id": "d1cad8a3",
   "metadata": {},
   "source": [
    "Let's improve the function using TypeVar"
   ]
  },
  {
   "cell_type": "code",
   "execution_count": 36,
   "id": "a7060529",
   "metadata": {},
   "outputs": [],
   "source": [
    "from collections.abc import Iterable\n",
    "from typing import TypeVar\n",
    "\n",
    "T = TypeVar('T')\n",
    "\n",
    "def mode(data: Iterable[T]) -> T:\n",
    "    ...\n",
    "    pass"
   ]
  },
  {
   "cell_type": "markdown",
   "id": "d01042c2",
   "metadata": {},
   "source": [
    "The problem: we can't _really_ accept any value in the iterable. Since we're using counter, we can only accept hashable types. \n",
    "\n",
    "The solution: Restricted TypeVar"
   ]
  },
  {
   "cell_type": "code",
   "execution_count": 37,
   "id": "4162b69f",
   "metadata": {},
   "outputs": [],
   "source": [
    "from decimal import Decimal\n",
    "from fractions import Fraction\n",
    "\n",
    "NumberT = TypeVar('NumberT', float, Decimal, Fraction)\n",
    "\n",
    "def mode(data: Iterable[NumberT]) -> NumberT:\n",
    "    pairs = Counter(data).most_common(1)\n",
    "    if len(pairs) == 0:\n",
    "        raise ValueError(\"no mode for empty data\")\n",
    "    return pairs[0][0]"
   ]
  },
  {
   "cell_type": "code",
   "execution_count": 38,
   "outputs": [
    {
     "data": {
      "text/plain": "'a'"
     },
     "execution_count": 38,
     "metadata": {},
     "output_type": "execute_result"
    }
   ],
   "source": [
    "mode([\"a\", \"a\", \"a\", \"b\"])"
   ],
   "metadata": {
    "collapsed": false
   }
  },
  {
   "cell_type": "markdown",
   "id": "47850564",
   "metadata": {},
   "source": [
    "What if we wanted to include strings too? We could add this type, but then `NumberT` is poorly named. We can do better with Bounded TypeVar."
   ]
  },
  {
   "cell_type": "code",
   "execution_count": 40,
   "id": "8eff89b3",
   "metadata": {},
   "outputs": [],
   "source": [
    "from collections.abc import Iterable, Hashable\n",
    "\n",
    "def mode(data: Iterable[Hashable]) -> Hashable:\n",
    "    pass"
   ]
  },
  {
   "cell_type": "markdown",
   "id": "03c35a89",
   "metadata": {},
   "source": [
    "This return type is not very useful. "
   ]
  },
  {
   "cell_type": "code",
   "execution_count": 45,
   "id": "091b4ff9",
   "metadata": {},
   "outputs": [
    {
     "ename": "TypeError",
     "evalue": "unhashable type: 'list'",
     "output_type": "error",
     "traceback": [
      "\u001B[0;31m---------------------------------------------------------------------------\u001B[0m",
      "\u001B[0;31mTypeError\u001B[0m                                 Traceback (most recent call last)",
      "Cell \u001B[0;32mIn[45], line 12\u001B[0m\n\u001B[1;32m      8\u001B[0m     \u001B[38;5;28;01mreturn\u001B[39;00m pairs[\u001B[38;5;241m0\u001B[39m][\u001B[38;5;241m0\u001B[39m]\n\u001B[1;32m     10\u001B[0m mode([\u001B[38;5;241m1\u001B[39m, \u001B[38;5;241m2\u001B[39m, \u001B[38;5;241m2\u001B[39m, \u001B[38;5;241m2\u001B[39m, \u001B[38;5;241m3\u001B[39m])\n\u001B[0;32m---> 12\u001B[0m \u001B[43mmode\u001B[49m\u001B[43m(\u001B[49m\u001B[43m[\u001B[49m\u001B[43m[\u001B[49m\u001B[38;5;124;43m\"\u001B[39;49m\u001B[38;5;124;43ma\u001B[39;49m\u001B[38;5;124;43m\"\u001B[39;49m\u001B[43m]\u001B[49m\u001B[43m,\u001B[49m\u001B[43m \u001B[49m\u001B[43m[\u001B[49m\u001B[38;5;124;43m\"\u001B[39;49m\u001B[38;5;124;43mb\u001B[39;49m\u001B[38;5;124;43m\"\u001B[39;49m\u001B[43m]\u001B[49m\u001B[43m]\u001B[49m\u001B[43m)\u001B[49m\n",
      "Cell \u001B[0;32mIn[45], line 5\u001B[0m, in \u001B[0;36mmode\u001B[0;34m(data)\u001B[0m\n\u001B[1;32m      4\u001B[0m \u001B[38;5;28;01mdef\u001B[39;00m \u001B[38;5;21mmode\u001B[39m(data: Iterable[HashableT]) \u001B[38;5;241m-\u001B[39m\u001B[38;5;241m>\u001B[39m HashableT:\n\u001B[0;32m----> 5\u001B[0m     pairs \u001B[38;5;241m=\u001B[39m \u001B[43mCounter\u001B[49m\u001B[43m(\u001B[49m\u001B[43mdata\u001B[49m\u001B[43m)\u001B[49m\u001B[38;5;241m.\u001B[39mmost_common(\u001B[38;5;241m1\u001B[39m)\n\u001B[1;32m      6\u001B[0m     \u001B[38;5;28;01mif\u001B[39;00m \u001B[38;5;28mlen\u001B[39m(pairs) \u001B[38;5;241m==\u001B[39m \u001B[38;5;241m0\u001B[39m:\n\u001B[1;32m      7\u001B[0m         \u001B[38;5;28;01mraise\u001B[39;00m \u001B[38;5;167;01mValueError\u001B[39;00m(\u001B[38;5;124m\"\u001B[39m\u001B[38;5;124mno mode for empty data\u001B[39m\u001B[38;5;124m\"\u001B[39m)\n",
      "File \u001B[0;32m~/opt/anaconda3/envs/python310/lib/python3.10/collections/__init__.py:577\u001B[0m, in \u001B[0;36mCounter.__init__\u001B[0;34m(self, iterable, **kwds)\u001B[0m\n\u001B[1;32m    566\u001B[0m \u001B[38;5;250m\u001B[39m\u001B[38;5;124;03m'''Create a new, empty Counter object.  And if given, count elements\u001B[39;00m\n\u001B[1;32m    567\u001B[0m \u001B[38;5;124;03mfrom an input iterable.  Or, initialize the count from another mapping\u001B[39;00m\n\u001B[1;32m    568\u001B[0m \u001B[38;5;124;03mof elements to their counts.\u001B[39;00m\n\u001B[0;32m   (...)\u001B[0m\n\u001B[1;32m    574\u001B[0m \n\u001B[1;32m    575\u001B[0m \u001B[38;5;124;03m'''\u001B[39;00m\n\u001B[1;32m    576\u001B[0m \u001B[38;5;28msuper\u001B[39m()\u001B[38;5;241m.\u001B[39m\u001B[38;5;21m__init__\u001B[39m()\n\u001B[0;32m--> 577\u001B[0m \u001B[38;5;28;43mself\u001B[39;49m\u001B[38;5;241;43m.\u001B[39;49m\u001B[43mupdate\u001B[49m\u001B[43m(\u001B[49m\u001B[43miterable\u001B[49m\u001B[43m,\u001B[49m\u001B[43m \u001B[49m\u001B[38;5;241;43m*\u001B[39;49m\u001B[38;5;241;43m*\u001B[39;49m\u001B[43mkwds\u001B[49m\u001B[43m)\u001B[49m\n",
      "File \u001B[0;32m~/opt/anaconda3/envs/python310/lib/python3.10/collections/__init__.py:670\u001B[0m, in \u001B[0;36mCounter.update\u001B[0;34m(self, iterable, **kwds)\u001B[0m\n\u001B[1;32m    668\u001B[0m             \u001B[38;5;28msuper\u001B[39m()\u001B[38;5;241m.\u001B[39mupdate(iterable)\n\u001B[1;32m    669\u001B[0m     \u001B[38;5;28;01melse\u001B[39;00m:\n\u001B[0;32m--> 670\u001B[0m         \u001B[43m_count_elements\u001B[49m\u001B[43m(\u001B[49m\u001B[38;5;28;43mself\u001B[39;49m\u001B[43m,\u001B[49m\u001B[43m \u001B[49m\u001B[43miterable\u001B[49m\u001B[43m)\u001B[49m\n\u001B[1;32m    671\u001B[0m \u001B[38;5;28;01mif\u001B[39;00m kwds:\n\u001B[1;32m    672\u001B[0m     \u001B[38;5;28mself\u001B[39m\u001B[38;5;241m.\u001B[39mupdate(kwds)\n",
      "\u001B[0;31mTypeError\u001B[0m: unhashable type: 'list'"
     ]
    }
   ],
   "source": [
    "# the parameter may be any subtype of hashable\n",
    "HashableT = TypeVar(\"HashableT\", bound=Hashable)  \n",
    "\n",
    "def mode(data: Iterable[HashableT]) -> HashableT:\n",
    "    pairs = Counter(data).most_common(1)\n",
    "    if len(pairs) == 0:\n",
    "        raise ValueError(\"no mode for empty data\")\n",
    "    return pairs[0][0]\n",
    "\n",
    "mode([1, 2, 2, 2, 3])\n",
    "\n",
    "mode([[\"a\"], [\"b\"]])"
   ]
  },
  {
   "cell_type": "markdown",
   "id": "40acc946",
   "metadata": {},
   "source": [
    "\"Type hints should be used whenever unit tests are worth writing.\" -- Bernat Gabor"
   ]
  },
  {
   "cell_type": "markdown",
   "source": [
    "## Static Protocols\n",
    "\n",
    "Suppose you want to create a function `top(it, n)` that returns the largest `n` elements of the iterable `it`.\n",
    "\n",
    "```python\n",
    ">>> top([4, 1, 5, 2, 6, 7, 3])\n",
    "[7, 6, 5]\n",
    "\n",
    ">>> l = \"mango pear apple kiwi banana\".split()\n",
    ">>> top(l)\n",
    "['pear', 'mango', 'kiwi']\n",
    "\n",
    ">>> l2 = [(len(s), s) for s in l]\n",
    ">>> l2\n",
    "[\n",
    "    (5, 'mango'),\n",
    "    (4, 'pear'),\n",
    "    (5, 'apple'),\n",
    "    (4, 'kiwi'),\n",
    "    (6, 'banana'),\n",
    "]\n",
    ">>> top(l2, 3)\n",
    "[(6, 'banana'), (5, 'mango'), (5, 'apple')]\n",
    "```\n",
    "\n",
    "Example 8-19. `top` function with an undefined `T` type parameter"
   ],
   "metadata": {
    "collapsed": false
   }
  },
  {
   "cell_type": "code",
   "execution_count": 47,
   "outputs": [
    {
     "data": {
      "text/plain": "[3]"
     },
     "execution_count": 47,
     "metadata": {},
     "output_type": "execute_result"
    }
   ],
   "source": [
    "def top(series: Iterable[T], length: int) -> list[T]:\n",
    "    ordered = sorted(series, reverse=True)\n",
    "    return ordered[:length]\n",
    "\n",
    "top([3,2,1], 1)"
   ],
   "metadata": {
    "collapsed": false
   }
  },
  {
   "cell_type": "markdown",
   "source": [
    "How can we constrain T? `sorted` accepts `Iterable[Any]`, but that's because it accepts an optional argument for a function that computes a sort key.\n",
    "\n",
    "What happens if you give `sorted` a list of plain objects?"
   ],
   "metadata": {
    "collapsed": false
   }
  },
  {
   "cell_type": "code",
   "execution_count": 48,
   "outputs": [
    {
     "data": {
      "text/plain": "[<object at 0x7fe731219480>,\n <object at 0x7fe731219630>,\n <object at 0x7fe731219510>,\n <object at 0x7fe7312194d0>]"
     },
     "execution_count": 48,
     "metadata": {},
     "output_type": "execute_result"
    }
   ],
   "source": [
    "l = [object() for _ in range(4)]\n",
    "l"
   ],
   "metadata": {
    "collapsed": false
   }
  },
  {
   "cell_type": "code",
   "execution_count": 49,
   "outputs": [
    {
     "ename": "TypeError",
     "evalue": "'<' not supported between instances of 'object' and 'object'",
     "output_type": "error",
     "traceback": [
      "\u001B[0;31m---------------------------------------------------------------------------\u001B[0m",
      "\u001B[0;31mTypeError\u001B[0m                                 Traceback (most recent call last)",
      "Cell \u001B[0;32mIn[49], line 1\u001B[0m\n\u001B[0;32m----> 1\u001B[0m \u001B[38;5;28;43msorted\u001B[39;49m\u001B[43m(\u001B[49m\u001B[43ml\u001B[49m\u001B[43m)\u001B[49m\n",
      "\u001B[0;31mTypeError\u001B[0m: '<' not supported between instances of 'object' and 'object'"
     ]
    }
   ],
   "source": [
    "sorted(l)"
   ],
   "metadata": {
    "collapsed": false
   }
  },
  {
   "cell_type": "markdown",
   "source": [
    "Is it all it takes to just implement less than?"
   ],
   "metadata": {
    "collapsed": false
   }
  },
  {
   "cell_type": "code",
   "execution_count": 50,
   "outputs": [
    {
     "data": {
      "text/plain": "[Spam(5), Spam(4), Spam(3), Spam(2), Spam(1)]"
     },
     "execution_count": 50,
     "metadata": {},
     "output_type": "execute_result"
    }
   ],
   "source": [
    "class Spam:\n",
    "    def __init__(self, n):\n",
    "        self.n = n\n",
    "\n",
    "    def __lt__(self, other):\n",
    "        return self.n < other.n\n",
    "\n",
    "    def __repr__(self):\n",
    "        return f'Spam({self.n})'\n",
    "\n",
    "l = [Spam(n) for n in range(5, 0, -1)]\n",
    "l"
   ],
   "metadata": {
    "collapsed": false
   }
  },
  {
   "cell_type": "code",
   "execution_count": 51,
   "outputs": [
    {
     "data": {
      "text/plain": "[Spam(1), Spam(2), Spam(3), Spam(4), Spam(5)]"
     },
     "execution_count": 51,
     "metadata": {},
     "output_type": "execute_result"
    }
   ],
   "source": [
    "sorted(l)"
   ],
   "metadata": {
    "collapsed": false
   }
  },
  {
   "cell_type": "markdown",
   "source": [
    "So the `T` in Example 8-19 should be limited to types that implement `__lt__`.\n",
    "\n",
    "There is no suitable type in `typing` or `abc`, so we need to create one.\n",
    "\n",
    "Example 8-20. `comparable.py`: definition of a `SupportsLessThanProtocol` type"
   ],
   "metadata": {
    "collapsed": false
   }
  },
  {
   "cell_type": "code",
   "execution_count": 53,
   "outputs": [],
   "source": [
    "from typing import Protocol, Any\n",
    "\n",
    "class SupportsLessThan(Protocol):\n",
    "    def __lt__(self, other: Any) -> bool:\n",
    "        ...  # the body of protocol has ... literally!\n"
   ],
   "metadata": {
    "collapsed": false
   }
  },
  {
   "cell_type": "markdown",
   "source": [
    "A type `T` is _consistent-with_ a protocol `P` if `T` implements all the methods defined in `P`, with matching type signatures.\n",
    "\n",
    "Example 8-21. `top.py`: definition of the `top` function using a `TypeVar`\n",
    "with `bound=SupportsLessThan`"
   ],
   "metadata": {
    "collapsed": false
   }
  },
  {
   "cell_type": "code",
   "execution_count": 54,
   "outputs": [],
   "source": [
    "from collections.abc import Iterable\n",
    "from typing import TypeVar\n",
    "\n",
    "\n",
    "LT = TypeVar('LT', bound=SupportsLessThan)\n",
    "\n",
    "def top(series: Iterable[LT], length: int) -> list[LT]:\n",
    "    ordered = sorted(series, reverse=True)\n",
    "    return ordered[:length]"
   ],
   "metadata": {
    "collapsed": false
   }
  },
  {
   "cell_type": "markdown",
   "source": [
    "Example 8-22. `top_test.py`: partial listing of the test suite for `top`"
   ],
   "metadata": {
    "collapsed": false
   }
  },
  {
   "cell_type": "code",
   "execution_count": 57,
   "outputs": [
    {
     "name": "stdout",
     "output_type": "stream",
     "text": [
      "\u001B[1m\u001B[32mSuccess: no issues found in 1 source file\u001B[m\r\n"
     ]
    }
   ],
   "source": [
    "! mypy ./comparable/top.py"
   ],
   "metadata": {
    "collapsed": false
   }
  },
  {
   "cell_type": "markdown",
   "source": [
    "This is `static duck typing`. The nominal type of `series` doesn't matter, as long as it implements the `__lt__` method."
   ],
   "metadata": {
    "collapsed": false
   }
  },
  {
   "cell_type": "markdown",
   "source": [
    "## Callable\n",
    "\n",
    "Functions can be annotated like this\n",
    "```python\n",
    "Callable[[ParamType1, ParamType2], ReturnType]\n",
    "```"
   ],
   "metadata": {
    "collapsed": false
   }
  },
  {
   "cell_type": "markdown",
   "source": [
    "### Variance in CallableTypes\n",
    "\n",
    "Imagine a temperature control system with a simple `update` function.\n",
    "\n",
    "Example 8-24. Illustrating Variance"
   ],
   "metadata": {
    "collapsed": false
   }
  },
  {
   "cell_type": "code",
   "execution_count": 63,
   "outputs": [],
   "source": [
    "from typing import Callable\n",
    "\n",
    "def update(\n",
    "        probe: Callable[[], float],\n",
    "        display: Callable[[float], None]\n",
    "    ) -> None:\n",
    "    temperature = probe()\n",
    "    # imagine lots of control code here\n",
    "    display(temperature)\n",
    "\n",
    "def probe_ok() -> int:  # <4>\n",
    "    return 42\n",
    "\n",
    "def display_wrong(temperature: int) -> None:  # <5>\n",
    "    print(hex(temperature))"
   ],
   "metadata": {
    "collapsed": false
   }
  },
  {
   "cell_type": "code",
   "execution_count": 64,
   "outputs": [
    {
     "name": "stdout",
     "output_type": "stream",
     "text": [
      "0x2a\n"
     ]
    }
   ],
   "source": [
    "update(probe_ok, display_wrong)"
   ],
   "metadata": {
    "collapsed": false
   }
  },
  {
   "cell_type": "code",
   "execution_count": 60,
   "outputs": [
    {
     "name": "stdout",
     "output_type": "stream",
     "text": [
      "42\n"
     ]
    }
   ],
   "source": [
    "def display_ok(temperature: complex) -> None:  # <7>\n",
    "    print(temperature)\n",
    "\n",
    "update(probe_ok, display_ok)  # OK  # <8>"
   ],
   "metadata": {
    "collapsed": false
   }
  },
  {
   "cell_type": "markdown",
   "source": [
    "# Summary\n",
    "\n",
    "> I wouldn't like a version of Python where I was morally obligated to add type hints all the time. I really do think that type hints have their place but there are also plenty of times that it's not worth it, and it's so wonderful that you can choose to use them.\n",
    "> -- Guido van Rossum"
   ],
   "metadata": {
    "collapsed": false
   }
  },
  {
   "cell_type": "code",
   "execution_count": null,
   "outputs": [],
   "source": [],
   "metadata": {
    "collapsed": false
   }
  }
 ],
 "metadata": {
  "kernelspec": {
   "display_name": "Python 3 (ipykernel)",
   "language": "python",
   "name": "python3"
  },
  "language_info": {
   "codemirror_mode": {
    "name": "ipython",
    "version": 3
   },
   "file_extension": ".py",
   "mimetype": "text/x-python",
   "name": "python",
   "nbconvert_exporter": "python",
   "pygments_lexer": "ipython3",
   "version": "3.10.0"
  }
 },
 "nbformat": 4,
 "nbformat_minor": 5
}
