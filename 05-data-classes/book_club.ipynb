{
 "cells": [
  {
   "cell_type": "markdown",
   "source": [
    "# Data Class Builders"
   ],
   "metadata": {
    "collapsed": false
   }
  },
  {
   "cell_type": "markdown",
   "source": [
    "- `collections.namedtuple`\n",
    "- `typing.NamedTuple`\n",
    "- `@dataclasses.dataclass`"
   ],
   "metadata": {
    "collapsed": false
   }
  },
  {
   "cell_type": "markdown",
   "source": [
    "## Overview of Data Class Builders"
   ],
   "metadata": {
    "collapsed": false
   }
  },
  {
   "cell_type": "markdown",
   "source": [
    "Example 5-1. `class/coordinates.py`"
   ],
   "metadata": {
    "collapsed": false
   }
  },
  {
   "cell_type": "code",
   "execution_count": null,
   "outputs": [],
   "source": [
    "class Coordinate:\n",
    "\n",
    "    def __init__(self, lat, lon):\n",
    "        self.lat = lat\n",
    "        self.lon = lon\n"
   ],
   "metadata": {
    "collapsed": false
   }
  },
  {
   "cell_type": "code",
   "execution_count": null,
   "outputs": [],
   "source": [
    "moscow = Coordinate(55.76, 37.62)\n",
    "moscow"
   ],
   "metadata": {
    "collapsed": false
   }
  },
  {
   "cell_type": "markdown",
   "source": [
    "`__repr__` inherited from `object` is not very useful"
   ],
   "metadata": {
    "collapsed": false
   }
  },
  {
   "cell_type": "code",
   "execution_count": null,
   "outputs": [],
   "source": [
    "location = Coordinate(55.76, 37.62)\n",
    "location == moscow"
   ],
   "metadata": {
    "collapsed": false
   }
  },
  {
   "cell_type": "markdown",
   "source": [
    "Meaningless `==`; the `__eq__` method inherited from `object` compares object IDs."
   ],
   "metadata": {
    "collapsed": false
   }
  },
  {
   "cell_type": "code",
   "execution_count": null,
   "outputs": [],
   "source": [
    "(location.lat, location.lon) == (moscow.lat, moscow.lon)"
   ],
   "metadata": {
    "collapsed": false
   }
  },
  {
   "cell_type": "markdown",
   "source": [
    "Comparing the two coordinates requires explicit comparison of each attribute."
   ],
   "metadata": {
    "collapsed": false
   }
  },
  {
   "cell_type": "code",
   "execution_count": null,
   "outputs": [],
   "source": [
    "from collections import namedtuple\n",
    "\n",
    "Coordinate = namedtuple(\"Coordinate\", \"lat lon\")"
   ],
   "metadata": {
    "collapsed": false
   }
  },
  {
   "cell_type": "code",
   "execution_count": null,
   "outputs": [],
   "source": [
    "issubclass(Coordinate, tuple)"
   ],
   "metadata": {
    "collapsed": false
   }
  },
  {
   "cell_type": "code",
   "execution_count": null,
   "outputs": [],
   "source": [
    "moscow = Coordinate(lat=55.756, lon=37.617)\n",
    "moscow"
   ],
   "metadata": {
    "collapsed": false
   }
  },
  {
   "cell_type": "markdown",
   "source": [
    "useful `__repr__`"
   ],
   "metadata": {
    "collapsed": false
   }
  },
  {
   "cell_type": "code",
   "execution_count": null,
   "outputs": [],
   "source": [
    "moscow == Coordinate(lat=55.756, lon=37.617)"
   ],
   "metadata": {
    "collapsed": false
   }
  },
  {
   "cell_type": "code",
   "execution_count": null,
   "outputs": [],
   "source": [
    "Coordinate(lat=\"100\", lon=\"100\")"
   ],
   "metadata": {
    "collapsed": false
   }
  },
  {
   "cell_type": "markdown",
   "source": [
    "Meaningful `__eq__`"
   ],
   "metadata": {
    "collapsed": false
   }
  },
  {
   "cell_type": "code",
   "execution_count": null,
   "outputs": [],
   "source": [
    "import typing\n",
    "\n",
    "Coordinate = typing.NamedTuple(\n",
    "    \"Coordinate\",\n",
    "    lat=float,\n",
    "    lon=float,\n",
    ")"
   ],
   "metadata": {
    "collapsed": false
   }
  },
  {
   "cell_type": "code",
   "execution_count": null,
   "outputs": [],
   "source": [
    "issubclass(Coordinate, tuple)"
   ],
   "metadata": {
    "collapsed": false
   }
  },
  {
   "cell_type": "code",
   "execution_count": null,
   "outputs": [],
   "source": [
    "typing.get_type_hints(Coordinate)"
   ],
   "metadata": {
    "collapsed": false
   }
  },
  {
   "cell_type": "code",
   "execution_count": null,
   "outputs": [],
   "source": [
    "Coordinate(lat=\"100\", lon=\"100\")"
   ],
   "metadata": {
    "collapsed": false
   }
  },
  {
   "cell_type": "markdown",
   "source": [
    "Example 5-2. `typing_namedtuple/coordinates.py`"
   ],
   "metadata": {
    "collapsed": false
   }
  },
  {
   "cell_type": "code",
   "execution_count": null,
   "outputs": [],
   "source": [
    "from typing import NamedTuple\n",
    "\n",
    "class Coordinate(NamedTuple):\n",
    "    lat: float\n",
    "    lon: float\n",
    "\n",
    "    def __str__(self):\n",
    "        ns = 'N' if self.lat >= 0 else 'S'\n",
    "        we = 'E' if self.lon >= 0 else 'W'\n",
    "        return f'{abs(self.lat):.1f}°{ns}, {abs(self.lon):.1f}°{we}'\n",
    "\n",
    "str(Coordinate(lat=100, lon=2))"
   ],
   "metadata": {
    "collapsed": false
   }
  },
  {
   "cell_type": "code",
   "execution_count": null,
   "outputs": [],
   "source": [
    "issubclass(Coordinate, typing.NamedTuple)"
   ],
   "metadata": {
    "collapsed": false
   }
  },
  {
   "cell_type": "code",
   "execution_count": null,
   "outputs": [],
   "source": [
    "issubclass(Coordinate, tuple)"
   ],
   "metadata": {
    "collapsed": false
   }
  },
  {
   "cell_type": "markdown",
   "source": [
    "Example 5-3. `dataclass/coordinates.py`"
   ],
   "metadata": {
    "collapsed": false
   }
  },
  {
   "cell_type": "code",
   "execution_count": null,
   "outputs": [],
   "source": [
    "from dataclasses import dataclass\n",
    "\n",
    "@dataclass(frozen=True)\n",
    "class Coordinate:\n",
    "    lat: float\n",
    "    lon: float\n",
    "\n",
    "    def __str__(self):\n",
    "        ns = 'N' if self.lat >= 0 else 'S'\n",
    "        we = 'E' if self.lon >= 0 else 'W'\n",
    "        return f'{abs(self.lat):.1f}°{ns}, {abs(self.lon):.1f}°{we}'"
   ],
   "metadata": {
    "collapsed": false
   }
  },
  {
   "cell_type": "markdown",
   "source": [
    "## Classic Named Tuples"
   ],
   "metadata": {
    "collapsed": false
   }
  },
  {
   "cell_type": "markdown",
   "source": [
    "Example 5-4. Defining and using a named tuple type"
   ],
   "metadata": {
    "collapsed": false
   }
  },
  {
   "cell_type": "code",
   "execution_count": null,
   "outputs": [],
   "source": [
    "from collections import namedtuple\n",
    "\n",
    "City = namedtuple(\"City\", \"name country population coordinates\")"
   ],
   "metadata": {
    "collapsed": false
   }
  },
  {
   "cell_type": "code",
   "execution_count": null,
   "outputs": [],
   "source": [
    "tokyo = City(\"Tokyo\", \"JP\", 36.933, (35.689722, 139.691667))\n",
    "tokyo"
   ],
   "metadata": {
    "collapsed": false
   }
  },
  {
   "cell_type": "code",
   "execution_count": null,
   "outputs": [],
   "source": [
    "tokyo.population"
   ],
   "metadata": {
    "collapsed": false
   }
  },
  {
   "cell_type": "code",
   "execution_count": null,
   "outputs": [],
   "source": [
    "tokyo.coordinates"
   ],
   "metadata": {
    "collapsed": false
   }
  },
  {
   "cell_type": "code",
   "execution_count": null,
   "outputs": [],
   "source": [
    "tokyo[1]"
   ],
   "metadata": {
    "collapsed": false
   }
  },
  {
   "cell_type": "code",
   "execution_count": null,
   "outputs": [],
   "source": [
    "list(tokyo)"
   ],
   "metadata": {
    "collapsed": false
   }
  },
  {
   "cell_type": "markdown",
   "source": [
    "Example 5-5. Named tuple attributes and methods (continued from the previous example)"
   ],
   "metadata": {
    "collapsed": false
   }
  },
  {
   "cell_type": "code",
   "execution_count": null,
   "outputs": [],
   "source": [
    "City._fields"
   ],
   "metadata": {
    "collapsed": false
   }
  },
  {
   "cell_type": "code",
   "execution_count": null,
   "outputs": [],
   "source": [
    "Coordinate = namedtuple(\"Coordinate\", \"lat lon\")"
   ],
   "metadata": {
    "collapsed": false
   }
  },
  {
   "cell_type": "code",
   "execution_count": null,
   "outputs": [],
   "source": [
    "delhi_data = (\"Delhi NCR\", \"IN\", 21.935, Coordinate(28.613889, 77.208889))\n",
    "delhi_data"
   ],
   "metadata": {
    "collapsed": false
   }
  },
  {
   "cell_type": "code",
   "execution_count": null,
   "outputs": [],
   "source": [
    "delhi = City._make(delhi_data)\n",
    "delhi = City(*delhi_data)\n",
    "delhi"
   ],
   "metadata": {
    "collapsed": false
   }
  },
  {
   "cell_type": "code",
   "execution_count": null,
   "outputs": [],
   "source": [
    "delhi._asdict()"
   ],
   "metadata": {
    "collapsed": false
   }
  },
  {
   "cell_type": "code",
   "execution_count": null,
   "outputs": [],
   "source": [
    "import json\n",
    "\n",
    "json.dumps(delhi._asdict())"
   ],
   "metadata": {
    "collapsed": false
   }
  },
  {
   "cell_type": "markdown",
   "source": [
    "Example 5-6. Named tuple attributes and methods, continued from 5-5"
   ],
   "metadata": {
    "collapsed": false
   }
  },
  {
   "cell_type": "code",
   "execution_count": null,
   "outputs": [],
   "source": [
    "Coordinate = namedtuple(\"Coordinate\", \"lat long reference\", defaults=[\"WGS84\"])"
   ],
   "metadata": {
    "collapsed": false
   }
  },
  {
   "cell_type": "code",
   "execution_count": null,
   "outputs": [],
   "source": [
    "Coordinate(0, 0)\n"
   ],
   "metadata": {
    "collapsed": false
   }
  },
  {
   "cell_type": "code",
   "execution_count": null,
   "outputs": [],
   "source": [
    "Coordinate._field_defaults"
   ],
   "metadata": {
    "collapsed": false
   }
  },
  {
   "cell_type": "markdown",
   "source": [
    "## Typed Named Tuples"
   ],
   "metadata": {
    "collapsed": false
   }
  },
  {
   "cell_type": "markdown",
   "source": [
    "Example 5-8. `typing_namedtuple/coordinates2.py`"
   ],
   "metadata": {
    "collapsed": false
   }
  },
  {
   "cell_type": "code",
   "execution_count": null,
   "outputs": [],
   "source": [
    "from typing import NamedTuple\n",
    "\n",
    "class Coordinate(NamedTuple):\n",
    "    lat: float\n",
    "    lon: float\n",
    "    reference: str = 'WGS84'\n",
    "\n",
    "coord = Coordinate(1,1)\n",
    "coord"
   ],
   "metadata": {
    "collapsed": false
   }
  },
  {
   "cell_type": "markdown",
   "source": [
    "### Type Hints 101\n",
    "\n",
    "#### No Runtime Effect\n",
    "\n",
    "Example 5-9. Python does not enforce type hints at runtime"
   ],
   "metadata": {
    "collapsed": false
   }
  },
  {
   "cell_type": "code",
   "execution_count": null,
   "outputs": [],
   "source": [
    "import typing\n",
    "\n",
    "class Coordinate(typing.NamedTuple):\n",
    "    lat: float\n",
    "    lon: float\n"
   ],
   "metadata": {
    "collapsed": false
   }
  },
  {
   "cell_type": "code",
   "execution_count": null,
   "outputs": [],
   "source": [
    "trash = Coordinate(\"Ni!\", None)"
   ],
   "metadata": {
    "collapsed": false
   }
  },
  {
   "cell_type": "code",
   "execution_count": null,
   "outputs": [],
   "source": [
    "print(trash)"
   ],
   "metadata": {
    "collapsed": false
   }
  },
  {
   "cell_type": "markdown",
   "source": [
    "## Variable Annotation Syntax"
   ],
   "metadata": {
    "collapsed": false
   }
  },
  {
   "cell_type": "markdown",
   "source": [
    "Example 5-10. meaning/demo_plain.py: a plain class with type hints"
   ],
   "metadata": {
    "collapsed": false
   }
  },
  {
   "cell_type": "code",
   "execution_count": null,
   "outputs": [],
   "source": [
    "class DemoPlainClass:\n",
    "    a: int           # <1>\n",
    "    b: float = 1.1   # <2>\n",
    "    c = 'spam'       # <3>"
   ],
   "metadata": {
    "collapsed": false
   }
  },
  {
   "cell_type": "code",
   "execution_count": null,
   "outputs": [],
   "source": [
    "DemoPlainClass.__annotations__"
   ],
   "metadata": {
    "collapsed": false
   }
  },
  {
   "cell_type": "code",
   "execution_count": null,
   "outputs": [],
   "source": [
    "DemoPlainClass.a"
   ],
   "metadata": {
    "collapsed": false
   }
  },
  {
   "cell_type": "code",
   "execution_count": null,
   "outputs": [],
   "source": [
    "demo = DemoPlainClass(8)\n",
    "demo.a"
   ],
   "metadata": {
    "collapsed": false
   }
  },
  {
   "cell_type": "code",
   "execution_count": null,
   "outputs": [],
   "source": [
    "DemoPlainClass.b"
   ],
   "metadata": {
    "collapsed": false
   }
  },
  {
   "cell_type": "code",
   "execution_count": null,
   "outputs": [],
   "source": [
    "DemoPlainClass.c"
   ],
   "metadata": {
    "collapsed": false
   }
  },
  {
   "cell_type": "markdown",
   "source": [
    "Example 5-11. meaning/demo_nt.py: a class built with `typing.NamedTuple`"
   ],
   "metadata": {
    "collapsed": false
   }
  },
  {
   "cell_type": "code",
   "execution_count": null,
   "outputs": [],
   "source": [
    "import typing\n",
    "\n",
    "class DemoNTClass(typing.NamedTuple):\n",
    "    a: int           # <1>\n",
    "    b: float = 1.1   # <2>\n",
    "    c = 'spam'       # <3>\n"
   ],
   "metadata": {
    "collapsed": false
   }
  },
  {
   "cell_type": "code",
   "execution_count": null,
   "outputs": [],
   "source": [
    "DemoNTClass.__annotations__"
   ],
   "metadata": {
    "collapsed": false
   }
  },
  {
   "cell_type": "code",
   "execution_count": null,
   "outputs": [],
   "source": [
    "DemoNTClass.a"
   ],
   "metadata": {
    "collapsed": false
   }
  },
  {
   "cell_type": "code",
   "execution_count": null,
   "outputs": [],
   "source": [
    "DemoNTClass.b"
   ],
   "metadata": {
    "collapsed": false
   }
  },
  {
   "cell_type": "code",
   "execution_count": null,
   "outputs": [],
   "source": [
    "DemoNTClass.c"
   ],
   "metadata": {
    "collapsed": false
   }
  },
  {
   "cell_type": "code",
   "execution_count": null,
   "outputs": [],
   "source": [
    "DemoNTClass.__doc__"
   ],
   "metadata": {
    "collapsed": false
   }
  },
  {
   "cell_type": "code",
   "execution_count": null,
   "outputs": [],
   "source": [
    "nt = DemoNTClass(8)\n",
    "nt"
   ],
   "metadata": {
    "collapsed": false
   }
  },
  {
   "cell_type": "code",
   "execution_count": null,
   "outputs": [],
   "source": [
    "nt.a"
   ],
   "metadata": {
    "collapsed": false
   }
  },
  {
   "cell_type": "code",
   "execution_count": null,
   "outputs": [],
   "source": [
    "nt.b"
   ],
   "metadata": {
    "collapsed": false
   }
  },
  {
   "cell_type": "code",
   "execution_count": null,
   "outputs": [],
   "source": [
    "nt.c"
   ],
   "metadata": {
    "collapsed": false
   }
  },
  {
   "cell_type": "markdown",
   "source": [
    "What happens if we try to assign values to nt.a, nt.b, ...?"
   ],
   "metadata": {
    "collapsed": false
   }
  },
  {
   "cell_type": "code",
   "execution_count": null,
   "outputs": [],
   "source": [
    "nt.a = 9"
   ],
   "metadata": {
    "collapsed": false
   }
  },
  {
   "cell_type": "code",
   "execution_count": null,
   "outputs": [],
   "source": [
    "nt.b = 10"
   ],
   "metadata": {
    "collapsed": false
   }
  },
  {
   "cell_type": "code",
   "execution_count": null,
   "outputs": [],
   "source": [
    "nt.c = \"spam spam\""
   ],
   "metadata": {
    "collapsed": false
   }
  },
  {
   "cell_type": "code",
   "execution_count": null,
   "outputs": [],
   "source": [
    "nt.z = \"new field\""
   ],
   "metadata": {
    "collapsed": false
   }
  },
  {
   "cell_type": "markdown",
   "source": [
    "Example 5-12: meaning/demo_dc.py: a class decorated with @dataclass"
   ],
   "metadata": {
    "collapsed": false
   }
  },
  {
   "cell_type": "code",
   "execution_count": null,
   "outputs": [],
   "source": [
    "from dataclasses import dataclass\n",
    "\n",
    "@dataclass\n",
    "class DemoDataClass:\n",
    "    a: int           # <1>\n",
    "    b: float = 1.1   # <2>\n",
    "    c = 'spam'       # <3>\n",
    "\n",
    "# which are class attributes, and which are instance attributes?"
   ],
   "metadata": {
    "collapsed": false
   }
  },
  {
   "cell_type": "code",
   "execution_count": null,
   "outputs": [],
   "source": [
    "DemoDataClass.__annotations__"
   ],
   "metadata": {
    "collapsed": false
   }
  },
  {
   "cell_type": "code",
   "execution_count": null,
   "outputs": [],
   "source": [
    "DemoDataClass.__doc__"
   ],
   "metadata": {
    "collapsed": false
   }
  },
  {
   "cell_type": "code",
   "execution_count": null,
   "outputs": [],
   "source": [
    "DemoDataClass.a"
   ],
   "metadata": {
    "collapsed": false
   }
  },
  {
   "cell_type": "code",
   "execution_count": null,
   "outputs": [],
   "source": [
    "DemoDataClass.b"
   ],
   "metadata": {
    "collapsed": false
   }
  },
  {
   "cell_type": "code",
   "execution_count": null,
   "outputs": [],
   "source": [
    "DemoDataClass.c"
   ],
   "metadata": {
    "collapsed": false
   }
  },
  {
   "cell_type": "code",
   "execution_count": null,
   "outputs": [],
   "source": [
    "class Example:\n",
    "    clas_variable = 1\n",
    "\n",
    "    def __init__(self, val):\n",
    "        self.instance_variable = val\n",
    "\n",
    "e = Example(1)"
   ],
   "metadata": {
    "collapsed": false
   }
  },
  {
   "cell_type": "code",
   "execution_count": null,
   "outputs": [],
   "source": [
    "e.instance_variable"
   ],
   "metadata": {
    "collapsed": false
   }
  },
  {
   "cell_type": "code",
   "execution_count": null,
   "outputs": [],
   "source": [
    "Example.instance_variable"
   ],
   "metadata": {
    "collapsed": false
   }
  },
  {
   "cell_type": "code",
   "execution_count": null,
   "outputs": [],
   "source": [],
   "metadata": {
    "collapsed": false
   }
  },
  {
   "cell_type": "code",
   "execution_count": null,
   "outputs": [],
   "source": [
    "dc = DemoDataClass(9)"
   ],
   "metadata": {
    "collapsed": false
   }
  },
  {
   "cell_type": "code",
   "execution_count": null,
   "outputs": [],
   "source": [
    "dc2 = DemoDataClass(0)\n",
    "dc2.c = \"ham\"\n",
    "dc2.c"
   ],
   "metadata": {
    "collapsed": false
   }
  },
  {
   "cell_type": "code",
   "execution_count": null,
   "outputs": [],
   "source": [
    "dc1.c"
   ],
   "metadata": {
    "collapsed": false
   }
  },
  {
   "cell_type": "code",
   "execution_count": null,
   "outputs": [],
   "source": [
    "dc.a"
   ],
   "metadata": {
    "collapsed": false
   }
  },
  {
   "cell_type": "code",
   "execution_count": null,
   "outputs": [],
   "source": [
    "dc.b"
   ],
   "metadata": {
    "collapsed": false
   }
  },
  {
   "cell_type": "code",
   "execution_count": null,
   "outputs": [],
   "source": [
    "dc.c"
   ],
   "metadata": {
    "collapsed": false
   }
  },
  {
   "cell_type": "code",
   "execution_count": null,
   "outputs": [],
   "source": [
    "dc.a = 10\n",
    "dc.a"
   ],
   "metadata": {
    "collapsed": false
   }
  },
  {
   "cell_type": "code",
   "execution_count": null,
   "outputs": [],
   "source": [
    "dc.b = \"oops\"\n",
    "dc.b"
   ],
   "metadata": {
    "collapsed": false
   }
  },
  {
   "cell_type": "code",
   "execution_count": null,
   "outputs": [],
   "source": [
    "dc.c = \"whatever\"\n",
    "dc.c"
   ],
   "metadata": {
    "collapsed": false
   }
  },
  {
   "cell_type": "code",
   "execution_count": null,
   "outputs": [],
   "source": [
    "dc.z = \"secret stash\"\n",
    "dc.z"
   ],
   "metadata": {
    "collapsed": false
   }
  },
  {
   "cell_type": "markdown",
   "source": [
    "## Field Options"
   ],
   "metadata": {
    "collapsed": false
   }
  },
  {
   "cell_type": "markdown",
   "source": [
    "Example 5-13. dataclass/club_wrong.py: this class raises ValueError"
   ],
   "metadata": {
    "collapsed": false
   }
  },
  {
   "cell_type": "code",
   "execution_count": null,
   "outputs": [],
   "source": [
    "from dataclasses import dataclass\n",
    "\n",
    "@dataclass\n",
    "class ClubMember:\n",
    "    name: str\n",
    "    guests: list = []\n",
    "\n",
    "\n",
    "ClubMember()"
   ],
   "metadata": {
    "collapsed": false
   }
  },
  {
   "cell_type": "markdown",
   "source": [
    "Example 5-14: dataclass/club.py: this ClubMember definition works"
   ],
   "metadata": {
    "collapsed": false
   }
  },
  {
   "cell_type": "code",
   "execution_count": null,
   "outputs": [],
   "source": [
    "from dataclasses import dataclass, field\n",
    "\n",
    "@dataclass\n",
    "class ClubMember:\n",
    "    name: str\n",
    "    guests: list = field(default_factory=list)"
   ],
   "metadata": {
    "collapsed": false
   }
  },
  {
   "cell_type": "markdown",
   "source": [
    "Example 5-15: dataclass/club_generic.py: this ClubMember definition is more precise"
   ],
   "metadata": {
    "collapsed": false
   }
  },
  {
   "cell_type": "code",
   "execution_count": 23,
   "outputs": [],
   "source": [
    "from dataclasses import dataclass, field\n",
    "from typing import List\n",
    "\n",
    "@dataclass\n",
    "class ClubMember:\n",
    "    name: str\n",
    "    guests: List[str] = field(default_factory=list)  # <1>"
   ],
   "metadata": {
    "collapsed": false
   }
  },
  {
   "cell_type": "markdown",
   "source": [
    "## Post-init Processing"
   ],
   "metadata": {
    "collapsed": false
   }
  },
  {
   "cell_type": "markdown",
   "source": [
    "Example 5-16: dataclass/hackerclub.py: doctests for HackerClubMember"
   ],
   "metadata": {
    "collapsed": false
   }
  },
  {
   "cell_type": "code",
   "execution_count": 24,
   "outputs": [],
   "source": [
    "\"\"\"\n",
    "``HackerClubMember`` objects accept an optional ``handle`` argument::\n",
    "\n",
    "    >>> anna = HackerClubMember('Anna Ravenscroft', handle='AnnaRaven')\n",
    "    >>> anna\n",
    "    HackerClubMember(name='Anna Ravenscroft', guests=[], handle='AnnaRaven')\n",
    "\n",
    "If ``handle`` is omitted, it's set to the first part of the member's name::\n",
    "\n",
    "    >>> leo = HackerClubMember('Leo Rochael')\n",
    "    >>> leo\n",
    "    HackerClubMember(name='Leo Rochael', guests=[], handle='Leo')\n",
    "\n",
    "Members must have a unique handle. The following ``leo2`` will not be created,\n",
    "because its ``handle`` would be 'Leo', which was taken by ``leo``::\n",
    "\n",
    "    >>> leo2 = HackerClubMember('Leo DaVinci')\n",
    "    Traceback (most recent call last):\n",
    "      ...\n",
    "    ValueError: handle 'Leo' already exists.\n",
    "\n",
    "To fix, ``leo2`` must be created with an explicit ``handle``::\n",
    "\n",
    "    >>> leo2 = HackerClubMember('Leo DaVinci', handle='Neo')\n",
    "    >>> leo2\n",
    "    HackerClubMember(name='Leo DaVinci', guests=[], handle='Neo')\n",
    "\"\"\"\n",
    "\n",
    "from dataclasses import dataclass\n",
    "\n",
    "@dataclass\n",
    "class HackerClubMember(ClubMember):                         # <1>\n",
    "    all_handles = set()                                     # <2>\n",
    "    handle: str = ''                                        # <3>\n",
    "\n",
    "    def __post_init__(self):\n",
    "        cls = self.__class__                                # <4>\n",
    "        if self.handle == '':                               # <5>\n",
    "            self.handle = self.name.split()[0]\n",
    "        if self.handle in cls.all_handles:                  # <6>\n",
    "            msg = f'handle {self.handle!r} already exists.'\n",
    "            raise ValueError(msg)\n",
    "        cls.all_handles.add(self.handle)                    # <7>\n"
   ],
   "metadata": {
    "collapsed": false
   }
  },
  {
   "cell_type": "code",
   "execution_count": 25,
   "outputs": [
    {
     "data": {
      "text/plain": "HackerClubMember(name='Jamie Brandon', guests=[], handle='Jamie')"
     },
     "execution_count": 25,
     "metadata": {},
     "output_type": "execute_result"
    }
   ],
   "source": [
    "jam = HackerClubMember(\"Jamie Brandon\")\n",
    "john = HackerClubMember(\"John McCain\")\n",
    "\n",
    "jam"
   ],
   "metadata": {
    "collapsed": false
   }
  },
  {
   "cell_type": "code",
   "execution_count": 26,
   "outputs": [
    {
     "data": {
      "text/plain": "HackerClubMember(name='John McCain', guests=[], handle='John')"
     },
     "execution_count": 26,
     "metadata": {},
     "output_type": "execute_result"
    }
   ],
   "source": [
    "john"
   ],
   "metadata": {
    "collapsed": false
   }
  },
  {
   "cell_type": "code",
   "execution_count": 27,
   "outputs": [
    {
     "ename": "ValueError",
     "evalue": "handle 'Jamie' already exists.",
     "output_type": "error",
     "traceback": [
      "\u001B[0;31m---------------------------------------------------------------------------\u001B[0m",
      "\u001B[0;31mValueError\u001B[0m                                Traceback (most recent call last)",
      "Cell \u001B[0;32mIn [27], line 1\u001B[0m\n\u001B[0;32m----> 1\u001B[0m HackerClubMember(\u001B[38;5;124m\"\u001B[39m\u001B[38;5;124mJamie Lynn Spears\u001B[39m\u001B[38;5;124m\"\u001B[39m)\n",
      "File \u001B[0;32m<string>:6\u001B[0m, in \u001B[0;36m__init__\u001B[0;34m(self, name, guests, handle)\u001B[0m\n",
      "Cell \u001B[0;32mIn [24], line 42\u001B[0m, in \u001B[0;36mHackerClubMember.__post_init__\u001B[0;34m(self)\u001B[0m\n\u001B[1;32m     40\u001B[0m \u001B[38;5;28;01mif\u001B[39;00m \u001B[38;5;28mself\u001B[39m\u001B[38;5;241m.\u001B[39mhandle \u001B[38;5;129;01min\u001B[39;00m \u001B[38;5;28mcls\u001B[39m\u001B[38;5;241m.\u001B[39mall_handles:                  \u001B[38;5;66;03m# <6>\u001B[39;00m\n\u001B[1;32m     41\u001B[0m     msg \u001B[38;5;241m=\u001B[39m \u001B[38;5;124mf\u001B[39m\u001B[38;5;124m'\u001B[39m\u001B[38;5;124mhandle \u001B[39m\u001B[38;5;132;01m{\u001B[39;00m\u001B[38;5;28mself\u001B[39m\u001B[38;5;241m.\u001B[39mhandle\u001B[38;5;132;01m!r}\u001B[39;00m\u001B[38;5;124m already exists.\u001B[39m\u001B[38;5;124m'\u001B[39m\n\u001B[0;32m---> 42\u001B[0m     \u001B[38;5;28;01mraise\u001B[39;00m \u001B[38;5;167;01mValueError\u001B[39;00m(msg)\n\u001B[1;32m     43\u001B[0m \u001B[38;5;28mcls\u001B[39m\u001B[38;5;241m.\u001B[39mall_handles\u001B[38;5;241m.\u001B[39madd(\u001B[38;5;28mself\u001B[39m\u001B[38;5;241m.\u001B[39mhandle)\n",
      "\u001B[0;31mValueError\u001B[0m: handle 'Jamie' already exists."
     ]
    }
   ],
   "source": [
    "HackerClubMember(\"Jamie Lynn Spears\")"
   ],
   "metadata": {
    "collapsed": false
   }
  },
  {
   "cell_type": "markdown",
   "source": [
    "This example works as intended, but it is not satisfactory to a static type checker. Read the section Typed Class Attributes see why, and how to fix it."
   ],
   "metadata": {
    "collapsed": false
   }
  },
  {
   "cell_type": "markdown",
   "source": [
    "## Initialization Variables that are Not Fields"
   ],
   "metadata": {
    "collapsed": false
   }
  },
  {
   "cell_type": "markdown",
   "source": [
    "5-18. Example from the `dataclasses` module documentation"
   ],
   "metadata": {
    "collapsed": false
   }
  },
  {
   "cell_type": "code",
   "execution_count": null,
   "outputs": [],
   "source": [
    "from dataclasses import InitVar\n",
    "\n",
    "\n",
    "@dataclass\n",
    "class C:\n",
    "    i: int\n",
    "    j: int = None\n",
    "    database: InitVar[DatabaseType] = None\n",
    "\n",
    "    def __post_init__(self, database):\n",
    "        if self.j is None and database is not None:\n",
    "            self.j = database.lookup(\"j\")\n",
    "\n",
    "c = C(10, database=my_database)"
   ],
   "metadata": {
    "collapsed": false
   }
  },
  {
   "cell_type": "markdown",
   "source": [
    "`database` will not be set as an instance attribute, and the `dataclass.fields` function will not list it!"
   ],
   "metadata": {
    "collapsed": false
   }
  },
  {
   "cell_type": "markdown",
   "source": [
    "## `@dataclass` Example: Dublin Core Resource Record"
   ],
   "metadata": {
    "collapsed": false
   }
  },
  {
   "cell_type": "markdown",
   "source": [
    "Example 5-19. `dataclass/resource.py` code for `Resource`, a class based on Dublin Core terms"
   ],
   "metadata": {
    "collapsed": false
   }
  },
  {
   "cell_type": "code",
   "execution_count": 34,
   "outputs": [
    {
     "data": {
      "text/plain": "False"
     },
     "execution_count": 34,
     "metadata": {},
     "output_type": "execute_result"
    }
   ],
   "source": [
    "from dataclasses import dataclass, field\n",
    "from typing import Optional\n",
    "from enum import Enum, auto\n",
    "from datetime import date\n",
    "\n",
    "\n",
    "class ResourceType(Enum):  # <1>\n",
    "    BOOK = auto()\n",
    "    EBOOK = auto()\n",
    "    VIDEO = auto()\n",
    "\n",
    "ResourceType.EBOOK == ResourceType.BOOK\n"
   ],
   "metadata": {
    "collapsed": false
   }
  },
  {
   "cell_type": "code",
   "execution_count": 36,
   "outputs": [
    {
     "data": {
      "text/plain": "Resource(identifier='1', title='<untitled>', creators=[], date=None, type=<ResourceType.BOOK: 1>, description='', language='', subjects=[])"
     },
     "execution_count": 36,
     "metadata": {},
     "output_type": "execute_result"
    }
   ],
   "source": [
    "from typing import List\n",
    "\n",
    "@dataclass\n",
    "class Resource:\n",
    "    \"\"\"Media resource description.\"\"\"\n",
    "    identifier: str                                    # <2>\n",
    "    title: str = '<untitled>'                          # <3>\n",
    "    creators: List[str] = field(default_factory=list)\n",
    "    date: Optional[date] = None                        # <4>\n",
    "    type: ResourceType = ResourceType.BOOK             # <5>\n",
    "    description: str = ''\n",
    "    language: str = ''\n",
    "    subjects: List[str] = field(default_factory=list)\n",
    "\n",
    "\n",
    "Resource(\n",
    "    identifier=\"1\"\n",
    ")"
   ],
   "metadata": {
    "collapsed": false
   }
  },
  {
   "cell_type": "code",
   "execution_count": null,
   "outputs": [],
   "source": [
    "\n",
    "from typing import TypedDict\n",
    "\n",
    "\n",
    "class ResourceDict(TypedDict):\n",
    "    identifier: str\n",
    "    title: str\n",
    "    creators: List[str]\n",
    "    date: Optional[date]\n",
    "    type: ResourceType\n",
    "    description: str\n",
    "    language: str\n",
    "    subjects: List[str]"
   ],
   "metadata": {
    "collapsed": false
   }
  },
  {
   "cell_type": "code",
   "execution_count": 37,
   "outputs": [
    {
     "data": {
      "text/plain": "Resource(identifier='0', title='<untitled>', creators=[], date=None, type=<ResourceType.BOOK: 1>, description='', language='', subjects=[])"
     },
     "execution_count": 37,
     "metadata": {},
     "output_type": "execute_result"
    }
   ],
   "source": [
    "\n",
    "r = Resource('0')\n",
    "r\n"
   ],
   "metadata": {
    "collapsed": false
   }
  },
  {
   "cell_type": "markdown",
   "source": [
    "Example 5-20. `dataclass/resource.py`: code for `Resource`, a class based on Dublin Core terms"
   ],
   "metadata": {
    "collapsed": false
   }
  },
  {
   "cell_type": "code",
   "execution_count": 38,
   "outputs": [
    {
     "name": "stdout",
     "output_type": "stream",
     "text": [
      "Resource(identifier='978-0-13-475759-9', title='Refactoring, 2nd Edition', creators=['Martin Fowler', 'Kent Beck'], date=datetime.date(2018, 11, 19), type=<ResourceType.BOOK: 1>, description='Improving the design of existing code', language='EN', subjects=['computer programming', 'OOP'])\n"
     ]
    }
   ],
   "source": [
    "description = 'Improving the design of existing code'\n",
    "book = Resource(\n",
    "    '978-0-13-475759-9',\n",
    "    'Refactoring, 2nd Edition',\n",
    "    ['Martin Fowler', 'Kent Beck'],\n",
    "    date(2018, 11, 19),\n",
    "    ResourceType.BOOK,\n",
    "    description,\n",
    "    'EN',\n",
    "    ['computer programming', 'OOP'],\n",
    ")\n",
    "print(book)\n"
   ],
   "metadata": {
    "collapsed": false
   }
  },
  {
   "cell_type": "code",
   "execution_count": 39,
   "outputs": [
    {
     "name": "stdout",
     "output_type": "stream",
     "text": [
      "True\n"
     ]
    }
   ],
   "source": [
    "book_dict: ResourceDict = {\n",
    "    'identifier': '978-0-13-475759-9',\n",
    "    'title': 'Refactoring, 2nd Edition',\n",
    "    'creators': ['Martin Fowler', 'Kent Beck'],\n",
    "    'date': date(2018, 11, 19),\n",
    "    'type': ResourceType.BOOK,\n",
    "    'description': 'Improving the design of existing code',\n",
    "    'language': 'EN',\n",
    "    'subjects': ['computer programming', 'OOP'],\n",
    "}\n",
    "book2 = Resource(**book_dict)\n",
    "print(book == book2)\n"
   ],
   "metadata": {
    "collapsed": false
   }
  },
  {
   "cell_type": "code",
   "execution_count": 41,
   "outputs": [
    {
     "data": {
      "text/plain": "False"
     },
     "execution_count": 41,
     "metadata": {},
     "output_type": "execute_result"
    }
   ],
   "source": [
    "class A:\n",
    "    def __init__(self, value):\n",
    "        self.value = value\n",
    "\n",
    "first = A(1)\n",
    "second = A(1)\n",
    "\n",
    "first == second"
   ],
   "metadata": {
    "collapsed": false
   }
  },
  {
   "cell_type": "markdown",
   "source": [
    "The repr for `book` is long and a bit hard to read. We'd like to make it look like\n",
    "```\n",
    "Resource(\n",
    "    identifier='978-0-13-475759-9',\n",
    "    title='Refactoring, 2nd Edition',\n",
    "    creators=['Martin Fowler', 'Kent Beck'],\n",
    "    date=datetime.date(2018, 11, 19),\n",
    "    type=<ResourceType.BOOK: 1>,\n",
    "    description='Improving the design of existing code',\n",
    "    language='EN',\n",
    "    subjects=['computer programming', 'OOP'],\n",
    "    )\n",
    "```"
   ],
   "metadata": {
    "collapsed": false
   }
  },
  {
   "cell_type": "markdown",
   "source": [
    "Example 5-21. `dataclass/resource_repr.py` code for `__repr__` method implemented in the `Resource` class from Example 5-19"
   ],
   "metadata": {
    "collapsed": false
   }
  },
  {
   "cell_type": "code",
   "execution_count": 43,
   "outputs": [
    {
     "data": {
      "text/plain": "Resource(\n\tidentifier = '978-0-13-475759-9',\n\ttitle = 'Refactoring, 2nd Edition',\n\tcreators = ['Martin Fowler', 'Kent Beck'],\n\tdate = datetime.date(2018, 11, 19),\n\ttype = <ResourceType.BOOK: 1>,\n\tdescription = 'Improving the design of existing code',\n\tlanguage = 'EN',\n\tsubjects = ['computer programming', 'OOP'],\n)"
     },
     "execution_count": 43,
     "metadata": {},
     "output_type": "execute_result"
    }
   ],
   "source": [
    "from dataclasses import dataclass, field, fields\n",
    "\n",
    "@dataclass\n",
    "class Resource:\n",
    "    \"\"\"Media resource description.\"\"\"\n",
    "    identifier: str                                    # <2>\n",
    "    title: str = '<untitled>'                          # <3>\n",
    "    creators: List[str] = field(default_factory=list)\n",
    "    date: Optional[date] = None                        # <4>\n",
    "    type: ResourceType = ResourceType.BOOK             # <5>\n",
    "    description: str = ''\n",
    "    language: str = ''\n",
    "    subjects: List[str] = field(default_factory=list)\n",
    "\n",
    "    def __repr__(self):\n",
    "        cls = self.__class__\n",
    "        cls_name = cls.__name__\n",
    "        indent = ' ' * 4\n",
    "        res = [f'{cls_name}(']                            # <1>\n",
    "        for f in fields(cls):                             # <2>\n",
    "            value = getattr(self, f.name)                 # <3>\n",
    "            res.append(f'{indent}{f.name} = {value!r},')  # <4>\n",
    "\n",
    "        res.append(')')                                   # <5>\n",
    "        return '\\n'.join(res)                             # <6>\n",
    "\n",
    "r = Resource(**book_dict)\n",
    "r"
   ],
   "metadata": {
    "collapsed": false
   }
  },
  {
   "cell_type": "markdown",
   "source": [
    "## Extra Insert: Pydantic Models"
   ],
   "metadata": {
    "collapsed": false
   }
  },
  {
   "cell_type": "code",
   "execution_count": 44,
   "outputs": [],
   "source": [
    "from pydantic import BaseModel\n",
    "\n",
    "class User(BaseModel):\n",
    "    id: int\n",
    "    name = \"Jane Doe\""
   ],
   "metadata": {
    "collapsed": false
   }
  },
  {
   "cell_type": "code",
   "execution_count": 48,
   "outputs": [
    {
     "data": {
      "text/plain": "User(id=123, name='Jane Doe')"
     },
     "execution_count": 48,
     "metadata": {},
     "output_type": "execute_result"
    }
   ],
   "source": [
    "user = User(id=\"123\")\n",
    "user"
   ],
   "metadata": {
    "collapsed": false
   }
  },
  {
   "cell_type": "code",
   "execution_count": 49,
   "outputs": [
    {
     "ename": "ValidationError",
     "evalue": "1 validation error for User\nid\n  value is not a valid integer (type=type_error.integer)",
     "output_type": "error",
     "traceback": [
      "\u001B[0;31m---------------------------------------------------------------------------\u001B[0m",
      "\u001B[0;31mValidationError\u001B[0m                           Traceback (most recent call last)",
      "Cell \u001B[0;32mIn [49], line 1\u001B[0m\n\u001B[0;32m----> 1\u001B[0m user_x \u001B[38;5;241m=\u001B[39m User(\u001B[38;5;28mid\u001B[39m\u001B[38;5;241m=\u001B[39m\u001B[38;5;124m\"\u001B[39m\u001B[38;5;124m123.45\u001B[39m\u001B[38;5;124m\"\u001B[39m)\n",
      "File \u001B[0;32m~/Code/book-club/example-code-2e/venv/lib/python3.8/site-packages/pydantic/main.py:341\u001B[0m, in \u001B[0;36mpydantic.main.BaseModel.__init__\u001B[0;34m()\u001B[0m\n",
      "\u001B[0;31mValidationError\u001B[0m: 1 validation error for User\nid\n  value is not a valid integer (type=type_error.integer)"
     ]
    }
   ],
   "source": [
    "user_x = User(id=\"123.45\")"
   ],
   "metadata": {
    "collapsed": false
   }
  },
  {
   "cell_type": "code",
   "execution_count": 50,
   "outputs": [
    {
     "data": {
      "text/plain": "123"
     },
     "execution_count": 50,
     "metadata": {},
     "output_type": "execute_result"
    }
   ],
   "source": [
    "user.id"
   ],
   "metadata": {
    "collapsed": false
   }
  },
  {
   "cell_type": "code",
   "execution_count": 51,
   "outputs": [
    {
     "data": {
      "text/plain": "{'id'}"
     },
     "execution_count": 51,
     "metadata": {},
     "output_type": "execute_result"
    }
   ],
   "source": [
    "user.__fields_set__"
   ],
   "metadata": {
    "collapsed": false
   }
  },
  {
   "cell_type": "code",
   "execution_count": 52,
   "outputs": [
    {
     "data": {
      "text/plain": "True"
     },
     "execution_count": 52,
     "metadata": {},
     "output_type": "execute_result"
    }
   ],
   "source": [
    "user.dict() == dict(user) == {\"id\": 123, \"name\": \"Jane Doe\"}"
   ],
   "metadata": {
    "collapsed": false
   }
  },
  {
   "cell_type": "code",
   "execution_count": 55,
   "outputs": [
    {
     "ename": "ValidationError",
     "evalue": "1 validation error for User\nname\n  str type expected (type=type_error.str)",
     "output_type": "error",
     "traceback": [
      "\u001B[0;31m---------------------------------------------------------------------------\u001B[0m",
      "\u001B[0;31mValidationError\u001B[0m                           Traceback (most recent call last)",
      "Cell \u001B[0;32mIn [55], line 1\u001B[0m\n\u001B[0;32m----> 1\u001B[0m user2 \u001B[38;5;241m=\u001B[39m User(\u001B[38;5;28mid\u001B[39m\u001B[38;5;241m=\u001B[39m\u001B[38;5;241m12\u001B[39m, name\u001B[38;5;241m=\u001B[39m{\u001B[38;5;124m\"\u001B[39m\u001B[38;5;124ma\u001B[39m\u001B[38;5;124m\"\u001B[39m: \u001B[38;5;241m1\u001B[39m})\n\u001B[1;32m      2\u001B[0m user2\n",
      "File \u001B[0;32m~/Code/book-club/example-code-2e/venv/lib/python3.8/site-packages/pydantic/main.py:341\u001B[0m, in \u001B[0;36mpydantic.main.BaseModel.__init__\u001B[0;34m()\u001B[0m\n",
      "\u001B[0;31mValidationError\u001B[0m: 1 validation error for User\nname\n  str type expected (type=type_error.str)"
     ]
    }
   ],
   "source": [
    "user2 = User(id=12, name={\"a\": 1})\n",
    "user2"
   ],
   "metadata": {
    "collapsed": false
   }
  },
  {
   "cell_type": "markdown",
   "source": [
    "Recursive models"
   ],
   "metadata": {
    "collapsed": false
   }
  },
  {
   "cell_type": "code",
   "execution_count": 57,
   "outputs": [
    {
     "data": {
      "text/plain": "Spam(foo=Foo(count=4, size=None), bars=[Bar(apple='x1', banana='y'), Bar(apple='x2', banana='y')])"
     },
     "execution_count": 57,
     "metadata": {},
     "output_type": "execute_result"
    }
   ],
   "source": [
    "from typing import List, Optional\n",
    "from pydantic import BaseModel\n",
    "\n",
    "\n",
    "class Foo(BaseModel):\n",
    "    count: int\n",
    "    size: Optional[float] = None\n",
    "\n",
    "\n",
    "class Bar(BaseModel):\n",
    "    apple = 'x'\n",
    "    banana = 'y'\n",
    "\n",
    "\n",
    "class Spam(BaseModel):\n",
    "    foo: Foo\n",
    "    bars: List[Bar]\n",
    "\n",
    "\n",
    "m = Spam(\n",
    "    foo={'count': 4},\n",
    "    bars=[{'apple': 'x1'}, {'apple': 'x2'}],\n",
    ")\n",
    "m"
   ],
   "metadata": {
    "collapsed": false
   }
  },
  {
   "cell_type": "code",
   "execution_count": 58,
   "outputs": [
    {
     "data": {
      "text/plain": "{'foo': {'count': 4, 'size': None},\n 'bars': [{'apple': 'x1', 'banana': 'y'}, {'apple': 'x2', 'banana': 'y'}]}"
     },
     "execution_count": 58,
     "metadata": {},
     "output_type": "execute_result"
    }
   ],
   "source": [
    "m.dict()"
   ],
   "metadata": {
    "collapsed": false
   }
  },
  {
   "cell_type": "markdown",
   "source": [
    "Validation errors are better in pydantic"
   ],
   "metadata": {
    "collapsed": false
   }
  },
  {
   "cell_type": "code",
   "execution_count": 59,
   "outputs": [
    {
     "name": "stdout",
     "output_type": "stream",
     "text": [
      "5 validation errors for Model\n",
      "is_required\n",
      "  field required (type=value_error.missing)\n",
      "gt_int\n",
      "  ensure this value is greater than 42 (type=value_error.number.not_gt; limit_value=42)\n",
      "list_of_ints -> 2\n",
      "  value is not a valid integer (type=type_error.integer)\n",
      "a_float\n",
      "  value is not a valid float (type=type_error.float)\n",
      "recursive_model -> lng\n",
      "  value is not a valid float (type=type_error.float)\n"
     ]
    }
   ],
   "source": [
    "from typing import List\n",
    "from pydantic import BaseModel, ValidationError, conint\n",
    "\n",
    "\n",
    "class Location(BaseModel):\n",
    "    lat = 0.1\n",
    "    lng = 10.1\n",
    "\n",
    "\n",
    "class Model(BaseModel):\n",
    "    is_required: float\n",
    "    gt_int: conint(gt=42)\n",
    "    list_of_ints: List[int] = None\n",
    "    a_float: float = None\n",
    "    recursive_model: Location = None\n",
    "\n",
    "\n",
    "data = dict(\n",
    "    list_of_ints=['1', 2, 'bad'],\n",
    "    a_float='not a float',\n",
    "    recursive_model={'lat': 4.2, 'lng': 'New York'},\n",
    "    gt_int=21,\n",
    ")\n",
    "\n",
    "try:\n",
    "    Model(**data)\n",
    "except ValidationError as e:\n",
    "    print(e)"
   ],
   "metadata": {
    "collapsed": false
   }
  },
  {
   "cell_type": "markdown",
   "source": [
    "Custom Validators"
   ],
   "metadata": {
    "collapsed": false
   }
  },
  {
   "cell_type": "code",
   "execution_count": 60,
   "outputs": [
    {
     "name": "stdout",
     "output_type": "stream",
     "text": [
      "1 validation error for Model\n",
      "foo\n",
      "  value must be \"bar\" (type=value_error)\n"
     ]
    }
   ],
   "source": [
    "from pydantic import BaseModel, ValidationError, validator\n",
    "\n",
    "\n",
    "class Model(BaseModel):\n",
    "    foo: str\n",
    "\n",
    "    @validator('foo')\n",
    "    def value_must_equal_bar(cls, v):\n",
    "        if v != 'bar':\n",
    "            raise ValueError('value must be \"bar\"')\n",
    "\n",
    "        return v\n",
    "\n",
    "\n",
    "try:\n",
    "    Model(foo='ber')\n",
    "except ValidationError as e:\n",
    "    print(e)"
   ],
   "metadata": {
    "collapsed": false
   }
  },
  {
   "cell_type": "markdown",
   "source": [
    "You can even provide your own custom errors"
   ],
   "metadata": {
    "collapsed": false
   }
  },
  {
   "cell_type": "code",
   "execution_count": 61,
   "outputs": [
    {
     "ename": "ValidationError",
     "evalue": "1 validation error for Model\nfoo\n  value is not \"bar\", got \"ber\" (type=value_error.not_a_bar; wrong_value=ber)",
     "output_type": "error",
     "traceback": [
      "\u001B[0;31m---------------------------------------------------------------------------\u001B[0m",
      "\u001B[0;31mValidationError\u001B[0m                           Traceback (most recent call last)",
      "Cell \u001B[0;32mIn [61], line 19\u001B[0m\n\u001B[1;32m     15\u001B[0m             \u001B[38;5;28;01mraise\u001B[39;00m NotABarError(wrong_value\u001B[38;5;241m=\u001B[39mv)\n\u001B[1;32m     16\u001B[0m         \u001B[38;5;28;01mreturn\u001B[39;00m v\n\u001B[0;32m---> 19\u001B[0m Model(foo\u001B[38;5;241m=\u001B[39m\u001B[38;5;124m'\u001B[39m\u001B[38;5;124mber\u001B[39m\u001B[38;5;124m'\u001B[39m)\n",
      "File \u001B[0;32m~/Code/book-club/example-code-2e/venv/lib/python3.8/site-packages/pydantic/main.py:341\u001B[0m, in \u001B[0;36mpydantic.main.BaseModel.__init__\u001B[0;34m()\u001B[0m\n",
      "\u001B[0;31mValidationError\u001B[0m: 1 validation error for Model\nfoo\n  value is not \"bar\", got \"ber\" (type=value_error.not_a_bar; wrong_value=ber)"
     ]
    }
   ],
   "source": [
    "from pydantic import BaseModel, PydanticValueError, ValidationError, validator\n",
    "\n",
    "\n",
    "class NotABarError(PydanticValueError):\n",
    "    code = 'not_a_bar'\n",
    "    msg_template = 'value is not \"bar\", got \"{wrong_value}\"'\n",
    "\n",
    "\n",
    "class Model(BaseModel):\n",
    "    foo: str\n",
    "\n",
    "    @validator('foo')\n",
    "    def value_must_equal_bar(cls, v):\n",
    "        if v != 'bar':\n",
    "            raise NotABarError(wrong_value=v)\n",
    "        return v\n",
    "\n",
    "\n",
    "Model(foo='ber')\n"
   ],
   "metadata": {
    "collapsed": false
   }
  },
  {
   "cell_type": "code",
   "execution_count": null,
   "outputs": [],
   "source": [],
   "metadata": {
    "collapsed": false
   }
  }
 ],
 "metadata": {
  "kernelspec": {
   "display_name": "Python 3",
   "language": "python",
   "name": "python3"
  },
  "language_info": {
   "codemirror_mode": {
    "name": "ipython",
    "version": 2
   },
   "file_extension": ".py",
   "mimetype": "text/x-python",
   "name": "python",
   "nbconvert_exporter": "python",
   "pygments_lexer": "ipython2",
   "version": "2.7.6"
  }
 },
 "nbformat": 4,
 "nbformat_minor": 0
}
