{
 "cells": [
  {
   "cell_type": "markdown",
   "source": [
    "# Inheritance: For Better or for Worse\n",
    "We'll cover\n",
    "- the `super()` function\n",
    "- the pitfalls of subclassing from built-in types\n",
    "- Multiple inheritance and method resolution order\n",
    "- Mixin classes\n",
    "\n",
    "Discuss: Why is there backlash against the overuse of inheritance? What about multiple inheritance?"
   ],
   "metadata": {
    "collapsed": false
   }
  },
  {
   "cell_type": "markdown",
   "source": [
    "## The `super()` Function"
   ],
   "metadata": {
    "collapsed": false
   }
  },
  {
   "cell_type": "code",
   "execution_count": 57,
   "outputs": [],
   "source": [
    "import http.server\n",
    "import socketserver\n",
    "# from the collections module documentation\n",
    "\n",
    "from collections import OrderedDict\n",
    "\n",
    "class LastUpdatedOrderedDict(OrderedDict):\n",
    "    \"\"\"Store items in the order they were last updated\"\"\"\n",
    "\n",
    "    def __setitem__(self, key, value):\n",
    "        super().__setitem__(key, value)\n",
    "        self.move_to_end(key)"
   ],
   "metadata": {
    "collapsed": false,
    "ExecuteTime": {
     "end_time": "2023-07-07T17:30:59.002897Z",
     "start_time": "2023-07-07T17:30:59.001368Z"
    }
   }
  },
  {
   "cell_type": "code",
   "execution_count": 58,
   "outputs": [],
   "source": [
    "# What about code that doesn't use `super()`, but instead calls the method directly on the superclass?\n",
    "\n",
    "class NotRecommended(OrderedDict):\n",
    "    \"\"\"This is a counter example!\"\"\"\n",
    "\n",
    "    def __setitem__(self, key, value):\n",
    "        OrderedDict.__setitem__(self, key, value)\n",
    "        self.move_to_end(key)"
   ],
   "metadata": {
    "collapsed": false,
    "ExecuteTime": {
     "end_time": "2023-07-07T17:31:05.339434Z",
     "start_time": "2023-07-07T17:31:05.334152Z"
    }
   }
  },
  {
   "cell_type": "code",
   "execution_count": 59,
   "outputs": [],
   "source": [
    "# You may see it like this, which is compatible in python 3 (and python 3)\n",
    "\n",
    "class LastUpdatedOrderedDict(OrderedDict):\n",
    "    \"\"\"This code works in python 2 and 3\"\"\"\n",
    "\n",
    "    def __setitem__(self, key, value):\n",
    "        super(LastUpdatedOrderedDict, self).__setitem__(key, value)\n",
    "        self.move_to_end(key)"
   ],
   "metadata": {
    "collapsed": false,
    "ExecuteTime": {
     "end_time": "2023-07-07T17:31:48.224450Z",
     "start_time": "2023-07-07T17:31:48.206455Z"
    }
   }
  },
  {
   "cell_type": "markdown",
   "source": [
    "## Subclassing Built-In Types is Tricky\n",
    "\n",
    "Built-in types, like `list` or `dict` are written in C. This causes problems when you inherit directly from the\n",
    "built-in type."
   ],
   "metadata": {
    "collapsed": false
   }
  },
  {
   "cell_type": "markdown",
   "source": [
    "Example 14-1: Our `__setitem__` override is ignored by the `__init__` and `__update__` methods of the built-in dict"
   ],
   "metadata": {
    "collapsed": false
   }
  },
  {
   "cell_type": "code",
   "execution_count": 60,
   "outputs": [],
   "source": [
    "class DoppelDict(dict):\n",
    "    def __setitem__(self, key, value):\n",
    "        super().__setitem__(key, [value] * 2)"
   ],
   "metadata": {
    "collapsed": false,
    "ExecuteTime": {
     "end_time": "2023-07-07T17:31:50.331935Z",
     "start_time": "2023-07-07T17:31:50.321998Z"
    }
   }
  },
  {
   "cell_type": "code",
   "execution_count": 61,
   "outputs": [],
   "source": [
    "dd = DoppelDict(one=1)"
   ],
   "metadata": {
    "collapsed": false,
    "ExecuteTime": {
     "end_time": "2023-07-07T17:31:50.592067Z",
     "start_time": "2023-07-07T17:31:50.520732Z"
    }
   }
  },
  {
   "cell_type": "code",
   "execution_count": 62,
   "outputs": [
    {
     "data": {
      "text/plain": "{'one': 1}"
     },
     "execution_count": 62,
     "metadata": {},
     "output_type": "execute_result"
    }
   ],
   "source": [
    "dd"
   ],
   "metadata": {
    "collapsed": false,
    "ExecuteTime": {
     "end_time": "2023-07-07T17:31:50.682686Z",
     "start_time": "2023-07-07T17:31:50.664694Z"
    }
   }
  },
  {
   "cell_type": "code",
   "execution_count": 63,
   "outputs": [],
   "source": [
    "dd[\"two\"] = 2"
   ],
   "metadata": {
    "collapsed": false,
    "ExecuteTime": {
     "end_time": "2023-07-07T17:31:50.833535Z",
     "start_time": "2023-07-07T17:31:50.824060Z"
    }
   }
  },
  {
   "cell_type": "code",
   "execution_count": 64,
   "outputs": [
    {
     "data": {
      "text/plain": "{'one': 1, 'two': [2, 2]}"
     },
     "execution_count": 64,
     "metadata": {},
     "output_type": "execute_result"
    }
   ],
   "source": [
    "dd"
   ],
   "metadata": {
    "collapsed": false,
    "ExecuteTime": {
     "end_time": "2023-07-07T17:31:50.951372Z",
     "start_time": "2023-07-07T17:31:50.943022Z"
    }
   }
  },
  {
   "cell_type": "code",
   "execution_count": 65,
   "outputs": [],
   "source": [
    "dd.update(three=3)"
   ],
   "metadata": {
    "collapsed": false,
    "ExecuteTime": {
     "end_time": "2023-07-07T17:31:51.139374Z",
     "start_time": "2023-07-07T17:31:51.129821Z"
    }
   }
  },
  {
   "cell_type": "code",
   "execution_count": 66,
   "outputs": [
    {
     "data": {
      "text/plain": "{'one': 1, 'two': [2, 2], 'three': 3}"
     },
     "execution_count": 66,
     "metadata": {},
     "output_type": "execute_result"
    }
   ],
   "source": [
    "dd"
   ],
   "metadata": {
    "collapsed": false,
    "ExecuteTime": {
     "end_time": "2023-07-07T17:31:51.642388Z",
     "start_time": "2023-07-07T17:31:51.619378Z"
    }
   }
  },
  {
   "cell_type": "markdown",
   "source": [
    "Example 14-2: The `__getitem__` of `AnswerDict` is bypassed by `dict.update`"
   ],
   "metadata": {
    "collapsed": false
   }
  },
  {
   "cell_type": "code",
   "execution_count": 67,
   "outputs": [],
   "source": [
    "class AnswerDict(dict):\n",
    "    def __getitem__(self, item):\n",
    "        return 42"
   ],
   "metadata": {
    "collapsed": false,
    "ExecuteTime": {
     "end_time": "2023-07-07T17:31:52.898725Z",
     "start_time": "2023-07-07T17:31:52.886963Z"
    }
   }
  },
  {
   "cell_type": "code",
   "execution_count": 68,
   "outputs": [
    {
     "name": "stdout",
     "output_type": "stream",
     "text": [
      "{'a': 'foo'}\n"
     ]
    }
   ],
   "source": [
    "ad = AnswerDict(a=\"foo\")\n",
    "print(ad)"
   ],
   "metadata": {
    "collapsed": false,
    "ExecuteTime": {
     "end_time": "2023-07-07T17:31:53.032482Z",
     "start_time": "2023-07-07T17:31:53.020985Z"
    }
   }
  },
  {
   "cell_type": "code",
   "execution_count": 69,
   "outputs": [
    {
     "data": {
      "text/plain": "42"
     },
     "execution_count": 69,
     "metadata": {},
     "output_type": "execute_result"
    }
   ],
   "source": [
    "ad[\"a\"]"
   ],
   "metadata": {
    "collapsed": false,
    "ExecuteTime": {
     "end_time": "2023-07-07T17:31:53.174576Z",
     "start_time": "2023-07-07T17:31:53.162992Z"
    }
   }
  },
  {
   "cell_type": "code",
   "execution_count": 70,
   "outputs": [
    {
     "data": {
      "text/plain": "'foo'"
     },
     "execution_count": 70,
     "metadata": {},
     "output_type": "execute_result"
    }
   ],
   "source": [
    "ad.get(\"a\")"
   ],
   "metadata": {
    "collapsed": false,
    "ExecuteTime": {
     "end_time": "2023-07-07T17:31:53.314851Z",
     "start_time": "2023-07-07T17:31:53.304496Z"
    }
   }
  },
  {
   "cell_type": "code",
   "execution_count": 71,
   "outputs": [],
   "source": [
    "d = {}"
   ],
   "metadata": {
    "collapsed": false,
    "ExecuteTime": {
     "end_time": "2023-07-07T17:31:53.451820Z",
     "start_time": "2023-07-07T17:31:53.441199Z"
    }
   }
  },
  {
   "cell_type": "code",
   "execution_count": 72,
   "outputs": [],
   "source": [
    "d.update(ad)"
   ],
   "metadata": {
    "collapsed": false,
    "ExecuteTime": {
     "end_time": "2023-07-07T17:31:53.884273Z",
     "start_time": "2023-07-07T17:31:53.873771Z"
    }
   }
  },
  {
   "cell_type": "code",
   "execution_count": 73,
   "outputs": [
    {
     "data": {
      "text/plain": "{'a': 'foo'}"
     },
     "execution_count": 73,
     "metadata": {},
     "output_type": "execute_result"
    }
   ],
   "source": [
    "d"
   ],
   "metadata": {
    "collapsed": false,
    "ExecuteTime": {
     "end_time": "2023-07-07T17:31:55.121577Z",
     "start_time": "2023-07-07T17:31:55.075515Z"
    }
   }
  },
  {
   "cell_type": "markdown",
   "source": [
    "The solution? `collections.UserDict`\n",
    "\n",
    "Example 14-3. `DoppelDict2` and `AnswerDict2` work as expected because they extend `UserDict` and not `dict`"
   ],
   "metadata": {
    "collapsed": false
   }
  },
  {
   "cell_type": "code",
   "execution_count": 74,
   "outputs": [],
   "source": [
    "import collections\n",
    "\n",
    "class DoppelDict2(collections.UserDict):\n",
    "    def __setitem__(self, key, value):\n",
    "        super().__setitem__(key, [value] * 2)"
   ],
   "metadata": {
    "collapsed": false,
    "ExecuteTime": {
     "end_time": "2023-07-07T17:31:56.380748Z",
     "start_time": "2023-07-07T17:31:56.368159Z"
    }
   }
  },
  {
   "cell_type": "code",
   "execution_count": 75,
   "outputs": [],
   "source": [
    "dd = DoppelDict2(one=1)"
   ],
   "metadata": {
    "collapsed": false,
    "ExecuteTime": {
     "end_time": "2023-07-07T17:31:56.788058Z",
     "start_time": "2023-07-07T17:31:56.778336Z"
    }
   }
  },
  {
   "cell_type": "code",
   "execution_count": 76,
   "outputs": [
    {
     "data": {
      "text/plain": "{'one': [1, 1]}"
     },
     "execution_count": 76,
     "metadata": {},
     "output_type": "execute_result"
    }
   ],
   "source": [
    "dd"
   ],
   "metadata": {
    "collapsed": false,
    "ExecuteTime": {
     "end_time": "2023-07-07T17:31:57.077515Z",
     "start_time": "2023-07-07T17:31:57.068252Z"
    }
   }
  },
  {
   "cell_type": "code",
   "execution_count": 77,
   "outputs": [],
   "source": [
    "dd[\"two\"] = 2"
   ],
   "metadata": {
    "collapsed": false,
    "ExecuteTime": {
     "end_time": "2023-07-07T17:31:57.256956Z",
     "start_time": "2023-07-07T17:31:57.247733Z"
    }
   }
  },
  {
   "cell_type": "code",
   "execution_count": 78,
   "outputs": [
    {
     "data": {
      "text/plain": "{'one': [1, 1], 'two': [2, 2]}"
     },
     "execution_count": 78,
     "metadata": {},
     "output_type": "execute_result"
    }
   ],
   "source": [
    "dd"
   ],
   "metadata": {
    "collapsed": false,
    "ExecuteTime": {
     "end_time": "2023-07-07T17:31:57.414142Z",
     "start_time": "2023-07-07T17:31:57.405352Z"
    }
   }
  },
  {
   "cell_type": "code",
   "execution_count": 79,
   "outputs": [],
   "source": [
    "dd.update(three=3)"
   ],
   "metadata": {
    "collapsed": false,
    "ExecuteTime": {
     "end_time": "2023-07-07T17:31:58.562789Z",
     "start_time": "2023-07-07T17:31:58.555663Z"
    }
   }
  },
  {
   "cell_type": "code",
   "execution_count": 80,
   "outputs": [
    {
     "data": {
      "text/plain": "{'one': [1, 1], 'two': [2, 2], 'three': [3, 3]}"
     },
     "execution_count": 80,
     "metadata": {},
     "output_type": "execute_result"
    }
   ],
   "source": [
    "dd"
   ],
   "metadata": {
    "collapsed": false,
    "ExecuteTime": {
     "end_time": "2023-07-07T17:31:59.462760Z",
     "start_time": "2023-07-07T17:31:59.451467Z"
    }
   }
  },
  {
   "cell_type": "code",
   "execution_count": 81,
   "outputs": [],
   "source": [
    "class AnswerDict2(collections.UserDict):\n",
    "    def __getitem__(self, item):\n",
    "        return 42"
   ],
   "metadata": {
    "collapsed": false,
    "ExecuteTime": {
     "end_time": "2023-07-07T17:31:59.858212Z",
     "start_time": "2023-07-07T17:31:59.848947Z"
    }
   }
  },
  {
   "cell_type": "code",
   "execution_count": 82,
   "outputs": [
    {
     "data": {
      "text/plain": "{'a': 'foo'}"
     },
     "execution_count": 82,
     "metadata": {},
     "output_type": "execute_result"
    }
   ],
   "source": [
    "ad = AnswerDict2(a=\"foo\")\n",
    "ad"
   ],
   "metadata": {
    "collapsed": false,
    "ExecuteTime": {
     "end_time": "2023-07-07T17:32:00.026481Z",
     "start_time": "2023-07-07T17:32:00.017192Z"
    }
   }
  },
  {
   "cell_type": "code",
   "execution_count": 83,
   "outputs": [
    {
     "data": {
      "text/plain": "42"
     },
     "execution_count": 83,
     "metadata": {},
     "output_type": "execute_result"
    }
   ],
   "source": [
    "ad[\"a\"]"
   ],
   "metadata": {
    "collapsed": false,
    "ExecuteTime": {
     "end_time": "2023-07-07T17:32:00.219176Z",
     "start_time": "2023-07-07T17:32:00.209591Z"
    }
   }
  },
  {
   "cell_type": "code",
   "execution_count": 84,
   "outputs": [],
   "source": [
    "d = {}"
   ],
   "metadata": {
    "collapsed": false,
    "ExecuteTime": {
     "end_time": "2023-07-07T17:32:01.383007Z",
     "start_time": "2023-07-07T17:32:01.371869Z"
    }
   }
  },
  {
   "cell_type": "code",
   "execution_count": 85,
   "outputs": [],
   "source": [
    "d.update(ad)"
   ],
   "metadata": {
    "collapsed": false,
    "ExecuteTime": {
     "end_time": "2023-07-07T17:32:01.836507Z",
     "start_time": "2023-07-07T17:32:01.826827Z"
    }
   }
  },
  {
   "cell_type": "code",
   "execution_count": 86,
   "outputs": [
    {
     "data": {
      "text/plain": "42"
     },
     "execution_count": 86,
     "metadata": {},
     "output_type": "execute_result"
    }
   ],
   "source": [
    "d[\"a\"]"
   ],
   "metadata": {
    "collapsed": false,
    "ExecuteTime": {
     "end_time": "2023-07-07T17:32:02.269353Z",
     "start_time": "2023-07-07T17:32:02.220189Z"
    }
   }
  },
  {
   "cell_type": "code",
   "execution_count": 87,
   "outputs": [
    {
     "data": {
      "text/plain": "{'a': 42}"
     },
     "execution_count": 87,
     "metadata": {},
     "output_type": "execute_result"
    }
   ],
   "source": [
    "d"
   ],
   "metadata": {
    "collapsed": false,
    "ExecuteTime": {
     "end_time": "2023-07-07T17:32:03.274941Z",
     "start_time": "2023-07-07T17:32:03.253378Z"
    }
   }
  },
  {
   "cell_type": "markdown",
   "source": [
    "## Multiple Inheritance and Method Resolution Order\n",
    "\n",
    "If a class has two superclasses, how does Python decide which attribute to use when we call `super().attr` when both\n",
    "superclasses have an attribute with that name?\n",
    "\n",
    "This is called the diamond problem.\n",
    "\n",
    "Example 14-4. `diamond.py`: classes `Leaf`, `A`, `B`, `Root` form the graph.\n"
   ],
   "metadata": {
    "collapsed": false
   }
  },
  {
   "cell_type": "code",
   "execution_count": 88,
   "outputs": [],
   "source": [
    "\n",
    "class Root:  # <1>\n",
    "    def ping(self):\n",
    "        print(f'{self}.ping() in Root')\n",
    "\n",
    "    def pong(self):\n",
    "        print(f'{self}.pong() in Root')\n",
    "\n",
    "    def __repr__(self):\n",
    "        cls_name = type(self).__name__\n",
    "        return f'<instance of {cls_name}>'\n",
    "\n",
    "\n",
    "class A(Root):  # <2>\n",
    "    def ping(self):\n",
    "        print(f'{self}.ping() in A')\n",
    "        super().ping()\n",
    "\n",
    "    def pong(self):\n",
    "        print(f'{self}.pong() in A')\n",
    "        super().pong()\n",
    "\n",
    "\n",
    "class B(Root):  # <3>\n",
    "    def ping(self):\n",
    "        print(f'{self}.ping() in B')\n",
    "        super().ping()\n",
    "\n",
    "    def pong(self):\n",
    "        print(f'{self}.pong() in B')\n",
    "\n",
    "\n",
    "class Leaf(A, B):  # <4>\n",
    "    def ping(self):\n",
    "        print(f'{self}.ping() in Leaf')\n",
    "        super().ping()"
   ],
   "metadata": {
    "collapsed": false,
    "ExecuteTime": {
     "end_time": "2023-07-07T18:32:46.822178Z",
     "start_time": "2023-07-07T18:32:46.818691Z"
    }
   }
  },
  {
   "cell_type": "markdown",
   "source": [
    "Example 14-5. Doctests for calling ping and pong on a `Leaf` object"
   ],
   "metadata": {
    "collapsed": false
   }
  },
  {
   "cell_type": "code",
   "execution_count": 89,
   "outputs": [],
   "source": [
    "leaf1 = Leaf()"
   ],
   "metadata": {
    "collapsed": false,
    "ExecuteTime": {
     "end_time": "2023-07-07T18:32:55.126330Z",
     "start_time": "2023-07-07T18:32:55.116576Z"
    }
   }
  },
  {
   "cell_type": "code",
   "execution_count": 90,
   "outputs": [
    {
     "name": "stdout",
     "output_type": "stream",
     "text": [
      "<instance of Leaf>.ping() in Leaf\n",
      "<instance of Leaf>.ping() in A\n",
      "<instance of Leaf>.ping() in B\n",
      "<instance of Leaf>.ping() in Root\n"
     ]
    }
   ],
   "source": [
    "leaf1.ping()"
   ],
   "metadata": {
    "collapsed": false,
    "ExecuteTime": {
     "end_time": "2023-07-07T18:33:24.763104Z",
     "start_time": "2023-07-07T18:33:24.728901Z"
    }
   }
  },
  {
   "cell_type": "code",
   "execution_count": 91,
   "outputs": [
    {
     "name": "stdout",
     "output_type": "stream",
     "text": [
      "<instance of Leaf>.pong() in A\n",
      "<instance of Leaf>.pong() in B\n"
     ]
    }
   ],
   "source": [
    "leaf1.pong()"
   ],
   "metadata": {
    "collapsed": false,
    "ExecuteTime": {
     "end_time": "2023-07-07T18:34:00.926364Z",
     "start_time": "2023-07-07T18:34:00.918131Z"
    }
   }
  },
  {
   "cell_type": "code",
   "execution_count": 92,
   "outputs": [
    {
     "data": {
      "text/plain": "(__main__.Leaf, __main__.A, __main__.B, __main__.Root, object)"
     },
     "execution_count": 92,
     "metadata": {},
     "output_type": "execute_result"
    }
   ],
   "source": [
    "Leaf.__mro__"
   ],
   "metadata": {
    "collapsed": false,
    "ExecuteTime": {
     "end_time": "2023-07-07T18:35:26.670907Z",
     "start_time": "2023-07-07T18:35:26.665461Z"
    }
   }
  },
  {
   "cell_type": "markdown",
   "source": [
    "Example 14-6: `diamond2.py`: classes to demonstrate the dynamic nature of `super()`"
   ],
   "metadata": {
    "collapsed": false
   }
  },
  {
   "cell_type": "code",
   "execution_count": 93,
   "outputs": [],
   "source": [
    "class A(Root):  # <2>\n",
    "    def ping(self):\n",
    "        print(f'{self}.ping() in A')\n",
    "        super().ping()\n",
    "\n",
    "    def pong(self):\n",
    "        print(f'{self}.pong() in A')\n",
    "        super().pong()\n",
    "\n",
    "class U():  # <2>\n",
    "    def ping(self):\n",
    "        print(f'{self}.ping() in U')\n",
    "        super().ping()  # <3>\n",
    "\n",
    "class LeafUA(U, A):  # <4>\n",
    "    def ping(self):\n",
    "        print(f'{self}.ping() in LeafUA')\n",
    "        super().ping()\n",
    "# end::DIAMOND_CLASSES[]\n",
    "\n",
    "class LeafAU(A, U):\n",
    "    def ping(self):\n",
    "        print(f'{self}.ping() in LeafAU')\n",
    "        super().ping()"
   ],
   "metadata": {
    "collapsed": false,
    "ExecuteTime": {
     "end_time": "2023-07-07T18:39:56.086919Z",
     "start_time": "2023-07-07T18:39:56.082377Z"
    }
   }
  },
  {
   "cell_type": "code",
   "execution_count": 94,
   "outputs": [],
   "source": [
    "u = U()"
   ],
   "metadata": {
    "collapsed": false,
    "ExecuteTime": {
     "end_time": "2023-07-07T18:39:56.725327Z",
     "start_time": "2023-07-07T18:39:56.714243Z"
    }
   }
  },
  {
   "cell_type": "code",
   "execution_count": 95,
   "outputs": [
    {
     "name": "stdout",
     "output_type": "stream",
     "text": [
      "<__main__.U object at 0x7ff6844866b0>.ping() in U\n"
     ]
    },
    {
     "ename": "AttributeError",
     "evalue": "'super' object has no attribute 'ping'",
     "output_type": "error",
     "traceback": [
      "\u001B[0;31m---------------------------------------------------------------------------\u001B[0m",
      "\u001B[0;31mAttributeError\u001B[0m                            Traceback (most recent call last)",
      "Cell \u001B[0;32mIn[95], line 1\u001B[0m\n\u001B[0;32m----> 1\u001B[0m \u001B[43mu\u001B[49m\u001B[38;5;241;43m.\u001B[39;49m\u001B[43mping\u001B[49m\u001B[43m(\u001B[49m\u001B[43m)\u001B[49m\n",
      "Cell \u001B[0;32mIn[93], line 13\u001B[0m, in \u001B[0;36mU.ping\u001B[0;34m(self)\u001B[0m\n\u001B[1;32m     11\u001B[0m \u001B[38;5;28;01mdef\u001B[39;00m \u001B[38;5;21mping\u001B[39m(\u001B[38;5;28mself\u001B[39m):\n\u001B[1;32m     12\u001B[0m     \u001B[38;5;28mprint\u001B[39m(\u001B[38;5;124mf\u001B[39m\u001B[38;5;124m'\u001B[39m\u001B[38;5;132;01m{\u001B[39;00m\u001B[38;5;28mself\u001B[39m\u001B[38;5;132;01m}\u001B[39;00m\u001B[38;5;124m.ping() in U\u001B[39m\u001B[38;5;124m'\u001B[39m)\n\u001B[0;32m---> 13\u001B[0m     \u001B[38;5;28;43msuper\u001B[39;49m\u001B[43m(\u001B[49m\u001B[43m)\u001B[49m\u001B[38;5;241;43m.\u001B[39;49m\u001B[43mping\u001B[49m()\n",
      "\u001B[0;31mAttributeError\u001B[0m: 'super' object has no attribute 'ping'"
     ]
    }
   ],
   "source": [
    "u.ping()"
   ],
   "metadata": {
    "collapsed": false,
    "ExecuteTime": {
     "end_time": "2023-07-07T18:39:59.552712Z",
     "start_time": "2023-07-07T18:39:59.455998Z"
    }
   }
  },
  {
   "cell_type": "code",
   "execution_count": 97,
   "outputs": [],
   "source": [
    "leaf2 = LeafUA()"
   ],
   "metadata": {
    "collapsed": false,
    "ExecuteTime": {
     "end_time": "2023-07-07T18:40:32.060265Z",
     "start_time": "2023-07-07T18:40:32.052225Z"
    }
   }
  },
  {
   "cell_type": "code",
   "execution_count": 98,
   "outputs": [
    {
     "name": "stdout",
     "output_type": "stream",
     "text": [
      "<instance of LeafUA>.ping() in LeafUA\n",
      "<instance of LeafUA>.ping() in U\n",
      "<instance of LeafUA>.ping() in A\n",
      "<instance of LeafUA>.ping() in Root\n"
     ]
    }
   ],
   "source": [
    "leaf2.ping()"
   ],
   "metadata": {
    "collapsed": false,
    "ExecuteTime": {
     "end_time": "2023-07-07T18:40:48.038889Z",
     "start_time": "2023-07-07T18:40:48.028086Z"
    }
   }
  },
  {
   "cell_type": "code",
   "execution_count": 99,
   "outputs": [
    {
     "data": {
      "text/plain": "(__main__.LeafUA, __main__.U, __main__.A, __main__.Root, object)"
     },
     "execution_count": 99,
     "metadata": {},
     "output_type": "execute_result"
    }
   ],
   "source": [
    "LeafUA.__mro__"
   ],
   "metadata": {
    "collapsed": false,
    "ExecuteTime": {
     "end_time": "2023-07-07T18:40:55.200075Z",
     "start_time": "2023-07-07T18:40:55.189101Z"
    }
   }
  },
  {
   "cell_type": "code",
   "execution_count": 100,
   "outputs": [
    {
     "name": "stdout",
     "output_type": "stream",
     "text": [
      "<instance of LeafAU>.ping() in LeafAU\n",
      "<instance of LeafAU>.ping() in A\n",
      "<instance of LeafAU>.ping() in Root\n"
     ]
    }
   ],
   "source": [
    "leaf3 = LeafAU()\n",
    "leaf3.ping()"
   ],
   "metadata": {
    "collapsed": false,
    "ExecuteTime": {
     "end_time": "2023-07-07T18:41:18.126740Z",
     "start_time": "2023-07-07T18:41:18.117925Z"
    }
   }
  },
  {
   "cell_type": "code",
   "execution_count": 101,
   "outputs": [
    {
     "data": {
      "text/plain": "(__main__.LeafAU, __main__.A, __main__.Root, __main__.U, object)"
     },
     "execution_count": 101,
     "metadata": {},
     "output_type": "execute_result"
    }
   ],
   "source": [
    "LeafAU.__mro__"
   ],
   "metadata": {
    "collapsed": false,
    "ExecuteTime": {
     "end_time": "2023-07-07T18:42:58.818860Z",
     "start_time": "2023-07-07T18:42:58.808857Z"
    }
   }
  },
  {
   "cell_type": "markdown",
   "source": [
    "Example 14-7. MRO of `tkinter.Text`"
   ],
   "metadata": {
    "collapsed": false
   }
  },
  {
   "cell_type": "code",
   "execution_count": 102,
   "outputs": [
    {
     "name": "stdout",
     "output_type": "stream",
     "text": [
      "Text, Widget, BaseWidget, Misc, Pack, Place, Grid, XView, YView, object\n"
     ]
    }
   ],
   "source": [
    "def print_mro(cls):\n",
    "    print(\", \".join(c.__name__ for c in cls.__mro__))\n",
    "\n",
    "import tkinter\n",
    "print_mro(tkinter.Text)"
   ],
   "metadata": {
    "collapsed": false,
    "ExecuteTime": {
     "end_time": "2023-07-07T18:46:55.698791Z",
     "start_time": "2023-07-07T18:46:55.677845Z"
    }
   }
  },
  {
   "cell_type": "markdown",
   "source": [
    "## Mixin Classes\n",
    "\n",
    "A mixin class is designed to be subclassed together with at least one other class in a multiple inheritance arrangement.\n",
    "\n",
    "A mixin is not supposed to be the only base class of a concrete class, because it does not provide all the\n",
    "functionality for a concrete object, but only adds or customizes the behavior of child or sibling classes."
   ],
   "metadata": {
    "collapsed": false
   }
  },
  {
   "cell_type": "markdown",
   "source": [
    "### Case-Insensitive Mappings\n",
    "\n",
    "Example 14-8. `uppermixin.py`: `UpperCaseMixin` supports case-insensitive mappings"
   ],
   "metadata": {
    "collapsed": false
   }
  },
  {
   "cell_type": "code",
   "execution_count": null,
   "outputs": [],
   "source": [
    "import collections\n",
    "\n",
    "def _upper(key):  # <1>\n",
    "    try:\n",
    "        return key.upper()\n",
    "    except AttributeError:\n",
    "        return key\n",
    "\n",
    "class UpperCaseMixin:  # <2>\n",
    "    \"\"\"\n",
    "    A class designed to provide case-insensitive access to mappings with string keys\n",
    "    by uppercasing those keys when they are added or looked up\n",
    "    \"\"\"\n",
    "    def __setitem__(self, key, item):\n",
    "        super().__setitem__(_upper(key), item)\n",
    "\n",
    "    def __getitem__(self, key):\n",
    "        return super().__getitem__(_upper(key))\n",
    "\n",
    "    def get(self, key, default=None):\n",
    "        return super().get(_upper(key), default)\n",
    "\n",
    "    def __contains__(self, key):\n",
    "        return super().__contains__(_upper(key))"
   ],
   "metadata": {
    "collapsed": false
   }
  },
  {
   "cell_type": "markdown",
   "source": [
    "Example 14-9. `uppermixin.py`: two classes that use `UpperCaseMixin`"
   ],
   "metadata": {
    "collapsed": false
   }
  },
  {
   "cell_type": "code",
   "execution_count": 103,
   "outputs": [],
   "source": [
    "class UpperDict(UpperCaseMixin, collections.UserDict):  # <1>\n",
    "    pass\n",
    "\n",
    "class UpperCounter(UpperCaseMixin, collections.Counter):  # <2>\n",
    "    \"\"\"Specialized 'Counter' that uppercases string keys\"\"\"  # <3>"
   ],
   "metadata": {
    "collapsed": false,
    "ExecuteTime": {
     "end_time": "2023-07-07T18:52:09.542292Z",
     "start_time": "2023-07-07T18:52:09.526327Z"
    }
   }
  },
  {
   "cell_type": "markdown",
   "source": [
    "A quick demonstration of `UpperDict`"
   ],
   "metadata": {
    "collapsed": false
   }
  },
  {
   "cell_type": "code",
   "execution_count": 104,
   "outputs": [],
   "source": [
    "d = UpperDict([('a', 'letter A'), (2, 'digit two')])"
   ],
   "metadata": {
    "collapsed": false,
    "ExecuteTime": {
     "end_time": "2023-07-07T18:52:18.731564Z",
     "start_time": "2023-07-07T18:52:18.721266Z"
    }
   }
  },
  {
   "cell_type": "code",
   "execution_count": 105,
   "outputs": [
    {
     "data": {
      "text/plain": "['A', 2]"
     },
     "execution_count": 105,
     "metadata": {},
     "output_type": "execute_result"
    }
   ],
   "source": [
    "list(d.keys())"
   ],
   "metadata": {
    "collapsed": false,
    "ExecuteTime": {
     "end_time": "2023-07-07T18:53:13.485671Z",
     "start_time": "2023-07-07T18:53:13.478587Z"
    }
   }
  },
  {
   "cell_type": "code",
   "execution_count": 106,
   "outputs": [],
   "source": [
    "d['b'] = 'letter B'"
   ],
   "metadata": {
    "collapsed": false,
    "ExecuteTime": {
     "end_time": "2023-07-07T18:53:28.301380Z",
     "start_time": "2023-07-07T18:53:28.291092Z"
    }
   }
  },
  {
   "cell_type": "code",
   "execution_count": 107,
   "outputs": [
    {
     "data": {
      "text/plain": "KeysView({'A': 'letter A', 2: 'digit two', 'B': 'letter B'})"
     },
     "execution_count": 107,
     "metadata": {},
     "output_type": "execute_result"
    }
   ],
   "source": [
    "d.keys()"
   ],
   "metadata": {
    "collapsed": false,
    "ExecuteTime": {
     "end_time": "2023-07-07T18:54:15.530064Z",
     "start_time": "2023-07-07T18:54:15.520951Z"
    }
   }
  },
  {
   "cell_type": "code",
   "execution_count": 108,
   "outputs": [
    {
     "data": {
      "text/plain": "True"
     },
     "execution_count": 108,
     "metadata": {},
     "output_type": "execute_result"
    }
   ],
   "source": [
    "'b' in d"
   ],
   "metadata": {
    "collapsed": false,
    "ExecuteTime": {
     "end_time": "2023-07-07T18:55:25.951685Z",
     "start_time": "2023-07-07T18:55:25.909106Z"
    }
   }
  },
  {
   "cell_type": "code",
   "execution_count": 109,
   "outputs": [
    {
     "data": {
      "text/plain": "('letter A', 'letter B')"
     },
     "execution_count": 109,
     "metadata": {},
     "output_type": "execute_result"
    }
   ],
   "source": [
    "d['a'], d.get('B')"
   ],
   "metadata": {
    "collapsed": false,
    "ExecuteTime": {
     "end_time": "2023-07-07T18:55:47.658119Z",
     "start_time": "2023-07-07T18:55:47.647309Z"
    }
   }
  },
  {
   "cell_type": "code",
   "execution_count": 110,
   "outputs": [
    {
     "data": {
      "text/plain": "['A', 2, 'B']"
     },
     "execution_count": 110,
     "metadata": {},
     "output_type": "execute_result"
    }
   ],
   "source": [
    "list(d.keys())"
   ],
   "metadata": {
    "collapsed": false,
    "ExecuteTime": {
     "end_time": "2023-07-07T18:55:53.179287Z",
     "start_time": "2023-07-07T18:55:53.167951Z"
    }
   }
  },
  {
   "cell_type": "markdown",
   "source": [
    "A quick demonstration of `UpperCounter`"
   ],
   "metadata": {
    "collapsed": false
   }
  },
  {
   "cell_type": "code",
   "execution_count": 111,
   "outputs": [
    {
     "data": {
      "text/plain": "[('A', 3), ('N', 2), ('B', 1)]"
     },
     "execution_count": 111,
     "metadata": {},
     "output_type": "execute_result"
    }
   ],
   "source": [
    "c = UpperCounter('BaNanA')\n",
    "c.most_common()"
   ],
   "metadata": {
    "collapsed": false,
    "ExecuteTime": {
     "end_time": "2023-07-07T18:58:39.431086Z",
     "start_time": "2023-07-07T18:58:39.351108Z"
    }
   }
  },
  {
   "cell_type": "markdown",
   "source": [
    "## Multiple inheritance in the Real World\n",
    "\n",
    "### ABCs Are Mixins Too\n",
    "\n",
    "### ThreadingMixIn and ForkingMixIn\n",
    "\n",
    "The `http.server` package provides `HTTPServer` and `ThreadingHTTPServer` classes. The only difference is:\n",
    "\n",
    "the threading one uses threads to handle requests by using the `ThreadingMixin`. This is useful to handle web\n",
    "browsers pre-opening sockets, on which `HTTPServer` would wait indefinitely.\n",
    "\n",
    "The complete source code for `ThreadingHTTPServer`:"
   ],
   "metadata": {
    "collapsed": false
   }
  },
  {
   "cell_type": "code",
   "execution_count": null,
   "outputs": [],
   "source": [
    "\n",
    "class ThreadingHTTPServer(socketserver.ThreadingMixIn, HTTPServer):\n",
    "    daemon_threads = True"
   ],
   "metadata": {
    "collapsed": false
   }
  },
  {
   "cell_type": "markdown",
   "source": [
    "Example 14-10. Part of `Lib/sockerserver.py` in python 3.10"
   ],
   "metadata": {
    "collapsed": false
   }
  },
  {
   "cell_type": "code",
   "execution_count": null,
   "outputs": [],
   "source": [
    "class ThreadingMixIn:\n",
    "    \"\"\"Mixin class to handle each request in a new thread.\"\"\"\n",
    "\n",
    "    # 8 lines omitted\n",
    "\n",
    "    def process_request_thread(selfself, request, client_address):\n",
    "        ... # 6 lines omitted\n",
    "\n",
    "    def process_request(self, request, client_address):\n",
    "        ... # 8 lines omitted\n",
    "\n",
    "    def server_close(self):\n",
    "        super().server_close()\n",
    "        self._threads.join()"
   ],
   "metadata": {
    "collapsed": false
   }
  },
  {
   "cell_type": "markdown",
   "source": [
    "## Django Generic Views Mixins\n",
    "\n",
    "See book highlights\n",
    "\n",
    "## Multiple Inheritance in Tkinter\n",
    "\n",
    "See book highlights"
   ],
   "metadata": {
    "collapsed": false
   }
  },
  {
   "cell_type": "code",
   "execution_count": 112,
   "outputs": [
    {
     "name": "stdout",
     "output_type": "stream",
     "text": [
      "Toplevel, BaseWidget, Misc, Wm, object\n"
     ]
    }
   ],
   "source": [
    "import tkinter\n",
    "\n",
    "print_mro(tkinter.Toplevel)"
   ],
   "metadata": {
    "collapsed": false,
    "ExecuteTime": {
     "end_time": "2023-07-07T19:06:50.257452Z",
     "start_time": "2023-07-07T19:06:50.249587Z"
    }
   }
  },
  {
   "cell_type": "code",
   "execution_count": 113,
   "outputs": [
    {
     "name": "stdout",
     "output_type": "stream",
     "text": [
      "Widget, BaseWidget, Misc, Pack, Place, Grid, object\n"
     ]
    }
   ],
   "source": [
    "print_mro(tkinter.Widget)"
   ],
   "metadata": {
    "collapsed": false,
    "ExecuteTime": {
     "end_time": "2023-07-07T19:06:53.672687Z",
     "start_time": "2023-07-07T19:06:53.663092Z"
    }
   }
  },
  {
   "cell_type": "code",
   "execution_count": 114,
   "outputs": [
    {
     "name": "stdout",
     "output_type": "stream",
     "text": [
      "Button, Widget, BaseWidget, Misc, Pack, Place, Grid, object\n"
     ]
    }
   ],
   "source": [
    "print_mro(tkinter.Button)"
   ],
   "metadata": {
    "collapsed": false,
    "ExecuteTime": {
     "end_time": "2023-07-07T19:06:55.609369Z",
     "start_time": "2023-07-07T19:06:55.601185Z"
    }
   }
  },
  {
   "cell_type": "code",
   "execution_count": 115,
   "outputs": [
    {
     "name": "stdout",
     "output_type": "stream",
     "text": [
      "Entry, Widget, BaseWidget, Misc, Pack, Place, Grid, XView, object\n"
     ]
    }
   ],
   "source": [
    "print_mro(tkinter.Entry)"
   ],
   "metadata": {
    "collapsed": false,
    "ExecuteTime": {
     "end_time": "2023-07-07T19:06:57.497452Z",
     "start_time": "2023-07-07T19:06:57.486494Z"
    }
   }
  },
  {
   "cell_type": "code",
   "execution_count": 116,
   "outputs": [
    {
     "name": "stdout",
     "output_type": "stream",
     "text": [
      "Text, Widget, BaseWidget, Misc, Pack, Place, Grid, XView, YView, object\n"
     ]
    }
   ],
   "source": [
    "print_mro(tkinter.Text)"
   ],
   "metadata": {
    "collapsed": false,
    "ExecuteTime": {
     "end_time": "2023-07-07T19:07:00.443832Z",
     "start_time": "2023-07-07T19:07:00.422197Z"
    }
   }
  },
  {
   "cell_type": "markdown",
   "source": [
    "## Coping with Inheritance\n",
    "\n",
    "### favor object composition over class inheritance"
   ],
   "metadata": {
    "collapsed": false
   }
  },
  {
   "cell_type": "code",
   "execution_count": null,
   "outputs": [],
   "source": [
    "class GeometryManager():\n",
    "    def some_method(self):\n",
    "        print('managing geometry')"
   ],
   "metadata": {
    "collapsed": false
   }
  },
  {
   "cell_type": "code",
   "execution_count": null,
   "outputs": [],
   "source": [
    "# inheritance\n",
    "class Widget(GeometryManager):\n",
    "    def widget_method(self):\n",
    "        print(\"making widget\")"
   ],
   "metadata": {
    "collapsed": false
   }
  },
  {
   "cell_type": "code",
   "execution_count": null,
   "outputs": [],
   "source": [
    "# composition\n",
    "class Widget:\n",
    "    def __init__(self):\n",
    "        self.geometry_manager = GeometryManager()"
   ],
   "metadata": {
    "collapsed": false
   }
  },
  {
   "cell_type": "markdown",
   "source": [
    "### Understand Why Inheritance is Used in Each Case\n",
    "\n",
    "The main reasons are:\n",
    " - Inheritance of interface creates a subtype, implying an \"is-a\" relationship. This is best done with ABCs.\n",
    " - Inheritance of implementation avoids code duplication by reuse. Mixins can help with this."
   ],
   "metadata": {
    "collapsed": false
   }
  },
  {
   "cell_type": "markdown",
   "source": [
    "### Make Interfaces Explicit with ABCs\n",
    "\n",
    "### Use Explicit Mixins for Code Reuse\n",
    "\n",
    "### Provide Aggregate Classes to\n",
    "\n",
    "From Django's source code, we have:\n"
   ],
   "metadata": {
    "collapsed": false
   }
  },
  {
   "cell_type": "code",
   "execution_count": null,
   "outputs": [],
   "source": [
    "class ListView(MultiipleObjectTemplateResponseMixin, BaseListView):\n",
    "    \"\"\"\n",
    "    Render some list of objects, set by `self.model` or `self.queryset`.\n",
    "    `self.queryset` can actually be an iterable of items, not just a queryset.\n",
    "    \"\"\""
   ],
   "metadata": {
    "collapsed": false
   }
  },
  {
   "cell_type": "markdown",
   "source": [
    "Even though the body is empty, the class provides a useful sercice: it brings together a mixin and a base class that\n",
    "should be used together."
   ],
   "metadata": {
    "collapsed": false
   }
  },
  {
   "cell_type": "markdown",
   "source": [
    "## Subclass Only Classes Designed for Subclassing\n",
    "\n",
    "Advice: Only create subclasses of classes that were designed to be subclassed.\n",
    "\n",
    "How do you know if a class was designed to be subclassed?\n",
    "- documentation\n",
    "- `@final` - IDEs or type checkers can report misguided attempts to subclass those classes or override those methods"
   ],
   "metadata": {
    "collapsed": false
   }
  },
  {
   "cell_type": "markdown",
   "source": [
    "## Avoid Subclassing from Concrete Classes\n",
    "\n",
    "Why is it dangerous to subclass concrete classes?\n",
    "\n",
    "All non-leaf classes should be abstract. Said differently, only abstract classes should be subclassed."
   ],
   "metadata": {
    "collapsed": false
   }
  },
  {
   "cell_type": "markdown",
   "source": [
    "# Summary\n",
    "\n",
    "- `super()` function\n",
    "    - problems with subclassing built-ins like `list`. Use `UserList` instead\n",
    "    - Sometimes, it's easier to the appropriate ABC from `collections.abc` and write your own implementations\n",
    "- Multiple Inheritance\n",
    "    - `__mro__` addresses the problem of potential naming conflicts of inherited methods\n",
    "    - `super()` can behave unexpectedly with multiple inheritance. It's designed to support mixin classes\n",
    "    - We reviewed examples of multiple inheritance and mixins via Django, the python ABCs, and Tkinter.\n",
    "\n",
    "Note that Go doesn't support inheritance - not even among interfaces. And it's doing just fine.\n",
    "\n",
    "Perhaps the best advice about inheritance is: avoid it if you can. But often, we don't have a choice: the frameworks\n",
    "we use impose their own design choices."
   ],
   "metadata": {
    "collapsed": false
   }
  },
  {
   "cell_type": "code",
   "execution_count": null,
   "outputs": [],
   "source": [],
   "metadata": {
    "collapsed": false
   }
  }
 ],
 "metadata": {
  "kernelspec": {
   "display_name": "Python 3",
   "language": "python",
   "name": "python3"
  },
  "language_info": {
   "codemirror_mode": {
    "name": "ipython",
    "version": 2
   },
   "file_extension": ".py",
   "mimetype": "text/x-python",
   "name": "python",
   "nbconvert_exporter": "python",
   "pygments_lexer": "ipython2",
   "version": "2.7.6"
  }
 },
 "nbformat": 4,
 "nbformat_minor": 0
}
