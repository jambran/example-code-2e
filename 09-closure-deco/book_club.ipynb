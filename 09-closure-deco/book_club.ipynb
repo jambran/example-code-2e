{
 "cells": [
  {
   "cell_type": "markdown",
   "source": [
    "# Decorators and Closures\n",
    "\n",
    "Function decorators let us \"mark\" functions in the source code to enhance their behavior in some way.\n",
    "\n",
    "We'll cover:\n",
    "- How Python evaluates decorator syntax\n",
    "- How Python decides whether a variable is local\n",
    "- Why closures exist and how they work\n",
    "- What problem is solved by `nonlocal`\n",
    "\n",
    "We can further tackle:\n",
    "- Implementing a well-behaved decorator\n",
    "- Powerful decorators in the standard library: `@cache`, `@lru_cache`, and\n",
    "`@singledispatch`\n",
    "- Implementing a parameterized decorator"
   ],
   "metadata": {
    "collapsed": false
   }
  },
  {
   "cell_type": "markdown",
   "source": [
    "## Decorators 101\n",
    "\n",
    "A decorator is a callable that takes another function as an argument (the\n",
    "decorated function).\n",
    "\n",
    "A decorator may perform some processing with the decorated function, and\n",
    "returns it or replaces it with another function or callable object.\n",
    "\n",
    "In other words, this\n",
    "```python\n",
    "@decorate\n",
    "def target():\n",
    "    print(\"running target()\")\n",
    "```\n",
    "has the same effect as this\n",
    "```python\n",
    "def target():\n",
    "    print(\"running target()\")\n",
    "\n",
    "target = decorate(target)\n",
    "```"
   ],
   "metadata": {
    "collapsed": false
   }
  },
  {
   "cell_type": "markdown",
   "source": [
    "Example 9-1. A decorator usually replaces a function with a different one"
   ],
   "metadata": {
    "collapsed": false
   }
  },
  {
   "cell_type": "code",
   "execution_count": 1,
   "outputs": [],
   "source": [
    "def deco(func):\n",
    "    def inner():\n",
    "        print('running inner()')\n",
    "    return inner\n",
    "\n",
    "@deco\n",
    "def target():\n",
    "    print('running target()')"
   ],
   "metadata": {
    "collapsed": false
   }
  },
  {
   "cell_type": "code",
   "execution_count": 2,
   "outputs": [
    {
     "name": "stdout",
     "output_type": "stream",
     "text": [
      "running inner()\n"
     ]
    }
   ],
   "source": [
    "target()"
   ],
   "metadata": {
    "collapsed": false
   }
  },
  {
   "cell_type": "code",
   "execution_count": 3,
   "outputs": [
    {
     "data": {
      "text/plain": "<function __main__.deco.<locals>.inner()>"
     },
     "execution_count": 3,
     "metadata": {},
     "output_type": "execute_result"
    }
   ],
   "source": [
    "target"
   ],
   "metadata": {
    "collapsed": false
   }
  },
  {
   "cell_type": "markdown",
   "source": [
    "## When Python Executes Decorators\n",
    "\n",
    "Example 9-2. The `registration.py` module"
   ],
   "metadata": {
    "collapsed": false
   }
  },
  {
   "cell_type": "code",
   "execution_count": 4,
   "outputs": [
    {
     "name": "stdout",
     "output_type": "stream",
     "text": [
      "running register(<function f1 at 0x7fd0d3b43ac0>)\n",
      "running register(<function f2 at 0x7fd0d3b43be0>)\n"
     ]
    }
   ],
   "source": [
    "# tag::REGISTRATION[]\n",
    "\n",
    "registry = []  # <1>\n",
    "\n",
    "def register(func):  # <2>\n",
    "    print(f'running register({func})')  # <3>\n",
    "    registry.append(func)  # <4>\n",
    "    return func  # <5>\n",
    "\n",
    "@register  # <6>\n",
    "def f1():\n",
    "    print('running f1()')\n",
    "\n",
    "@register\n",
    "def f2():\n",
    "    print('running f2()')\n",
    "\n",
    "def f3():  # <7>\n",
    "    print('running f3()')\n",
    "\n",
    "\n",
    "# end::REGISTRATION[]\n"
   ],
   "metadata": {
    "collapsed": false
   }
  },
  {
   "cell_type": "code",
   "execution_count": 4,
   "outputs": [],
   "source": [],
   "metadata": {
    "collapsed": false
   }
  },
  {
   "cell_type": "code",
   "execution_count": 5,
   "outputs": [
    {
     "name": "stdout",
     "output_type": "stream",
     "text": [
      "registry -> [<function f1 at 0x7fd0d3b43ac0>, <function f2 at 0x7fd0d3b43be0>]\n"
     ]
    }
   ],
   "source": [
    "print('registry ->', registry)"
   ],
   "metadata": {
    "collapsed": false
   }
  },
  {
   "cell_type": "code",
   "execution_count": 6,
   "outputs": [
    {
     "name": "stdout",
     "output_type": "stream",
     "text": [
      "running f1()\n"
     ]
    }
   ],
   "source": [
    "f1()"
   ],
   "metadata": {
    "collapsed": false
   }
  },
  {
   "cell_type": "code",
   "execution_count": 7,
   "outputs": [
    {
     "data": {
      "text/plain": "[<function __main__.f1()>, <function __main__.f2()>]"
     },
     "execution_count": 7,
     "metadata": {},
     "output_type": "execute_result"
    }
   ],
   "source": [
    "registry"
   ],
   "metadata": {
    "collapsed": false
   }
  },
  {
   "cell_type": "code",
   "execution_count": 8,
   "outputs": [
    {
     "name": "stdout",
     "output_type": "stream",
     "text": [
      "running f2()\n"
     ]
    }
   ],
   "source": [
    "f2()"
   ],
   "metadata": {
    "collapsed": false
   }
  },
  {
   "cell_type": "code",
   "execution_count": 9,
   "outputs": [
    {
     "name": "stdout",
     "output_type": "stream",
     "text": [
      "running f3()\n"
     ]
    }
   ],
   "source": [
    "f3()"
   ],
   "metadata": {
    "collapsed": false
   }
  },
  {
   "cell_type": "markdown",
   "source": [
    "`registration.py` holds the above commands in an `if __name__ == '__main__':`\n",
    " block. What will be different when running that script directly vs importing?"
   ],
   "metadata": {
    "collapsed": false
   }
  },
  {
   "cell_type": "code",
   "execution_count": 10,
   "outputs": [
    {
     "name": "stdout",
     "output_type": "stream",
     "text": [
      "running register(<function f1 at 0x7f7ee31d64d0>)\r\n",
      "running register(<function f2 at 0x7f7ee31d6560>)\r\n",
      "running main()\r\n",
      "registry -> [<function f1 at 0x7f7ee31d64d0>, <function f2 at 0x7f7ee31d6560>]\r\n",
      "running f1()\r\n",
      "running f2()\r\n",
      "running f3()\r\n"
     ]
    }
   ],
   "source": [
    "! python registration.py"
   ],
   "metadata": {
    "collapsed": false
   }
  },
  {
   "cell_type": "code",
   "execution_count": 11,
   "outputs": [
    {
     "name": "stdout",
     "output_type": "stream",
     "text": [
      "running register(<function f1 at 0x7fd0d3be8430>)\n",
      "running register(<function f2 at 0x7fd0d3be83a0>)\n"
     ]
    }
   ],
   "source": [
    "import registration"
   ],
   "metadata": {
    "collapsed": false
   }
  },
  {
   "cell_type": "code",
   "execution_count": 12,
   "outputs": [
    {
     "data": {
      "text/plain": "[<function registration.f1()>, <function registration.f2()>]"
     },
     "execution_count": 12,
     "metadata": {},
     "output_type": "execute_result"
    }
   ],
   "source": [
    "registration.registry"
   ],
   "metadata": {
    "collapsed": false
   }
  },
  {
   "cell_type": "markdown",
   "source": [
    "## Registration Decorators\n",
    "\n",
    "Example 9-2 is a little funny in 2 ways:\n",
    "- The decorator function is defined in the same module as the decorated\n",
    "function. A real decorator is usually defined in one module and applied to\n",
    "functions in other modules.\n",
    "- The `register` decorator returns the same function passed as an argument.\n",
    "In practice, most decorators define an inner function and return it. These\n",
    "depend on closures to operate properly.\n",
    "\n",
    "Let's dig into how python handles closures."
   ],
   "metadata": {
    "collapsed": false
   }
  },
  {
   "cell_type": "markdown",
   "source": [
    "## Variable Scope Rules\n",
    "\n",
    "Example 9-3. Function reading a local and a global variable"
   ],
   "metadata": {
    "collapsed": false
   }
  },
  {
   "cell_type": "code",
   "execution_count": 13,
   "outputs": [],
   "source": [
    "def f1(a):\n",
    "    print(a)\n",
    "    print(b)"
   ],
   "metadata": {
    "collapsed": false
   }
  },
  {
   "cell_type": "code",
   "execution_count": 14,
   "outputs": [
    {
     "name": "stdout",
     "output_type": "stream",
     "text": [
      "3\n"
     ]
    },
    {
     "ename": "NameError",
     "evalue": "name 'b' is not defined",
     "output_type": "error",
     "traceback": [
      "\u001B[0;31m---------------------------------------------------------------------------\u001B[0m",
      "\u001B[0;31mNameError\u001B[0m                                 Traceback (most recent call last)",
      "Cell \u001B[0;32mIn[14], line 1\u001B[0m\n\u001B[0;32m----> 1\u001B[0m \u001B[43mf1\u001B[49m\u001B[43m(\u001B[49m\u001B[38;5;241;43m3\u001B[39;49m\u001B[43m)\u001B[49m\n",
      "Cell \u001B[0;32mIn[13], line 3\u001B[0m, in \u001B[0;36mf1\u001B[0;34m(a)\u001B[0m\n\u001B[1;32m      1\u001B[0m \u001B[38;5;28;01mdef\u001B[39;00m \u001B[38;5;21mf1\u001B[39m(a):\n\u001B[1;32m      2\u001B[0m     \u001B[38;5;28mprint\u001B[39m(a)\n\u001B[0;32m----> 3\u001B[0m     \u001B[38;5;28mprint\u001B[39m(\u001B[43mb\u001B[49m)\n",
      "\u001B[0;31mNameError\u001B[0m: name 'b' is not defined"
     ]
    }
   ],
   "source": [
    "f1(3)"
   ],
   "metadata": {
    "collapsed": false
   }
  },
  {
   "cell_type": "code",
   "execution_count": null,
   "outputs": [],
   "source": [
    "b = 6\n",
    "\n",
    "f1(3)"
   ],
   "metadata": {
    "collapsed": false
   }
  },
  {
   "cell_type": "markdown",
   "source": [
    "Example 9-4. Variable `b` is local, because it is assigned a value inside the\n",
    " body of the function"
   ],
   "metadata": {
    "collapsed": false
   }
  },
  {
   "cell_type": "code",
   "execution_count": 15,
   "outputs": [],
   "source": [
    "b = 6\n",
    "def f2(a):\n",
    "    print(a)\n",
    "    print(b)\n",
    "    b = 9"
   ],
   "metadata": {
    "collapsed": false
   }
  },
  {
   "cell_type": "code",
   "execution_count": 16,
   "outputs": [
    {
     "name": "stdout",
     "output_type": "stream",
     "text": [
      "3\n"
     ]
    },
    {
     "ename": "UnboundLocalError",
     "evalue": "local variable 'b' referenced before assignment",
     "output_type": "error",
     "traceback": [
      "\u001B[0;31m---------------------------------------------------------------------------\u001B[0m",
      "\u001B[0;31mUnboundLocalError\u001B[0m                         Traceback (most recent call last)",
      "Cell \u001B[0;32mIn[16], line 1\u001B[0m\n\u001B[0;32m----> 1\u001B[0m \u001B[43mf2\u001B[49m\u001B[43m(\u001B[49m\u001B[38;5;241;43m3\u001B[39;49m\u001B[43m)\u001B[49m\n",
      "Cell \u001B[0;32mIn[15], line 4\u001B[0m, in \u001B[0;36mf2\u001B[0;34m(a)\u001B[0m\n\u001B[1;32m      2\u001B[0m \u001B[38;5;28;01mdef\u001B[39;00m \u001B[38;5;21mf2\u001B[39m(a):\n\u001B[1;32m      3\u001B[0m     \u001B[38;5;28mprint\u001B[39m(a)\n\u001B[0;32m----> 4\u001B[0m     \u001B[38;5;28mprint\u001B[39m(\u001B[43mb\u001B[49m)\n\u001B[1;32m      5\u001B[0m     b \u001B[38;5;241m=\u001B[39m \u001B[38;5;241m9\u001B[39m\n",
      "\u001B[0;31mUnboundLocalError\u001B[0m: local variable 'b' referenced before assignment"
     ]
    }
   ],
   "source": [
    "f2(3)"
   ],
   "metadata": {
    "collapsed": false
   }
  },
  {
   "cell_type": "code",
   "execution_count": 17,
   "outputs": [],
   "source": [
    "b = 6\n",
    "def f3(a):\n",
    "    global b\n",
    "    print(a)\n",
    "    print(b)\n",
    "    b = 9"
   ],
   "metadata": {
    "collapsed": false
   }
  },
  {
   "cell_type": "code",
   "execution_count": 18,
   "outputs": [
    {
     "name": "stdout",
     "output_type": "stream",
     "text": [
      "3\n",
      "6\n"
     ]
    }
   ],
   "source": [
    "f3(3)"
   ],
   "metadata": {
    "collapsed": false
   }
  },
  {
   "cell_type": "code",
   "execution_count": 19,
   "outputs": [
    {
     "name": "stdout",
     "output_type": "stream",
     "text": [
      "3\n",
      "9\n"
     ]
    }
   ],
   "source": [
    "f3(3)"
   ],
   "metadata": {
    "collapsed": false
   }
  },
  {
   "cell_type": "code",
   "execution_count": 20,
   "outputs": [
    {
     "data": {
      "text/plain": "5"
     },
     "execution_count": 20,
     "metadata": {},
     "output_type": "execute_result"
    }
   ],
   "source": [
    "if not True:\n",
    "    variable = 3\n",
    "else:\n",
    "    variable = 5\n",
    "\n",
    "\n",
    "variable"
   ],
   "metadata": {
    "collapsed": false
   }
  },
  {
   "cell_type": "markdown",
   "source": [
    "There are 2 scopes at play here:\n",
    "- The module global scope\n",
    "- The f3 function local scope"
   ],
   "metadata": {
    "collapsed": false
   }
  },
  {
   "cell_type": "markdown",
   "source": [
    "Example 9-5. Disassembly of the f1 function from Example 9-3"
   ],
   "metadata": {
    "collapsed": false
   }
  },
  {
   "cell_type": "code",
   "execution_count": 21,
   "outputs": [
    {
     "name": "stdout",
     "output_type": "stream",
     "text": [
      "  2           0 LOAD_GLOBAL              0 (print)\n",
      "              2 LOAD_FAST                0 (a)\n",
      "              4 CALL_FUNCTION            1\n",
      "              6 POP_TOP\n",
      "\n",
      "  3           8 LOAD_GLOBAL              0 (print)\n",
      "             10 LOAD_GLOBAL              1 (b)\n",
      "             12 CALL_FUNCTION            1\n",
      "             14 POP_TOP\n",
      "             16 LOAD_CONST               0 (None)\n",
      "             18 RETURN_VALUE\n"
     ]
    }
   ],
   "source": [
    "from dis import dis\n",
    "\n",
    "dis(f1)"
   ],
   "metadata": {
    "collapsed": false
   }
  },
  {
   "cell_type": "markdown",
   "source": [
    "Example 9-6. Dissassembly of the f2 function from 9-4"
   ],
   "metadata": {
    "collapsed": false
   }
  },
  {
   "cell_type": "code",
   "execution_count": 22,
   "outputs": [
    {
     "name": "stdout",
     "output_type": "stream",
     "text": [
      "  3           0 LOAD_GLOBAL              0 (print)\n",
      "              2 LOAD_FAST                0 (a)\n",
      "              4 CALL_FUNCTION            1\n",
      "              6 POP_TOP\n",
      "\n",
      "  4           8 LOAD_GLOBAL              0 (print)\n",
      "             10 LOAD_FAST                1 (b)\n",
      "             12 CALL_FUNCTION            1\n",
      "             14 POP_TOP\n",
      "\n",
      "  5          16 LOAD_CONST               1 (9)\n",
      "             18 STORE_FAST               1 (b)\n",
      "             20 LOAD_CONST               0 (None)\n",
      "             22 RETURN_VALUE\n"
     ]
    }
   ],
   "source": [
    "dis(f2)"
   ],
   "metadata": {
    "collapsed": false
   }
  },
  {
   "cell_type": "markdown",
   "source": [
    "## Closures\n",
    "\n",
    "A closure is a function `f` with an extended scope that encompasses variables\n",
    " referenced in the body of `f` that are not global variables or local\n",
    " variables of `f`. Such variables must come from the local scope of an outer\n",
    " function that encompasses `f`.\n",
    "\n",
    "Consider the `avg` function to compute the mean of an ever-growing series of\n",
    "values. Every day a new price is added, and teh average is computed taking\n",
    "into account all prices so far.\n",
    "\n",
    "```python\n",
    ">>> avg(10)\n",
    "10\n",
    ">>> avg(11)\n",
    "10.5\n",
    ">>> avg(12)\n",
    "11\n",
    "```\n",
    "\n",
    "Example 9-7. `average_oo.py`: a class to calculate a running average"
   ],
   "metadata": {
    "collapsed": false
   }
  },
  {
   "cell_type": "code",
   "execution_count": 23,
   "outputs": [],
   "source": [
    "class Averager:\n",
    "\n",
    "    def __init__(self):\n",
    "        self.series = []\n",
    "\n",
    "    def __call__(self, new_value):\n",
    "        self.series.append(new_value)\n",
    "        total = sum(self.series)\n",
    "        return total / len(self.series)"
   ],
   "metadata": {
    "collapsed": false
   }
  },
  {
   "cell_type": "code",
   "execution_count": 24,
   "outputs": [],
   "source": [
    "avg = Averager()"
   ],
   "metadata": {
    "collapsed": false
   }
  },
  {
   "cell_type": "code",
   "execution_count": 25,
   "outputs": [
    {
     "data": {
      "text/plain": "10.0"
     },
     "execution_count": 25,
     "metadata": {},
     "output_type": "execute_result"
    }
   ],
   "source": [
    "avg(10)"
   ],
   "metadata": {
    "collapsed": false
   }
  },
  {
   "cell_type": "code",
   "execution_count": 26,
   "outputs": [
    {
     "data": {
      "text/plain": "10.5"
     },
     "execution_count": 26,
     "metadata": {},
     "output_type": "execute_result"
    }
   ],
   "source": [
    "avg(11)"
   ],
   "metadata": {
    "collapsed": false
   }
  },
  {
   "cell_type": "code",
   "execution_count": 27,
   "outputs": [
    {
     "data": {
      "text/plain": "11.0"
     },
     "execution_count": 27,
     "metadata": {},
     "output_type": "execute_result"
    }
   ],
   "source": [
    "avg(12)"
   ],
   "metadata": {
    "collapsed": false
   }
  },
  {
   "cell_type": "markdown",
   "source": [
    "Example 9-8. `average.py`: a higher-order function to calculate a running average"
   ],
   "metadata": {
    "collapsed": false
   }
  },
  {
   "cell_type": "code",
   "execution_count": 28,
   "outputs": [],
   "source": [
    "\n",
    "def make_averager():\n",
    "    series = []\n",
    "\n",
    "    def averager(new_value):\n",
    "        series.append(new_value)\n",
    "        total = sum(series)\n",
    "        return total / len(series)\n",
    "\n",
    "    return averager"
   ],
   "metadata": {
    "collapsed": false
   }
  },
  {
   "cell_type": "markdown",
   "source": [
    "Example 9-9. Testing Example 9-8"
   ],
   "metadata": {
    "collapsed": false
   }
  },
  {
   "cell_type": "code",
   "execution_count": 29,
   "outputs": [],
   "source": [
    "avg = make_averager()"
   ],
   "metadata": {
    "collapsed": false
   }
  },
  {
   "cell_type": "code",
   "execution_count": 30,
   "outputs": [
    {
     "data": {
      "text/plain": "10.0"
     },
     "execution_count": 30,
     "metadata": {},
     "output_type": "execute_result"
    }
   ],
   "source": [
    "avg(10)"
   ],
   "metadata": {
    "collapsed": false
   }
  },
  {
   "cell_type": "code",
   "execution_count": 31,
   "outputs": [
    {
     "data": {
      "text/plain": "10.5"
     },
     "execution_count": 31,
     "metadata": {},
     "output_type": "execute_result"
    }
   ],
   "source": [
    "avg(11)"
   ],
   "metadata": {
    "collapsed": false
   }
  },
  {
   "cell_type": "code",
   "execution_count": 32,
   "outputs": [
    {
     "data": {
      "text/plain": "12.0"
     },
     "execution_count": 32,
     "metadata": {},
     "output_type": "execute_result"
    }
   ],
   "source": [
    "avg(15)"
   ],
   "metadata": {
    "collapsed": false
   }
  },
  {
   "cell_type": "markdown",
   "source": [
    "Where does the `avg` function find the series?\n",
    "\n",
    "Within `averager`, `series` is a _free variable_. This is a technical term\n",
    "meaning a variable that is not bound in the local scope.\n",
    "\n",
    "Example 9-10. Inspecting the function created by `make_averager`"
   ],
   "metadata": {
    "collapsed": false
   }
  },
  {
   "cell_type": "code",
   "execution_count": 33,
   "outputs": [
    {
     "data": {
      "text/plain": "('new_value', 'total')"
     },
     "execution_count": 33,
     "metadata": {},
     "output_type": "execute_result"
    }
   ],
   "source": [
    "avg.__code__.co_varnames"
   ],
   "metadata": {
    "collapsed": false
   }
  },
  {
   "cell_type": "code",
   "execution_count": 34,
   "outputs": [
    {
     "data": {
      "text/plain": "('series',)"
     },
     "execution_count": 34,
     "metadata": {},
     "output_type": "execute_result"
    }
   ],
   "source": [
    "avg.__code__.co_freevars"
   ],
   "metadata": {
    "collapsed": false
   }
  },
  {
   "cell_type": "code",
   "execution_count": 35,
   "outputs": [
    {
     "ename": "AttributeError",
     "evalue": "'function' object has no attribute 'series'",
     "output_type": "error",
     "traceback": [
      "\u001B[0;31m---------------------------------------------------------------------------\u001B[0m",
      "\u001B[0;31mAttributeError\u001B[0m                            Traceback (most recent call last)",
      "Cell \u001B[0;32mIn[35], line 1\u001B[0m\n\u001B[0;32m----> 1\u001B[0m \u001B[43mavg\u001B[49m\u001B[38;5;241;43m.\u001B[39;49m\u001B[43mseries\u001B[49m\n",
      "\u001B[0;31mAttributeError\u001B[0m: 'function' object has no attribute 'series'"
     ]
    }
   ],
   "source": [
    "avg.series"
   ],
   "metadata": {
    "collapsed": false
   }
  },
  {
   "cell_type": "markdown",
   "source": [
    "Example 9-11"
   ],
   "metadata": {
    "collapsed": false
   }
  },
  {
   "cell_type": "code",
   "execution_count": 36,
   "outputs": [
    {
     "data": {
      "text/plain": "('series',)"
     },
     "execution_count": 36,
     "metadata": {},
     "output_type": "execute_result"
    }
   ],
   "source": [
    "avg.__code__.co_freevars"
   ],
   "metadata": {
    "collapsed": false
   }
  },
  {
   "cell_type": "code",
   "execution_count": 37,
   "outputs": [
    {
     "data": {
      "text/plain": "(<cell at 0x7fd0d3ce3a60: list object at 0x7fd0d41152c0>,)"
     },
     "execution_count": 37,
     "metadata": {},
     "output_type": "execute_result"
    }
   ],
   "source": [
    "avg.__closure__"
   ],
   "metadata": {
    "collapsed": false
   }
  },
  {
   "cell_type": "code",
   "execution_count": 38,
   "outputs": [
    {
     "data": {
      "text/plain": "[10, 11, 15]"
     },
     "execution_count": 38,
     "metadata": {},
     "output_type": "execute_result"
    }
   ],
   "source": [
    "avg.__closure__[0].cell_contents"
   ],
   "metadata": {
    "collapsed": false
   }
  },
  {
   "cell_type": "markdown",
   "source": [
    "A closure is a function that retains the bindings of the free variables that\n",
    "exist when teh function is defined, so that they can be used later when the\n",
    "function is invoked and the defining scope is no longer available."
   ],
   "metadata": {
    "collapsed": false
   }
  },
  {
   "cell_type": "markdown",
   "source": [
    "## The `nonlocal` Declaration\n",
    "\n",
    "The previous implementation of `make_averager` was not efficient. Instead of\n",
    "storing the list of values, we could store the total and number of items so far.\n",
    "\n",
    "Example 9-12. A broken higher-order function to calculate a running average\n",
    "without keeping all history"
   ],
   "metadata": {
    "collapsed": false
   }
  },
  {
   "cell_type": "code",
   "execution_count": 39,
   "outputs": [],
   "source": [
    "def make_averager():\n",
    "    count = 0\n",
    "    total = 0\n",
    "\n",
    "    def averager(new_value):\n",
    "        count = count + 1\n",
    "        total += new_value\n",
    "        return total / count\n",
    "\n",
    "    return averager\n"
   ],
   "metadata": {
    "collapsed": false
   }
  },
  {
   "cell_type": "code",
   "execution_count": 40,
   "outputs": [
    {
     "ename": "UnboundLocalError",
     "evalue": "local variable 'count' referenced before assignment",
     "output_type": "error",
     "traceback": [
      "\u001B[0;31m---------------------------------------------------------------------------\u001B[0m",
      "\u001B[0;31mUnboundLocalError\u001B[0m                         Traceback (most recent call last)",
      "Cell \u001B[0;32mIn[40], line 2\u001B[0m\n\u001B[1;32m      1\u001B[0m avg \u001B[38;5;241m=\u001B[39m make_averager()\n\u001B[0;32m----> 2\u001B[0m \u001B[43mavg\u001B[49m\u001B[43m(\u001B[49m\u001B[38;5;241;43m10\u001B[39;49m\u001B[43m)\u001B[49m\n",
      "Cell \u001B[0;32mIn[39], line 6\u001B[0m, in \u001B[0;36mmake_averager.<locals>.averager\u001B[0;34m(new_value)\u001B[0m\n\u001B[1;32m      5\u001B[0m \u001B[38;5;28;01mdef\u001B[39;00m \u001B[38;5;21maverager\u001B[39m(new_value):\n\u001B[0;32m----> 6\u001B[0m     count \u001B[38;5;241m=\u001B[39m \u001B[43mcount\u001B[49m \u001B[38;5;241m+\u001B[39m \u001B[38;5;241m1\u001B[39m\n\u001B[1;32m      7\u001B[0m     total \u001B[38;5;241m+\u001B[39m\u001B[38;5;241m=\u001B[39m new_value\n\u001B[1;32m      8\u001B[0m     \u001B[38;5;28;01mreturn\u001B[39;00m total \u001B[38;5;241m/\u001B[39m count\n",
      "\u001B[0;31mUnboundLocalError\u001B[0m: local variable 'count' referenced before assignment"
     ]
    }
   ],
   "source": [
    "avg = make_averager()\n",
    "avg(10)"
   ],
   "metadata": {
    "collapsed": false
   }
  },
  {
   "cell_type": "markdown",
   "source": [
    "To work around this, the `nonlocal` keyword was introduced in python 3.\n",
    "\n",
    "Example 9-13. Calculate a running average without keeping all history (fixed\n",
    "with the use of `nonlocal`)"
   ],
   "metadata": {
    "collapsed": false
   }
  },
  {
   "cell_type": "code",
   "execution_count": 41,
   "outputs": [],
   "source": [
    "def make_averager():\n",
    "    count = 0\n",
    "    total = 0\n",
    "\n",
    "    def averager(new_value):\n",
    "        nonlocal count, total\n",
    "        count += 1\n",
    "        total += new_value\n",
    "        return total / count\n",
    "\n",
    "    return averager"
   ],
   "metadata": {
    "collapsed": false
   }
  },
  {
   "cell_type": "code",
   "execution_count": 42,
   "outputs": [
    {
     "data": {
      "text/plain": "1.0"
     },
     "execution_count": 42,
     "metadata": {},
     "output_type": "execute_result"
    }
   ],
   "source": [
    "avg = make_averager()\n",
    "avg(1)"
   ],
   "metadata": {
    "collapsed": false
   }
  },
  {
   "cell_type": "code",
   "execution_count": 43,
   "outputs": [
    {
     "data": {
      "text/plain": "1.5"
     },
     "execution_count": 43,
     "metadata": {},
     "output_type": "execute_result"
    }
   ],
   "source": [
    "avg(2)"
   ],
   "metadata": {
    "collapsed": false
   }
  },
  {
   "cell_type": "code",
   "execution_count": 44,
   "outputs": [
    {
     "data": {
      "text/plain": "2.0"
     },
     "execution_count": 44,
     "metadata": {},
     "output_type": "execute_result"
    }
   ],
   "source": [
    "avg(3)"
   ],
   "metadata": {
    "collapsed": false
   }
  },
  {
   "cell_type": "markdown",
   "source": [
    "## Variable Lookup Logic\n",
    "\n",
    "When a function is defined, the Python bytecode compiler determines how to\n",
    "fetch a variable `x` that appears in it based on these rules:\n",
    "- If there is a `global x` decalaration, `x` comes from and is assigned to\n",
    "the `x` global variable module.\n",
    "- If there is a `nonlocal x` declaration, `x` comes from and is assigned to\n",
    "the `x` local variable of the nearest surrounding function where `x` is defined\n",
    "- If `x` is a parameter or is assigned a value in the function body, then `x`\n",
    " is the local variable.\n",
    " - If `x` is referenced but is not assigned and is not a parameter:\n",
    "    - `x` will be looked up in teh local scopes of the surroudning function\n",
    "  bodies (nonlocal scopes).\n",
    "    - If not found in surrounding scopes, it will be read from teh module\n",
    "    global scope\n",
    "    - If not found in the global scope, it will be read from `__builtins__\n",
    "    .__dict__`."
   ],
   "metadata": {
    "collapsed": false
   }
  },
  {
   "cell_type": "code",
   "execution_count": 45,
   "outputs": [
    {
     "ename": "SyntaxError",
     "evalue": "name 'x' is nonlocal and global (3725507329.py, line 6)",
     "output_type": "error",
     "traceback": [
      "\u001B[0;36m  Cell \u001B[0;32mIn[45], line 6\u001B[0;36m\u001B[0m\n\u001B[0;31m    global x\u001B[0m\n\u001B[0m    ^\u001B[0m\n\u001B[0;31mSyntaxError\u001B[0m\u001B[0;31m:\u001B[0m name 'x' is nonlocal and global\n"
     ]
    }
   ],
   "source": [
    "x = 5\n",
    "\n",
    "def function(a, b):\n",
    "    x = a\n",
    "    def  inner():\n",
    "        global x\n",
    "        nonlocal x\n",
    "        print(x)\n",
    "\n",
    "    return inner"
   ],
   "metadata": {
    "collapsed": false
   }
  },
  {
   "cell_type": "markdown",
   "source": [
    "## Implementing a Simple Decorator\n",
    "\n",
    "Example 9-14. `clockdeco0.py`: simple decorator to show the running time of\n",
    "functions"
   ],
   "metadata": {
    "collapsed": false
   }
  },
  {
   "cell_type": "code",
   "execution_count": 46,
   "outputs": [],
   "source": [
    "import time\n",
    "\n",
    "\n",
    "def clock(func):\n",
    "    \"\"\"\n",
    "    clock decorator\n",
    "    \"\"\"\n",
    "    def clocked(*args):  # <1>\n",
    "        t0 = time.perf_counter()\n",
    "        result = func(*args)  # <2>\n",
    "        elapsed = time.perf_counter() - t0\n",
    "        name = func.__name__\n",
    "        arg_str = ', '.join(repr(arg) for arg in args)\n",
    "        print(f'[{elapsed:0.8f}s] {name}({arg_str}) -> {result!r}')\n",
    "        return result\n",
    "    return clocked  # <3>"
   ],
   "metadata": {
    "collapsed": false
   }
  },
  {
   "cell_type": "markdown",
   "source": [
    "Example 9-15. Using the `clock` decorator"
   ],
   "metadata": {
    "collapsed": false
   }
  },
  {
   "cell_type": "code",
   "execution_count": 47,
   "outputs": [],
   "source": [
    "import time\n",
    "\n",
    "@clock\n",
    "def snooze(seconds):\n",
    "    time.sleep(seconds)\n"
   ],
   "metadata": {
    "collapsed": false
   }
  },
  {
   "cell_type": "code",
   "execution_count": 48,
   "outputs": [
    {
     "name": "stdout",
     "output_type": "stream",
     "text": [
      "**************************************** Calling snoze(.123)\n",
      "[0.12604302s] snooze(0.123) -> None\n"
     ]
    }
   ],
   "source": [
    "print(\"*\" * 40, \"Calling snoze(.123)\")\n",
    "snooze(.123)"
   ],
   "metadata": {
    "collapsed": false
   }
  },
  {
   "cell_type": "code",
   "execution_count": 49,
   "outputs": [],
   "source": [
    "@clock\n",
    "def factorial(n):\n",
    "    return 1 if n < 2 else n * factorial(n-1)"
   ],
   "metadata": {
    "collapsed": false
   }
  },
  {
   "cell_type": "code",
   "execution_count": 50,
   "outputs": [
    {
     "name": "stdout",
     "output_type": "stream",
     "text": [
      "**************************************** Calling factorial(6)\n",
      "[0.00000053s] factorial(1) -> 1\n",
      "[0.00001381s] factorial(2) -> 2\n",
      "[0.00001917s] factorial(3) -> 6\n",
      "[0.00002352s] factorial(4) -> 24\n",
      "[0.00002806s] factorial(5) -> 120\n",
      "[0.00003349s] factorial(6) -> 720\n",
      "6! = 720\n"
     ]
    }
   ],
   "source": [
    "print(\"*\" * 40, \"Calling factorial(6)\")\n",
    "print(f\"6! = {factorial(6)}\")"
   ],
   "metadata": {
    "collapsed": false
   }
  },
  {
   "cell_type": "markdown",
   "source": [
    "## How It Works"
   ],
   "metadata": {
    "collapsed": false
   }
  },
  {
   "cell_type": "code",
   "execution_count": 51,
   "outputs": [
    {
     "data": {
      "text/plain": "'clocked'"
     },
     "execution_count": 51,
     "metadata": {},
     "output_type": "execute_result"
    }
   ],
   "source": [
    "factorial.__name__"
   ],
   "metadata": {
    "collapsed": false
   }
  },
  {
   "cell_type": "markdown",
   "source": [
    "This is the typical behavior of a decorator: it replaces the decorated\n",
    "function with a new function that accepts the same arguments and (usually)\n",
    "returns whatever the decorated function was supposed to return, while also\n",
    "doing some extra processing."
   ],
   "metadata": {
    "collapsed": false
   }
  },
  {
   "cell_type": "markdown",
   "source": [
    "The `clock` decorator in 9-14 has a few shortcomings:\n",
    "- no support for keyword arguments\n",
    "- it masks the `__name__` and `__doc__` of the decorated function\n"
   ],
   "metadata": {
    "collapsed": false
   }
  },
  {
   "cell_type": "code",
   "execution_count": 52,
   "outputs": [],
   "source": [
    "@clock\n",
    "def func_with_kwargs(a = 2, b = 3):\n",
    "    \"\"\"\n",
    "    doc of func_with_kwargs\n",
    "    \"\"\"\n",
    "    return a + b\n"
   ],
   "metadata": {
    "collapsed": false
   }
  },
  {
   "cell_type": "code",
   "execution_count": 53,
   "outputs": [
    {
     "ename": "TypeError",
     "evalue": "clock.<locals>.clocked() got an unexpected keyword argument 'a'",
     "output_type": "error",
     "traceback": [
      "\u001B[0;31m---------------------------------------------------------------------------\u001B[0m",
      "\u001B[0;31mTypeError\u001B[0m                                 Traceback (most recent call last)",
      "Cell \u001B[0;32mIn[53], line 1\u001B[0m\n\u001B[0;32m----> 1\u001B[0m \u001B[43mfunc_with_kwargs\u001B[49m\u001B[43m(\u001B[49m\u001B[43ma\u001B[49m\u001B[38;5;241;43m=\u001B[39;49m\u001B[38;5;241;43m2\u001B[39;49m\u001B[43m)\u001B[49m\n",
      "\u001B[0;31mTypeError\u001B[0m: clock.<locals>.clocked() got an unexpected keyword argument 'a'"
     ]
    }
   ],
   "source": [
    "func_with_kwargs(a=2)"
   ],
   "metadata": {
    "collapsed": false
   }
  },
  {
   "cell_type": "code",
   "execution_count": 54,
   "outputs": [
    {
     "data": {
      "text/plain": "'clocked'"
     },
     "execution_count": 54,
     "metadata": {},
     "output_type": "execute_result"
    }
   ],
   "source": [
    "func_with_kwargs.__name__"
   ],
   "metadata": {
    "collapsed": false
   }
  },
  {
   "cell_type": "markdown",
   "source": [
    "`functools.wraps` fixes both of these.\n",
    "\n",
    "Example 9 - 16. `clockdeco.py`: an improved clock decorator\n"
   ],
   "metadata": {
    "collapsed": false
   }
  },
  {
   "cell_type": "code",
   "execution_count": 59,
   "outputs": [],
   "source": [
    "import time\n",
    "import functools\n",
    "\n",
    "\n",
    "def clock_better(func):\n",
    "    @functools.wraps(func)\n",
    "    def clocked(*args, **kwargs):\n",
    "        t0 = time.perf_counter()\n",
    "        result = func(*args, **kwargs)\n",
    "        elapsed = time.perf_counter() - t0\n",
    "        name = func.__name__\n",
    "        arg_lst = [repr(arg) for arg in args]\n",
    "        arg_lst.extend(f'{k}={v!r}' for k, v in kwargs.items())\n",
    "        arg_str = ', '.join(arg_lst)\n",
    "        print(f'[{elapsed:0.8f}s] {name}({arg_str}) -> {result!r}')\n",
    "        return result\n",
    "    return clocked\n"
   ],
   "metadata": {
    "collapsed": false
   }
  },
  {
   "cell_type": "code",
   "execution_count": 60,
   "outputs": [],
   "source": [
    "@clock_better\n",
    "def func_with_kwargs(a = 2, b = 3):\n",
    "    \"\"\"\n",
    "    doc of func_with_kwargs\n",
    "    \"\"\"\n",
    "    return a + b"
   ],
   "metadata": {
    "collapsed": false
   }
  },
  {
   "cell_type": "code",
   "execution_count": 61,
   "outputs": [
    {
     "name": "stdout",
     "output_type": "stream",
     "text": [
      "[0.00000148s] func_with_kwargs(a=2) -> 5\n"
     ]
    },
    {
     "data": {
      "text/plain": "5"
     },
     "execution_count": 61,
     "metadata": {},
     "output_type": "execute_result"
    }
   ],
   "source": [
    "func_with_kwargs(a=2)"
   ],
   "metadata": {
    "collapsed": false
   }
  },
  {
   "cell_type": "code",
   "execution_count": 62,
   "outputs": [
    {
     "data": {
      "text/plain": "'clocked'"
     },
     "execution_count": 62,
     "metadata": {},
     "output_type": "execute_result"
    }
   ],
   "source": [
    "func_with_kwargs.__name__"
   ],
   "metadata": {
    "collapsed": false
   }
  },
  {
   "cell_type": "markdown",
   "source": [
    "# Decorators in the Standard Library\n",
    "\n",
    "There are 3\n",
    "- `property`\n",
    "- `classmethod`\n",
    "- `staticmethod`\n",
    "\n",
    "There are more in the `functools` module, namely\n",
    "- `cache`\n",
    "- `lru_cache`\n",
    "- `singledispatch`\n",
    "\n",
    "## Memoization with functools.cache\n",
    "\n",
    "Memoization is an optimization technique that works by saving the results of\n",
    "previous invocations of an expensive function, avoiding repeat computations\n",
    "on previously used arguments.\n",
    "\n",
    "Example 9-17. The very costly recursive way to compute the nth number in the\n",
    "Fibonacci series"
   ],
   "metadata": {
    "collapsed": false
   }
  },
  {
   "cell_type": "code",
   "execution_count": 63,
   "outputs": [],
   "source": [
    "@clock_better\n",
    "def fibonacci(n):\n",
    "    if n < 2:\n",
    "        return n\n",
    "    return fibonacci(n - 2) + fibonacci(n - 1)"
   ],
   "metadata": {
    "collapsed": false
   }
  },
  {
   "cell_type": "code",
   "execution_count": 64,
   "outputs": [
    {
     "name": "stdout",
     "output_type": "stream",
     "text": [
      "[0.00000050s] fibonacci(0) -> 0\n",
      "[0.00000095s] fibonacci(1) -> 1\n",
      "[0.00024788s] fibonacci(2) -> 1\n",
      "[0.00000032s] fibonacci(1) -> 1\n",
      "[0.00000044s] fibonacci(0) -> 0\n",
      "[0.00000031s] fibonacci(1) -> 1\n",
      "[0.00001190s] fibonacci(2) -> 1\n",
      "[0.00002334s] fibonacci(3) -> 2\n",
      "[0.00028380s] fibonacci(4) -> 3\n",
      "[0.00000028s] fibonacci(1) -> 1\n",
      "[0.00000027s] fibonacci(0) -> 0\n",
      "[0.00000027s] fibonacci(1) -> 1\n",
      "[0.00001024s] fibonacci(2) -> 1\n",
      "[0.00002072s] fibonacci(3) -> 2\n",
      "[0.00000025s] fibonacci(0) -> 0\n",
      "[0.00000032s] fibonacci(1) -> 1\n",
      "[0.00001036s] fibonacci(2) -> 1\n",
      "[0.00000026s] fibonacci(1) -> 1\n",
      "[0.00000045s] fibonacci(0) -> 0\n",
      "[0.00000026s] fibonacci(1) -> 1\n",
      "[0.00001023s] fibonacci(2) -> 1\n",
      "[0.00002038s] fibonacci(3) -> 2\n",
      "[0.00004092s] fibonacci(4) -> 3\n",
      "[0.00007166s] fibonacci(5) -> 5\n",
      "[0.00036685s] fibonacci(6) -> 8\n"
     ]
    },
    {
     "data": {
      "text/plain": "8"
     },
     "execution_count": 64,
     "metadata": {},
     "output_type": "execute_result"
    }
   ],
   "source": [
    "fibonacci(6)"
   ],
   "metadata": {
    "collapsed": false
   }
  },
  {
   "cell_type": "markdown",
   "source": [
    "Example 9-18. Faster implementation using caching"
   ],
   "metadata": {
    "collapsed": false
   }
  },
  {
   "cell_type": "code",
   "execution_count": 65,
   "outputs": [],
   "source": [
    "import functools\n",
    "\n",
    "@functools.cache\n",
    "@clock_better\n",
    "def fibonacci(n):\n",
    "    if n < 2:\n",
    "        return n\n",
    "    return fibonacci(n - 2) + fibonacci(n - 1)\n"
   ],
   "metadata": {
    "collapsed": false
   }
  },
  {
   "cell_type": "code",
   "execution_count": 66,
   "outputs": [
    {
     "name": "stdout",
     "output_type": "stream",
     "text": [
      "[0.00000047s] fibonacci(0) -> 0\n",
      "[0.00000040s] fibonacci(1) -> 1\n",
      "[0.00005119s] fibonacci(2) -> 1\n",
      "[0.00000057s] fibonacci(3) -> 2\n",
      "[0.00006238s] fibonacci(4) -> 3\n",
      "[0.00000045s] fibonacci(5) -> 5\n",
      "[0.00007295s] fibonacci(6) -> 8\n"
     ]
    },
    {
     "data": {
      "text/plain": "8"
     },
     "execution_count": 66,
     "metadata": {},
     "output_type": "execute_result"
    }
   ],
   "source": [
    "fibonacci(6)"
   ],
   "metadata": {
    "collapsed": false
   }
  },
  {
   "cell_type": "markdown",
   "source": [
    "## Stacked Decorators\n",
    "\n",
    "```python\n",
    "@alpha\n",
    "@beta\n",
    "def my_fn():\n",
    "    ...\n",
    "```\n",
    "\n",
    "is the same as\n",
    "\n",
    "```python\n",
    "my_fn = alpha(beta(my_fn))\n",
    "```"
   ],
   "metadata": {
    "collapsed": false
   }
  },
  {
   "cell_type": "markdown",
   "source": [
    "`functools.cache` can consume all available memory if there is a large number\n",
    " of cache entries.\n",
    "\n",
    "It's fine for short, command-line scripts.\n",
    "\n",
    "In long-running processes, `functools.lru_cache` with a suitable `maxsize`\n",
    "parameter is more suitable."
   ],
   "metadata": {
    "collapsed": false
   }
  },
  {
   "cell_type": "markdown",
   "source": [
    "## Using `lru_cache`\n",
    "\n",
    "lru = least recently used. Older entries that have not been read for a while\n",
    "are discarded."
   ],
   "metadata": {
    "collapsed": false
   }
  },
  {
   "cell_type": "code",
   "execution_count": null,
   "outputs": [],
   "source": [
    "from functools import lru_cache\n",
    "\n",
    "@lru_cache\n",
    "def costly_function(a, b):\n",
    "    ..."
   ],
   "metadata": {
    "collapsed": false
   }
  },
  {
   "cell_type": "code",
   "execution_count": null,
   "outputs": [],
   "source": [
    "@lru_cache()\n",
    "def costly_function(a, b):\n",
    "    ..."
   ],
   "metadata": {
    "collapsed": false
   }
  },
  {
   "cell_type": "markdown",
   "source": [
    "In the two above cases, the default parameters are used."
   ],
   "metadata": {
    "collapsed": false
   }
  },
  {
   "cell_type": "code",
   "execution_count": null,
   "outputs": [],
   "source": [
    "@lru_cache(maxsize=2**20, typed=True)\n",
    "def costly_function(a, b):\n",
    "    ..."
   ],
   "metadata": {
    "collapsed": false
   }
  },
  {
   "cell_type": "markdown",
   "source": [
    "## Single Dispatch Generic Functions\n",
    "\n",
    "Imagine we are creating a tool to debug web applications. We want to generate\n",
    " HTML displays for different types of Python objects.\n",
    "\n",
    "```python\n",
    ">>> htmlize({1, 2, 3})  # <1>\n",
    "'<pre>{1, 2, 3}</pre>'\n",
    ">>> htmlize(abs)\n",
    "'<pre>&lt;built-in function abs&gt;</pre>'\n",
    ">>> htmlize('Heimlich & Co.\\n- a game')  # <2>\n",
    "'<p>Heimlich &amp; Co.<br/>\\n- a game</p>'\n",
    ">>> htmlize(42)  # <3>\n",
    "'<pre>42 (0x2a)</pre>'\n",
    ">>> print(htmlize(['alpha', 66, {3, 2, 1}]))  # <4>\n",
    "<ul>\n",
    "<li><p>alpha</p></li>\n",
    "<li><pre>66 (0x42)</pre></li>\n",
    "<li><pre>{1, 2, 3}</pre></li>\n",
    "</ul>\n",
    ">>> htmlize(True)  # <5>\n",
    "'<pre>True</pre>'\n",
    ">>> htmlize(fractions.Fraction(2, 3))  # <6>\n",
    "'<pre>2/3</pre>'\n",
    ">>> htmlize(2/3)   # <7>\n",
    "'<pre>0.6666666666666666 (2/3)</pre>'\n",
    ">>> htmlize(decimal.Decimal('0.02380952'))\n",
    "'<pre>0.02380952 (1/42)</pre>'\n",
    "```\n",
    "\n",
    "The java way to handle this would be multiple function definitions for\n",
    "`htmlize()`, each accepting a different type. But python does not support\n",
    "method overloading.\n",
    "\n",
    "A solution: turn `htmlize` into a dispatch function, with a chain of\n",
    "`if/elif` calling specialized functions like `htmlize_str`, `htmlize_int`,\n",
    "etc. But that's not extensible.\n",
    "\n",
    "The `functools.singledispatch` decorator allows for different modules to\n",
    "contribute to the overall solution.\n",
    "\n",
    "Example 9-20. `@singledispatch` creates a custom `@htmlize.register` to\n",
    "bundle several functions into a generic function"
   ],
   "metadata": {
    "collapsed": false
   }
  },
  {
   "cell_type": "code",
   "execution_count": 78,
   "outputs": [],
   "source": [
    "from functools import singledispatch\n",
    "from collections import abc\n",
    "import fractions\n",
    "import decimal\n",
    "import html\n",
    "import numbers\n",
    "\n",
    "\n",
    "@singledispatch  # <1>\n",
    "def htmlize(obj: object) -> str:\n",
    "    content = html.escape(repr(obj))\n",
    "    return f'<pre>{content}</pre>'\n",
    "\n",
    "@htmlize.register  # <2>\n",
    "def _(text: str) -> str:  # <3>\n",
    "    content = html.escape(text).replace('\\n', '<br/>\\n')\n",
    "    return f'<p>{content}</p>'\n",
    "\n",
    "@htmlize.register  # <4>\n",
    "def _(seq: abc.Sequence) -> str:\n",
    "    inner = '</li>\\n<li>'.join(htmlize(item) for item in seq)\n",
    "    return '<ul>\\n<li>' + inner + '</li>\\n</ul>'\n",
    "\n",
    "@htmlize.register  # <5>\n",
    "def _(n: numbers.Integral) -> str:\n",
    "    return f'<pre>{n} (0x{n:x})</pre>'\n",
    "\n",
    "@htmlize.register  # <6>\n",
    "def _(n: bool) -> str:\n",
    "    return f'<pre>{n}</pre>'\n",
    "\n",
    "@htmlize.register(fractions.Fraction)  # <7>\n",
    "def _(x) -> str:\n",
    "    frac = fractions.Fraction(x)\n",
    "    return f'<pre>{frac.numerator}/{frac.denominator}</pre>'\n",
    "\n",
    "@htmlize.register(decimal.Decimal)  # <8>\n",
    "@htmlize.register(float)\n",
    "def _(x) -> str:\n",
    "    frac = fractions.Fraction(x).limit_denominator()\n",
    "    return f'<pre>{x} ({frac.numerator}/{frac.denominator})</pre>'\n"
   ],
   "metadata": {
    "collapsed": false
   }
  },
  {
   "cell_type": "code",
   "execution_count": 68,
   "outputs": [
    {
     "data": {
      "text/plain": "'<p>hello</p>'"
     },
     "execution_count": 68,
     "metadata": {},
     "output_type": "execute_result"
    }
   ],
   "source": [
    "htmlize(\"hello\")"
   ],
   "metadata": {
    "collapsed": false
   }
  },
  {
   "cell_type": "code",
   "execution_count": 69,
   "outputs": [
    {
     "data": {
      "text/plain": "'<ul>\\n<li><pre>1 (0x1)</pre></li>\\n<li><pre>2 (0x2)</pre></li>\\n<li><pre>3 (0x3)</pre></li>\\n</ul>'"
     },
     "execution_count": 69,
     "metadata": {},
     "output_type": "execute_result"
    }
   ],
   "source": [
    "htmlize([1,2,3])"
   ],
   "metadata": {
    "collapsed": false
   }
  },
  {
   "cell_type": "code",
   "execution_count": 70,
   "outputs": [
    {
     "data": {
      "text/plain": "'<pre>7 (0x7)</pre>'"
     },
     "execution_count": 70,
     "metadata": {},
     "output_type": "execute_result"
    }
   ],
   "source": [
    "htmlize(7)"
   ],
   "metadata": {
    "collapsed": false
   }
  },
  {
   "cell_type": "code",
   "execution_count": 71,
   "outputs": [
    {
     "data": {
      "text/plain": "'<pre>0.5 (1/2)</pre>'"
     },
     "execution_count": 71,
     "metadata": {},
     "output_type": "execute_result"
    }
   ],
   "source": [
    "htmlize( 1/2 )"
   ],
   "metadata": {
    "collapsed": false
   }
  },
  {
   "cell_type": "code",
   "execution_count": 72,
   "outputs": [
    {
     "data": {
      "text/plain": "'<pre>0.5 (1/2)</pre>'"
     },
     "execution_count": 72,
     "metadata": {},
     "output_type": "execute_result"
    }
   ],
   "source": [
    "htmlize(.5)"
   ],
   "metadata": {
    "collapsed": false
   }
  },
  {
   "cell_type": "markdown",
   "source": [
    "## Parameterized Decorators\n",
    "\n",
    "Example 9-21. Abriged `registration.py` module from Example 9-2, repeated\n",
    "here for convenience\n"
   ],
   "metadata": {
    "collapsed": false
   }
  },
  {
   "cell_type": "code",
   "execution_count": 79,
   "outputs": [
    {
     "name": "stdout",
     "output_type": "stream",
     "text": [
      "running register(<function f1 at 0x7fd0d3b43a30>\n"
     ]
    }
   ],
   "source": [
    "registry = []\n",
    "\n",
    "def register(func):\n",
    "    print(f\"running register({func}\")\n",
    "    registry.append(func)\n",
    "    return func\n",
    "\n",
    "\n",
    "@register\n",
    "def f1():\n",
    "    print('running f1()')"
   ],
   "metadata": {
    "collapsed": false
   }
  },
  {
   "cell_type": "code",
   "execution_count": 80,
   "outputs": [
    {
     "name": "stdout",
     "output_type": "stream",
     "text": [
      "registry -> [<function f1 at 0x7fd0d3b43a30>]\n"
     ]
    }
   ],
   "source": [
    "print('registry ->', registry)"
   ],
   "metadata": {
    "collapsed": false
   }
  },
  {
   "cell_type": "markdown",
   "source": [
    "### A parameterized Registration Decorator\n",
    "\n",
    "Example 9-22. To accept parameters, the new `register` decorator must be\n",
    "called as a function"
   ],
   "metadata": {
    "collapsed": false
   }
  },
  {
   "cell_type": "code",
   "execution_count": 81,
   "outputs": [
    {
     "name": "stdout",
     "output_type": "stream",
     "text": [
      "running register(active=False)->decorate(<function f1 at 0x7fd0d4399b40>)\n",
      "running register(active=True)->decorate(<function f2 at 0x7fd0d4399ea0>)\n"
     ]
    }
   ],
   "source": [
    "registry = set()  # <1>\n",
    "\n",
    "def register(active=True):  # <2>\n",
    "    def decorate(func):  # <3>\n",
    "        print('running register'\n",
    "              f'(active={active})->decorate({func})')\n",
    "        if active:   # <4>\n",
    "            registry.add(func)\n",
    "        else:\n",
    "            registry.discard(func)  # <5>\n",
    "\n",
    "        return func  # <6>\n",
    "    return decorate  # <7>\n",
    "\n",
    "@register(active=False)  # <8>\n",
    "def f1():\n",
    "    print('running f1()')\n",
    "\n",
    "@register()  # <9>\n",
    "def f2():\n",
    "    print('running f2()')\n",
    "\n",
    "def f3():\n",
    "    print('running f3()')\n"
   ],
   "metadata": {
    "collapsed": false
   }
  },
  {
   "cell_type": "code",
   "execution_count": 82,
   "outputs": [
    {
     "data": {
      "text/plain": "{<function __main__.f2()>}"
     },
     "execution_count": 82,
     "metadata": {},
     "output_type": "execute_result"
    }
   ],
   "source": [
    "registry"
   ],
   "metadata": {
    "collapsed": false
   }
  },
  {
   "cell_type": "markdown",
   "source": [
    "Example 9-23. Using the registration_param module"
   ],
   "metadata": {
    "collapsed": false
   }
  },
  {
   "cell_type": "code",
   "execution_count": 83,
   "outputs": [
    {
     "name": "stdout",
     "output_type": "stream",
     "text": [
      "running register(active=True)->decorate(<function f3 at 0x7fd0d415d750>)\n"
     ]
    },
    {
     "data": {
      "text/plain": "<function __main__.f3()>"
     },
     "execution_count": 83,
     "metadata": {},
     "output_type": "execute_result"
    }
   ],
   "source": [
    "register()(f3)"
   ],
   "metadata": {
    "collapsed": false
   }
  },
  {
   "cell_type": "code",
   "execution_count": 84,
   "outputs": [
    {
     "data": {
      "text/plain": "{<function __main__.f2()>, <function __main__.f3()>}"
     },
     "execution_count": 84,
     "metadata": {},
     "output_type": "execute_result"
    }
   ],
   "source": [
    "registry"
   ],
   "metadata": {
    "collapsed": false
   }
  },
  {
   "cell_type": "code",
   "execution_count": 85,
   "outputs": [
    {
     "name": "stdout",
     "output_type": "stream",
     "text": [
      "running register(active=False)->decorate(<function f2 at 0x7fd0d4399ea0>)\n"
     ]
    },
    {
     "data": {
      "text/plain": "<function __main__.f2()>"
     },
     "execution_count": 85,
     "metadata": {},
     "output_type": "execute_result"
    }
   ],
   "source": [
    "register(active=False)(f2)"
   ],
   "metadata": {
    "collapsed": false
   }
  },
  {
   "cell_type": "code",
   "execution_count": 86,
   "outputs": [
    {
     "data": {
      "text/plain": "{<function __main__.f3()>}"
     },
     "execution_count": 86,
     "metadata": {},
     "output_type": "execute_result"
    }
   ],
   "source": [
    "registry"
   ],
   "metadata": {
    "collapsed": false
   }
  },
  {
   "cell_type": "markdown",
   "source": [
    "## The Parameterized Clock Decorator\n",
    "\n",
    "Example 9-24. Module `clockdeco_param.py`: the parameterized clock decorator"
   ],
   "metadata": {
    "collapsed": false
   }
  },
  {
   "cell_type": "code",
   "execution_count": 87,
   "outputs": [],
   "source": [
    "import time\n",
    "\n",
    "DEFAULT_FMT = '[{elapsed:0.8f}s] {name}({args}) -> {result}'\n",
    "\n",
    "def clock(fmt=DEFAULT_FMT):  # <1>\n",
    "    def decorate(func):      # <2>\n",
    "        def clocked(*_args): # <3>\n",
    "            t0 = time.perf_counter()\n",
    "            _result = func(*_args)  # <4>\n",
    "            elapsed = time.perf_counter() - t0\n",
    "            name = func.__name__\n",
    "            args = ', '.join(repr(arg) for arg in _args)  # <5>\n",
    "            result = repr(_result)  # <6>\n",
    "            print(fmt.format(**locals()))  # <7>\n",
    "            return _result  # <8>\n",
    "        return clocked  # <9>\n",
    "    return decorate  # <10>\n"
   ],
   "metadata": {
    "collapsed": false
   }
  },
  {
   "cell_type": "code",
   "execution_count": 88,
   "outputs": [
    {
     "name": "stdout",
     "output_type": "stream",
     "text": [
      "[0.12672099s] snooze(0.123) -> None\n",
      "[0.12593999s] snooze(0.123) -> None\n",
      "[0.12715239s] snooze(0.123) -> None\n"
     ]
    }
   ],
   "source": [
    "@clock()  # <11>\n",
    "def snooze(seconds):\n",
    "    time.sleep(seconds)\n",
    "\n",
    "for i in range(3):\n",
    "    snooze(.123)"
   ],
   "metadata": {
    "collapsed": false
   }
  },
  {
   "cell_type": "markdown",
   "source": [
    "Example 9-25. `clockdeco_param_demo1.py`"
   ],
   "metadata": {
    "collapsed": false
   }
  },
  {
   "cell_type": "code",
   "execution_count": 89,
   "outputs": [
    {
     "name": "stdout",
     "output_type": "stream",
     "text": [
      "snooze: 0.12801719899653108s\n",
      "snooze: 0.12702987400189159s\n",
      "snooze: 0.1257736420011497s\n"
     ]
    }
   ],
   "source": [
    "@clock('{name}: {elapsed}s')\n",
    "def snooze(seconds):\n",
    "    time.sleep(seconds)\n",
    "\n",
    "for i in range(3):\n",
    "    snooze(.123)"
   ],
   "metadata": {
    "collapsed": false
   }
  },
  {
   "cell_type": "markdown",
   "source": [
    "Example 9-26. `clockdeco_param_demo2.py`"
   ],
   "metadata": {
    "collapsed": false
   }
  },
  {
   "cell_type": "code",
   "execution_count": 90,
   "outputs": [
    {
     "name": "stdout",
     "output_type": "stream",
     "text": [
      "snooze(0.123) dt=0.128s\n",
      "snooze(0.123) dt=0.128s\n",
      "snooze(0.123) dt=0.127s\n"
     ]
    }
   ],
   "source": [
    "@clock('{name}({args}) dt={elapsed:0.3f}s')\n",
    "def snooze(seconds):\n",
    "    time.sleep(seconds)\n",
    "\n",
    "for i in range(3):\n",
    "    snooze(.123)"
   ],
   "metadata": {
    "collapsed": false
   }
  },
  {
   "cell_type": "markdown",
   "source": [
    "## A Class-Based Clock Decorator\n",
    "\n",
    "Example 9-27. Module `clockdeco_cls.py`: parameterized clock decorator\n",
    "implemented as a class"
   ],
   "metadata": {
    "collapsed": false
   }
  },
  {
   "cell_type": "code",
   "execution_count": 91,
   "outputs": [],
   "source": [
    "import time\n",
    "\n",
    "DEFAULT_FMT = '[{elapsed:0.8f}s] {name}({args}) -> {result}'\n",
    "\n",
    "class clock:  # <1>\n",
    "\n",
    "    def __init__(self, fmt=DEFAULT_FMT):  # <2>\n",
    "        self.fmt = fmt\n",
    "\n",
    "    def __call__(self, func):  # <3>\n",
    "        def clocked(*_args):\n",
    "            t0 = time.perf_counter()\n",
    "            _result = func(*_args)  # <4>\n",
    "            elapsed = time.perf_counter() - t0\n",
    "            name = func.__name__\n",
    "            args = ', '.join(repr(arg) for arg in _args)\n",
    "            result = repr(_result)\n",
    "            print(self.fmt.format(**locals()))\n",
    "            return _result\n",
    "        return clocked\n",
    "# end::CLOCKDECO_CLS[]\n"
   ],
   "metadata": {
    "collapsed": false
   }
  },
  {
   "cell_type": "code",
   "execution_count": 92,
   "outputs": [
    {
     "name": "stdout",
     "output_type": "stream",
     "text": [
      "[0.12748116s] snooze(0.123) -> None\n",
      "[0.12777819s] snooze(0.123) -> None\n",
      "[0.12766780s] snooze(0.123) -> None\n"
     ]
    }
   ],
   "source": [
    "@clock()\n",
    "def snooze(seconds):\n",
    "    time.sleep(seconds)\n",
    "\n",
    "for i in range(3):\n",
    "    snooze(.123)"
   ],
   "metadata": {
    "collapsed": false
   }
  },
  {
   "cell_type": "markdown",
   "source": [],
   "metadata": {
    "collapsed": false
   }
  }
 ],
 "metadata": {
  "kernelspec": {
   "display_name": "Python 3",
   "language": "python",
   "name": "python3"
  },
  "language_info": {
   "codemirror_mode": {
    "name": "ipython",
    "version": 2
   },
   "file_extension": ".py",
   "mimetype": "text/x-python",
   "name": "python",
   "nbconvert_exporter": "python",
   "pygments_lexer": "ipython2",
   "version": "2.7.6"
  }
 },
 "nbformat": 4,
 "nbformat_minor": 0
}
